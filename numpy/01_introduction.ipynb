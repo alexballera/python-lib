{
 "cells": [
  {
   "cell_type": "markdown",
   "metadata": {},
   "source": [
    "# Arrays\n"
   ]
  },
  {
   "cell_type": "markdown",
   "metadata": {},
   "source": [
    "## Arrays de 1 dimensión"
   ]
  },
  {
   "cell_type": "markdown",
   "metadata": {},
   "source": [
    "### np.array"
   ]
  },
  {
   "cell_type": "code",
   "execution_count": 1,
   "metadata": {},
   "outputs": [
    {
     "name": "stdout",
     "output_type": "stream",
     "text": [
      "Array de 1 dimensión:\n",
      "[1 2 3 4 5]\n"
     ]
    }
   ],
   "source": [
    "# Array de 1 dimensión\n",
    "import numpy as np\n",
    "\n",
    "array_1d = np.array([1, 2, 3, 4, 5])\n",
    "print(\"Array de 1 dimensión:\")\n",
    "print(array_1d)"
   ]
  },
  {
   "cell_type": "markdown",
   "metadata": {},
   "source": [
    "### np.arange"
   ]
  },
  {
   "cell_type": "code",
   "execution_count": 2,
   "metadata": {},
   "outputs": [
    {
     "name": "stdout",
     "output_type": "stream",
     "text": [
      "Ejemplos de np.arange:\n",
      "np.arange(10): [0 1 2 3 4 5 6 7 8 9]\n",
      "np.arange(2, 10): [2 3 4 5 6 7 8 9]\n",
      "np.arange(0, 21, 2): [ 0  2  4  6  8 10 12 14 16 18 20]\n",
      "np.arange(0, 1, 0.2): [0.  0.2 0.4 0.6 0.8]\n"
     ]
    }
   ],
   "source": [
    "# np.arange es una función muy útil de NumPy que crea arrays con valores espaciados uniformemente\n",
    "# dentro de un rango específico. Es similar a la función range() de Python, pero devuelve un array de NumPy.\n",
    "\n",
    "# Sintaxis: np.arange(start, stop, step)\n",
    "# - start: valor inicial (incluido)\n",
    "# - stop: valor final (no incluido)\n",
    "# - step: incremento entre valores (por defecto es 1)\n",
    "\n",
    "print(\"Ejemplos de np.arange:\")\n",
    "\n",
    "# Crear array del 0 al 9\n",
    "array_0_9 = np.arange(10)\n",
    "print(f\"np.arange(10): {array_0_9}\")\n",
    "\n",
    "# Crear array del 2 al 9\n",
    "array_2_9 = np.arange(2, 10)\n",
    "print(f\"np.arange(2, 10): {array_2_9}\")\n",
    "\n",
    "# Crear array del 0 al 20 con paso de 2\n",
    "array_pares = np.arange(0, 21, 2)\n",
    "print(f\"np.arange(0, 21, 2): {array_pares}\")\n",
    "\n",
    "# También funciona con números decimales\n",
    "array_decimal = np.arange(0, 1, 0.2)\n",
    "print(f\"np.arange(0, 1, 0.2): {array_decimal}\")"
   ]
  },
  {
   "cell_type": "markdown",
   "metadata": {},
   "source": [
    "### np.linspace"
   ]
  },
  {
   "cell_type": "code",
   "execution_count": 3,
   "metadata": {},
   "outputs": [
    {
     "name": "stdout",
     "output_type": "stream",
     "text": [
      "Ejemplos de np.linspace:\n",
      "np.linspace(0, 10, 5): [ 0.   2.5  5.   7.5 10. ]\n",
      "np.linspace(0, 1, 11): [0.  0.1 0.2 0.3 0.4 0.5 0.6 0.7 0.8 0.9 1. ]\n",
      "\n",
      "Comparación arange vs linspace:\n",
      "arange(0, 11, 2): [ 0  2  4  6  8 10]\n",
      "linspace(0, 10, 6): [ 0.  2.  4.  6.  8. 10.]\n"
     ]
    }
   ],
   "source": [
    "# np.linspace es otra función fundamental de NumPy que crea arrays con un número específico\n",
    "# de elementos espaciados uniformemente entre dos valores (incluidos ambos extremos).\n",
    "# Es muy útil cuando necesitas un número exacto de puntos en un rango.\n",
    "\n",
    "# Sintaxis: np.linspace(start, stop, num)\n",
    "# - start: valor inicial (incluido)\n",
    "# - stop: valor final (incluido)\n",
    "# - num: número de elementos a generar (por defecto es 50)\n",
    "\n",
    "print(\"Ejemplos de np.linspace:\")\n",
    "\n",
    "# Crear 5 puntos entre 0 y 10\n",
    "array_linspace_5 = np.linspace(0, 10, 5)\n",
    "print(f\"np.linspace(0, 10, 5): {array_linspace_5}\")\n",
    "\n",
    "# Crear 11 puntos entre 0 y 1\n",
    "array_linspace_11 = np.linspace(0, 1, 11)\n",
    "print(f\"np.linspace(0, 1, 11): {array_linspace_11}\")\n",
    "\n",
    "# Diferencia clave con arange:\n",
    "# - arange: especificas el PASO entre elementos\n",
    "# - linspace: especificas el NÚMERO TOTAL de elementos\n",
    "\n",
    "print(\"\\nComparación arange vs linspace:\")\n",
    "print(f\"arange(0, 11, 2): {np.arange(0, 11, 2)}\")\n",
    "print(f\"linspace(0, 10, 6): {np.linspace(0, 10, 6)}\")"
   ]
  }
 ],
 "metadata": {
  "kernelspec": {
   "display_name": ".venv",
   "language": "python",
   "name": "python3"
  },
  "language_info": {
   "codemirror_mode": {
    "name": "ipython",
    "version": 3
   },
   "file_extension": ".py",
   "mimetype": "text/x-python",
   "name": "python",
   "nbconvert_exporter": "python",
   "pygments_lexer": "ipython3",
   "version": "3.12.3"
  }
 },
 "nbformat": 4,
 "nbformat_minor": 2
}
