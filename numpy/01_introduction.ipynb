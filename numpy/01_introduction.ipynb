{
 "cells": [
  {
   "cell_type": "markdown",
   "metadata": {},
   "source": [
    "# Arrays\n"
   ]
  },
  {
   "cell_type": "markdown",
   "metadata": {},
   "source": [
    "## ¿Qué son las dimensiones en arrays?\n",
    "\n"
   ]
  },
  {
   "cell_type": "markdown",
   "metadata": {},
   "source": [
    "El concepto de \"dimensiones\" en arrays se refiere a **cuántos índices necesitas para acceder a un elemento**, no al tamaño del array:\n",
    "\n",
    "- **1 dimensión (vector)**: Solo necesitas 1 índice → `array[i]`\n",
    "- **2 dimensiones (matriz)**: Necesitas 2 índices → `array[fila, columna]`  \n",
    "- **3 dimensiones (tensor)**: Necesitas 3 índices → `array[profundidad, fila, columna]`"
   ]
  },
  {
   "cell_type": "markdown",
   "metadata": {},
   "source": [
    "## Arrays de 1 dimensión (vector)"
   ]
  },
  {
   "cell_type": "markdown",
   "metadata": {},
   "source": [
    "### np.array"
   ]
  },
  {
   "cell_type": "code",
   "execution_count": 11,
   "metadata": {},
   "outputs": [
    {
     "name": "stdout",
     "output_type": "stream",
     "text": [
      "Array de 1 dimensión:\n",
      "[1 2 3 4 5]\n"
     ]
    }
   ],
   "source": [
    "# Array de 1 dimensión\n",
    "import numpy as np\n",
    "\n",
    "array_1d = np.array([1, 2, 3, 4, 5])\n",
    "print(\"Array de 1 dimensión:\")\n",
    "print(array_1d)"
   ]
  },
  {
   "cell_type": "markdown",
   "metadata": {},
   "source": [
    "### np.arange"
   ]
  },
  {
   "cell_type": "code",
   "execution_count": 12,
   "metadata": {},
   "outputs": [
    {
     "name": "stdout",
     "output_type": "stream",
     "text": [
      "Ejemplos de np.arange:\n",
      "np.arange(10): [0 1 2 3 4 5 6 7 8 9]\n",
      "np.arange(2, 10): [2 3 4 5 6 7 8 9]\n",
      "np.arange(0, 21, 2): [ 0  2  4  6  8 10 12 14 16 18 20]\n",
      "np.arange(0, 1, 0.2): [0.  0.2 0.4 0.6 0.8]\n"
     ]
    }
   ],
   "source": [
    "# np.arange es una función muy útil de NumPy que crea arrays con valores espaciados uniformemente\n",
    "# dentro de un rango específico. Es similar a la función range() de Python, pero devuelve un array de NumPy.\n",
    "\n",
    "# Sintaxis: np.arange(start, stop, step)\n",
    "# - start: valor inicial (incluido)\n",
    "# - stop: valor final (no incluido)\n",
    "# - step: incremento entre valores (por defecto es 1)\n",
    "\n",
    "print(\"Ejemplos de np.arange:\")\n",
    "\n",
    "# Crear array del 0 al 9\n",
    "array_0_9 = np.arange(10)\n",
    "print(f\"np.arange(10): {array_0_9}\")\n",
    "\n",
    "# Crear array del 2 al 9\n",
    "array_2_9 = np.arange(2, 10)\n",
    "print(f\"np.arange(2, 10): {array_2_9}\")\n",
    "\n",
    "# Crear array del 0 al 20 con paso de 2\n",
    "array_pares = np.arange(0, 21, 2)\n",
    "print(f\"np.arange(0, 21, 2): {array_pares}\")\n",
    "\n",
    "# También funciona con números decimales\n",
    "array_decimal = np.arange(0, 1, 0.2)\n",
    "print(f\"np.arange(0, 1, 0.2): {array_decimal}\")"
   ]
  },
  {
   "cell_type": "markdown",
   "metadata": {},
   "source": [
    "### np.linspace"
   ]
  },
  {
   "cell_type": "code",
   "execution_count": 13,
   "metadata": {},
   "outputs": [
    {
     "name": "stdout",
     "output_type": "stream",
     "text": [
      "Ejemplos de np.linspace:\n",
      "np.linspace(0, 10, 5): [ 0.   2.5  5.   7.5 10. ]\n",
      "np.linspace(0, 1, 11): [0.  0.1 0.2 0.3 0.4 0.5 0.6 0.7 0.8 0.9 1. ]\n",
      "\n",
      "Comparación arange vs linspace:\n",
      "arange(0, 11, 2): [ 0  2  4  6  8 10]\n",
      "linspace(0, 10, 6): [ 0.  2.  4.  6.  8. 10.]\n"
     ]
    }
   ],
   "source": [
    "# np.linspace es otra función fundamental de NumPy que crea arrays con un número específico\n",
    "# de elementos espaciados uniformemente entre dos valores (incluidos ambos extremos).\n",
    "# Es muy útil cuando necesitas un número exacto de puntos en un rango.\n",
    "\n",
    "# Sintaxis: np.linspace(start, stop, num)\n",
    "# - start: valor inicial (incluido)\n",
    "# - stop: valor final (incluido)\n",
    "# - num: número de elementos a generar (por defecto es 50)\n",
    "\n",
    "print(\"Ejemplos de np.linspace:\")\n",
    "\n",
    "# Crear 5 puntos entre 0 y 10\n",
    "array_linspace_5 = np.linspace(0, 10, 5)\n",
    "print(f\"np.linspace(0, 10, 5): {array_linspace_5}\")\n",
    "\n",
    "# Crear 11 puntos entre 0 y 1\n",
    "array_linspace_11 = np.linspace(0, 1, 11)\n",
    "print(f\"np.linspace(0, 1, 11): {array_linspace_11}\")\n",
    "\n",
    "# Diferencia clave con arange:\n",
    "# - arange: especificas el PASO entre elementos\n",
    "# - linspace: especificas el NÚMERO TOTAL de elementos\n",
    "\n",
    "print(\"\\nComparación arange vs linspace:\")\n",
    "print(f\"arange(0, 11, 2): {np.arange(0, 11, 2)}\")\n",
    "print(f\"linspace(0, 10, 6): {np.linspace(0, 10, 6)}\")"
   ]
  },
  {
   "cell_type": "markdown",
   "metadata": {},
   "source": [
    "## Arrays de 2 dimensiones (matriz)"
   ]
  },
  {
   "cell_type": "markdown",
   "metadata": {},
   "source": [
    "### np.array"
   ]
  },
  {
   "cell_type": "code",
   "execution_count": 14,
   "metadata": {},
   "outputs": [
    {
     "name": "stdout",
     "output_type": "stream",
     "text": [
      "Array de 2 dimensiones:\n",
      "[[1 2 3]\n",
      " [4 5 6]\n",
      " [7 8 9]]\n",
      "Forma del array: (3, 3)\n",
      "Número de dimensiones: 2\n"
     ]
    }
   ],
   "source": [
    "# Array de 2 dimensiones (matriz)\n",
    "array_2d = np.array([[1, 2, 3], [4, 5, 6], [7, 8, 9]])\n",
    "print(\"Array de 2 dimensiones:\")\n",
    "print(array_2d)\n",
    "print(f\"Forma del array: {array_2d.shape}\")\n",
    "print(f\"Número de dimensiones: {array_2d.ndim}\")"
   ]
  },
  {
   "cell_type": "markdown",
   "metadata": {},
   "source": [
    "### np.eye"
   ]
  },
  {
   "cell_type": "code",
   "execution_count": 15,
   "metadata": {},
   "outputs": [
    {
     "name": "stdout",
     "output_type": "stream",
     "text": [
      "Ejemplos de np.eye:\n",
      "np.eye(3) - Matriz identidad 3x3:\n",
      "[[1. 0. 0.]\n",
      " [0. 1. 0.]\n",
      " [0. 0. 1.]]\n",
      "\n",
      "np.eye(4) - Matriz identidad 4x4:\n",
      "[[1. 0. 0. 0.]\n",
      " [0. 1. 0. 0.]\n",
      " [0. 0. 1. 0.]\n",
      " [0. 0. 0. 1.]]\n",
      "\n",
      "np.eye(3, 5) - Matriz rectangular 3x5:\n",
      "[[1. 0. 0. 0. 0.]\n",
      " [0. 1. 0. 0. 0.]\n",
      " [0. 0. 1. 0. 0.]]\n",
      "\n",
      "np.eye(4, k=1) - Diagonal superior:\n",
      "[[0. 1. 0. 0.]\n",
      " [0. 0. 1. 0.]\n",
      " [0. 0. 0. 1.]\n",
      " [0. 0. 0. 0.]]\n",
      "\n",
      "np.eye(4, k=-1) - Diagonal inferior:\n",
      "[[0. 0. 0. 0.]\n",
      " [1. 0. 0. 0.]\n",
      " [0. 1. 0. 0.]\n",
      " [0. 0. 1. 0.]]\n"
     ]
    }
   ],
   "source": [
    "# np.eye crea una matriz identidad (matriz cuadrada con 1s en la diagonal principal y 0s en el resto)\n",
    "# Es muy útil en álgebra lineal y operaciones matriciales\n",
    "\n",
    "# Sintaxis: np.eye(N, M=None, k=0)\n",
    "# - N: número de filas\n",
    "# - M: número de columnas (si no se especifica, será igual a N)\n",
    "# - k: índice de la diagonal (0 = diagonal principal, >0 = diagonal superior, <0 = diagonal inferior)\n",
    "\n",
    "print(\"Ejemplos de np.eye:\")\n",
    "\n",
    "# Matriz identidad 3x3\n",
    "matriz_identidad_3x3 = np.eye(3)\n",
    "print(\"np.eye(3) - Matriz identidad 3x3:\")\n",
    "print(matriz_identidad_3x3)\n",
    "\n",
    "# Matriz identidad 4x4\n",
    "matriz_identidad_4x4 = np.eye(4)\n",
    "print(\"\\nnp.eye(4) - Matriz identidad 4x4:\")\n",
    "print(matriz_identidad_4x4)\n",
    "\n",
    "# Matriz rectangular 3x5\n",
    "matriz_rectangular = np.eye(3, 5)\n",
    "print(\"\\nnp.eye(3, 5) - Matriz rectangular 3x5:\")\n",
    "print(matriz_rectangular)\n",
    "\n",
    "# Diagonal superior (k=1)\n",
    "matriz_diagonal_superior = np.eye(4, k=1)\n",
    "print(\"\\nnp.eye(4, k=1) - Diagonal superior:\")\n",
    "print(matriz_diagonal_superior)\n",
    "\n",
    "# Diagonal inferior (k=-1)\n",
    "matriz_diagonal_inferior = np.eye(4, k=-1)\n",
    "print(\"\\nnp.eye(4, k=-1) - Diagonal inferior:\")\n",
    "print(matriz_diagonal_inferior)"
   ]
  },
  {
   "cell_type": "markdown",
   "metadata": {},
   "source": [
    "### np.diag"
   ]
  },
  {
   "cell_type": "code",
   "execution_count": 16,
   "metadata": {},
   "outputs": [
    {
     "name": "stdout",
     "output_type": "stream",
     "text": [
      "Ejemplos de np.diag:\n",
      "np.diag([1, 5, 9, 3]) - Crear matriz diagonal:\n",
      "[[1 0 0 0]\n",
      " [0 5 0 0]\n",
      " [0 0 9 0]\n",
      " [0 0 0 3]]\n",
      "\n",
      "np.diag(array_2d) - Extraer diagonal principal: [1 5 9]\n",
      "\n",
      "np.diag([2, 4, 6], k=1) - Diagonal superior:\n",
      "[[0 2 0 0]\n",
      " [0 0 4 0]\n",
      " [0 0 0 6]\n",
      " [0 0 0 0]]\n",
      "\n",
      "np.diag([1, 3, 5], k=-1) - Diagonal inferior:\n",
      "[[0 0 0 0]\n",
      " [1 0 0 0]\n",
      " [0 3 0 0]\n",
      " [0 0 5 0]]\n",
      "\n",
      "np.diag(array_2d, k=1) - Extraer diagonal superior: [2 6]\n"
     ]
    }
   ],
   "source": [
    "# np.diag es una función versátil que puede extraer la diagonal de una matriz \n",
    "# o crear una matriz diagonal a partir de un array 1D\n",
    "\n",
    "# Sintaxis: np.diag(v, k=0)\n",
    "# - v: array de entrada (1D para crear matriz diagonal, 2D para extraer diagonal)\n",
    "# - k: índice de la diagonal (0 = diagonal principal, >0 = diagonal superior, <0 = diagonal inferior)\n",
    "\n",
    "print(\"Ejemplos de np.diag:\")\n",
    "\n",
    "# Crear matriz diagonal a partir de un array 1D\n",
    "diagonal_values = np.array([1, 5, 9, 3])\n",
    "matriz_diagonal = np.diag(diagonal_values)\n",
    "print(\"np.diag([1, 5, 9, 3]) - Crear matriz diagonal:\")\n",
    "print(matriz_diagonal)\n",
    "\n",
    "# Extraer diagonal principal de una matriz existente\n",
    "diagonal_extraida = np.diag(array_2d)\n",
    "print(f\"\\nnp.diag(array_2d) - Extraer diagonal principal: {diagonal_extraida}\")\n",
    "\n",
    "# Crear matriz con diagonal superior (k=1)\n",
    "matriz_diag_superior = np.diag([2, 4, 6], k=1)\n",
    "print(\"\\nnp.diag([2, 4, 6], k=1) - Diagonal superior:\")\n",
    "print(matriz_diag_superior)\n",
    "\n",
    "# Crear matriz con diagonal inferior (k=-1)\n",
    "matriz_diag_inferior = np.diag([1, 3, 5], k=-1)\n",
    "print(\"\\nnp.diag([1, 3, 5], k=-1) - Diagonal inferior:\")\n",
    "print(matriz_diag_inferior)\n",
    "\n",
    "# Extraer diagonal superior de matriz existente\n",
    "diagonal_superior_extraida = np.diag(array_2d, k=1)\n",
    "print(f\"\\nnp.diag(array_2d, k=1) - Extraer diagonal superior: {diagonal_superior_extraida}\")"
   ]
  },
  {
   "cell_type": "markdown",
   "metadata": {},
   "source": [
    "### np.vender"
   ]
  },
  {
   "cell_type": "code",
   "execution_count": 17,
   "metadata": {},
   "outputs": [
    {
     "name": "stdout",
     "output_type": "stream",
     "text": [
      "Ejemplos de np.vander:\n",
      "np.vander([1, 2, 3]) - Matriz de Vandermonde:\n",
      "[[1 1 1]\n",
      " [4 2 1]\n",
      " [9 3 1]]\n",
      "Cada fila contiene: [x^2, x^1, x^0]\n",
      "\n",
      "np.vander([1, 2, 3], N=4) - 4 columnas:\n",
      "[[ 1  1  1  1]\n",
      " [ 8  4  2  1]\n",
      " [27  9  3  1]]\n",
      "Cada fila contiene: [x^3, x^2, x^1, x^0]\n",
      "\n",
      "np.vander([1, 2, 3], increasing=True):\n",
      "[[1 1 1]\n",
      " [1 2 4]\n",
      " [1 3 9]]\n",
      "Cada fila contiene: [x^0, x^1, x^2]\n",
      "\n",
      "np.vander([1 2 3 4 5], N=3):\n",
      "[[ 1  1  1]\n",
      " [ 4  2  1]\n",
      " [ 9  3  1]\n",
      " [16  4  1]\n",
      " [25  5  1]]\n"
     ]
    }
   ],
   "source": [
    "# np.vander crea una matriz de Vandermonde a partir de un array 1D\n",
    "# Una matriz de Vandermonde es útil en interpolación polinómica y álgebra lineal\n",
    "\n",
    "# Sintaxis: np.vander(x, N=None, increasing=False)\n",
    "# - x: array de entrada 1D\n",
    "# - N: número de columnas (por defecto es len(x))\n",
    "# - increasing: si True, las potencias van de menor a mayor (por defecto False)\n",
    "\n",
    "print(\"Ejemplos de np.vander:\")\n",
    "\n",
    "# Matriz de Vandermonde básica\n",
    "array_simple = np.array([1, 2, 3])\n",
    "matriz_vander = np.vander(array_simple)\n",
    "print(\"np.vander([1, 2, 3]) - Matriz de Vandermonde:\")\n",
    "print(matriz_vander)\n",
    "print(\"Cada fila contiene: [x^2, x^1, x^0]\")\n",
    "\n",
    "# Con número específico de columnas\n",
    "matriz_vander_4 = np.vander(array_simple, N=4)\n",
    "print(\"\\nnp.vander([1, 2, 3], N=4) - 4 columnas:\")\n",
    "print(matriz_vander_4)\n",
    "print(\"Cada fila contiene: [x^3, x^2, x^1, x^0]\")\n",
    "\n",
    "# Con potencias crecientes\n",
    "matriz_vander_creciente = np.vander(array_simple, increasing=True)\n",
    "print(\"\\nnp.vander([1, 2, 3], increasing=True):\")\n",
    "print(matriz_vander_creciente)\n",
    "print(\"Cada fila contiene: [x^0, x^1, x^2]\")\n",
    "\n",
    "# Ejemplo con array existente\n",
    "matriz_vander_existente = np.vander(array_1d, N=3)\n",
    "print(f\"\\nnp.vander({array_1d}, N=3):\")\n",
    "print(matriz_vander_existente)"
   ]
  },
  {
   "cell_type": "markdown",
   "metadata": {},
   "source": [
    "## general ndarray creation functions"
   ]
  },
  {
   "cell_type": "code",
   "execution_count": 18,
   "metadata": {},
   "outputs": [
    {
     "name": "stdout",
     "output_type": "stream",
     "text": [
      "np.zeros(5) - Array 1D de ceros:\n",
      "[0. 0. 0. 0. 0.]\n",
      "\n",
      "np.zeros((3, 4)) - Array 2D de ceros:\n",
      "[[0. 0. 0. 0.]\n",
      " [0. 0. 0. 0.]\n",
      " [0. 0. 0. 0.]]\n"
     ]
    }
   ],
   "source": [
    "# np.zeros - crea array lleno de ceros\n",
    "print(\"np.zeros(5) - Array 1D de ceros:\")\n",
    "zeros_1d = np.zeros(5)\n",
    "print(zeros_1d)\n",
    "\n",
    "print(\"\\nnp.zeros((3, 4)) - Array 2D de ceros:\")\n",
    "zeros_2d = np.zeros((3, 4))\n",
    "print(zeros_2d)"
   ]
  },
  {
   "cell_type": "code",
   "execution_count": 19,
   "metadata": {},
   "outputs": [
    {
     "name": "stdout",
     "output_type": "stream",
     "text": [
      "\n",
      "np.ones(4) - Array 1D de unos:\n",
      "[1. 1. 1. 1.]\n",
      "\n",
      "np.ones((2, 3)) - Array 2D de unos:\n",
      "[[1. 1. 1.]\n",
      " [1. 1. 1.]]\n"
     ]
    }
   ],
   "source": [
    "# np.ones - crea array lleno de unos\n",
    "print(\"\\nnp.ones(4) - Array 1D de unos:\")\n",
    "ones_1d = np.ones(4)\n",
    "print(ones_1d)\n",
    "\n",
    "print(\"\\nnp.ones((2, 3)) - Array 2D de unos:\")\n",
    "ones_2d = np.ones((2, 3))\n",
    "print(ones_2d)"
   ]
  },
  {
   "cell_type": "code",
   "execution_count": 20,
   "metadata": {},
   "outputs": [
    {
     "name": "stdout",
     "output_type": "stream",
     "text": [
      "\n",
      "np.full(6, 7) - Array lleno de 7s:\n",
      "[7 7 7 7 7 7]\n",
      "\n",
      "np.full((2, 4), 3.5) - Array 2D lleno de 3.5s:\n",
      "[[3.5 3.5 3.5 3.5]\n",
      " [3.5 3.5 3.5 3.5]]\n"
     ]
    }
   ],
   "source": [
    "# np.full - crea array lleno de un valor específico\n",
    "print(\"\\nnp.full(6, 7) - Array lleno de 7s:\")\n",
    "full_array = np.full(6, 7)\n",
    "print(full_array)\n",
    "\n",
    "print(\"\\nnp.full((2, 4), 3.5) - Array 2D lleno de 3.5s:\")\n",
    "full_2d = np.full((2, 4), 3.5)\n",
    "print(full_2d)"
   ]
  },
  {
   "cell_type": "code",
   "execution_count": 21,
   "metadata": {},
   "outputs": [
    {
     "name": "stdout",
     "output_type": "stream",
     "text": [
      "\n",
      "np.empty(4) - Array sin inicializar:\n",
      "[1. 1. 1. 1.]\n"
     ]
    }
   ],
   "source": [
    "# np.empty - crea array sin inicializar (valores aleatorios)\n",
    "print(\"\\nnp.empty(4) - Array sin inicializar:\")\n",
    "empty_array = np.empty(4)\n",
    "print(empty_array)"
   ]
  },
  {
   "cell_type": "code",
   "execution_count": 22,
   "metadata": {},
   "outputs": [
    {
     "name": "stdout",
     "output_type": "stream",
     "text": [
      "\n",
      "np.zeros_like(array_2d) - Ceros con forma (2, 2):\n",
      "[[0 0]\n",
      " [0 0]]\n",
      "\n",
      "np.ones_like(array_1d) - Unos con forma (3,):\n",
      "[1 1 1]\n",
      "\n",
      "np.full_like(matriz_identidad_3x3, 8) - Lleno de 8s con forma (3, 3):\n",
      "[[8. 8. 8.]\n",
      " [8. 8. 8.]\n",
      " [8. 8. 8.]]\n"
     ]
    }
   ],
   "source": [
    "# np.zeros_like, np.ones_like, np.full_like - crean arrays con la misma forma que otro\n",
    "# Asumiendo que estos arrays ya existen de un código anterior\n",
    "array_1d = np.array([1, 2, 3])\n",
    "array_2d = np.array([[1, 2], [3, 4]])\n",
    "matriz_identidad_3x3 = np.identity(3)\n",
    "\n",
    "\n",
    "print(f\"\\nnp.zeros_like(array_2d) - Ceros con forma {array_2d.shape}:\")\n",
    "zeros_like = np.zeros_like(array_2d)\n",
    "print(zeros_like)\n",
    "\n",
    "print(f\"\\nnp.ones_like(array_1d) - Unos con forma {array_1d.shape}:\")\n",
    "ones_like = np.ones_like(array_1d)\n",
    "print(ones_like)\n",
    "\n",
    "print(f\"\\nnp.full_like(matriz_identidad_3x3, 8) - Lleno de 8s con forma {matriz_identidad_3x3.shape}:\")\n",
    "full_like = np.full_like(matriz_identidad_3x3, 8)\n",
    "print(full_like)"
   ]
  },
  {
   "cell_type": "code",
   "execution_count": 23,
   "metadata": {},
   "outputs": [
    {
     "name": "stdout",
     "output_type": "stream",
     "text": [
      "\n",
      "Funciones de np.random:\n",
      "np.random.rand(5) - Números aleatorios uniformes:\n",
      "[0.62096914 0.61707062 0.28460065 0.77107119 0.32641708]\n",
      "\n",
      "np.random.rand(3, 3) - Array 2D aleatorio:\n",
      "[[0.12722766 0.4087257  0.8332461 ]\n",
      " [0.4228229  0.77203486 0.56538686]\n",
      " [0.41548559 0.0413742  0.91757204]]\n",
      "\n",
      "np.random.randn(4) - Distribución normal:\n",
      "[-0.70507272  0.73975214  0.31085456  0.68203003]\n",
      "\n",
      "np.random.randint(1, 10, 6) - Enteros aleatorios entre 1 y 9:\n",
      "[6 9 6 5 8 4]\n"
     ]
    }
   ],
   "source": [
    "# np.random - genera arrays con números aleatorios\n",
    "print(\"\\nFunciones de np.random:\")\n",
    "\n",
    "# Números aleatorios uniformes entre 0 y 1\n",
    "print(\"np.random.rand(5) - Números aleatorios uniformes:\")\n",
    "random_array = np.random.rand(5)\n",
    "print(random_array)\n",
    "\n",
    "# Números aleatorios uniformes en forma 2D\n",
    "print(\"\\nnp.random.rand(3, 3) - Array 2D aleatorio:\")\n",
    "random_2d = np.random.rand(3, 3)\n",
    "print(random_2d)\n",
    "\n",
    "# Números aleatorios con distribución normal (media=0, desviación=1)\n",
    "print(\"\\nnp.random.randn(4) - Distribución normal:\")\n",
    "random_normal = np.random.randn(4)\n",
    "print(random_normal)\n",
    "\n",
    "# Enteros aleatorios en un rango\n",
    "print(\"\\nnp.random.randint(1, 10, 6) - Enteros aleatorios entre 1 y 9:\")\n",
    "random_int = np.random.randint(1, 10, 6)\n",
    "print(random_int)"
   ]
  },
  {
   "cell_type": "code",
   "execution_count": 24,
   "metadata": {},
   "outputs": [
    {
     "name": "stdout",
     "output_type": "stream",
     "text": [
      "\n",
      "Funciones de np.indices:\n",
      "np.indices((3, 4)) - Índices para grilla 3x4:\n",
      "Índices de filas:\n",
      "[[0 0 0 0]\n",
      " [1 1 1 1]\n",
      " [2 2 2 2]]\n",
      "Índices de columnas:\n",
      "[[0 1 2 3]\n",
      " [0 1 2 3]\n",
      " [0 1 2 3]]\n",
      "\n",
      "np.indices((2, 3, 2)) - Índices para grilla 2x3x2:\n",
      "Forma del resultado: (3, 2, 3, 2)\n",
      "Índices de la primera dimensión:\n",
      "[[[0 0]\n",
      "  [0 0]\n",
      "  [0 0]]\n",
      "\n",
      " [[1 1]\n",
      "  [1 1]\n",
      "  [1 1]]]\n"
     ]
    }
   ],
   "source": [
    "# np.indices - genera arrays de índices\n",
    "print(\"\\nFunciones de np.indices:\")\n",
    "\n",
    "# Indices para una grilla 2D\n",
    "print(\"np.indices((3, 4)) - Índices para grilla 3x4:\")\n",
    "indices_2d = np.indices((3, 4))\n",
    "print(\"Índices de filas:\")\n",
    "print(indices_2d[0])\n",
    "print(\"Índices de columnas:\")\n",
    "print(indices_2d[1])\n",
    "\n",
    "# Indices para una grilla 3D\n",
    "print(\"\\nnp.indices((2, 3, 2)) - Índices para grilla 2x3x2:\")\n",
    "indices_3d = np.indices((2, 3, 2))\n",
    "print(\"Forma del resultado:\", indices_3d.shape)\n",
    "print(\"Índices de la primera dimensión:\")\n",
    "print(indices_3d[0])"
   ]
  }
 ],
 "metadata": {
  "kernelspec": {
   "display_name": ".venv",
   "language": "python",
   "name": "python3"
  },
  "language_info": {
   "codemirror_mode": {
    "name": "ipython",
    "version": 3
   },
   "file_extension": ".py",
   "mimetype": "text/x-python",
   "name": "python",
   "nbconvert_exporter": "python",
   "pygments_lexer": "ipython3",
   "version": "3.12.3"
  }
 },
 "nbformat": 4,
 "nbformat_minor": 2
}
