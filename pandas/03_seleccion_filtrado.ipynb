{
 "cells": [
  {
   "cell_type": "markdown",
   "id": "36a68f6f",
   "metadata": {},
   "source": [
    "# Selección y Filtrado de Datos\n",
    "\n",
    "Este notebook cubre todas las formas de seleccionar y filtrar datos en pandas."
   ]
  },
  {
   "cell_type": "code",
   "execution_count": null,
   "id": "42e8226f",
   "metadata": {},
   "outputs": [],
   "source": [
    "import numpy as np\n",
    "import pandas as pd\n",
    "\n",
    "# Crear DataFrame de ejemplo\n",
    "np.random.seed(42)\n",
    "fechas = pd.date_range('20240101', periods=8)\n",
    "df = pd.DataFrame({\n",
    "    'A': np.random.randn(8),\n",
    "    'B': np.random.randn(8),\n",
    "    'C': np.random.randint(1, 100, 8),\n",
    "    'D': ['alto', 'bajo', 'medio', 'alto', 'bajo', 'medio', 'alto', 'bajo']\n",
    "}, index=fechas)\n",
    "\n",
    "print(\"DataFrame de ejemplo:\")\n",
    "print(df)"
   ]
  },
  {
   "cell_type": "markdown",
   "id": "8bb0bc11",
   "metadata": {},
   "source": [
    "## Selección Básica con Corchetes []"
   ]
  },
  {
   "cell_type": "code",
   "execution_count": null,
   "id": "79d8eea0",
   "metadata": {},
   "outputs": [],
   "source": [
    "# Seleccionar una columna (devuelve Serie)\n",
    "print(\"Seleccionar columna A:\")\n",
    "print(df['A'])\n",
    "print(f\"Tipo: {type(df['A'])}\")\n",
    "\n",
    "# Seleccionar múltiples columnas (devuelve DataFrame)\n",
    "print(\"\\nSeleccionar columnas A y C:\")\n",
    "print(df[['A', 'C']])\n",
    "print(f\"Tipo: {type(df[['A', 'C']])}\")"
   ]
  },
  {
   "cell_type": "code",
   "execution_count": null,
   "id": "332b90c6",
   "metadata": {},
   "outputs": [],
   "source": [
    "# Seleccionar filas por rango de índice\n",
    "print(\"Primeras 3 filas:\")\n",
    "print(df[0:3])\n",
    "\n",
    "print(\"\\nFilas por rango de fechas:\")\n",
    "print(df['20240102':'20240104'])\n",
    "\n",
    "print(\"\\nÚltimas 3 filas:\")\n",
    "print(df[-3:])"
   ]
  },
  {
   "cell_type": "markdown",
   "id": "92c5dba7",
   "metadata": {},
   "source": [
    "## Selección por Etiquetas con .loc[]"
   ]
  },
  {
   "cell_type": "code",
   "execution_count": null,
   "id": "fc41e504",
   "metadata": {},
   "outputs": [],
   "source": [
    "# Seleccionar una fila específica\n",
    "print(\"Fila del 2024-01-01:\")\n",
    "print(df.loc[fechas[0]])\n",
    "print(f\"Tipo: {type(df.loc[fechas[0]])}\")\n",
    "\n",
    "# Seleccionar filas y columnas específicas\n",
    "print(\"\\nFilas y columnas específicas:\")\n",
    "print(df.loc[fechas[0:3], ['A', 'B']])\n",
    "\n",
    "# Seleccionar todas las filas, columnas específicas\n",
    "print(\"\\nTodas las filas, columnas A y C:\")\n",
    "print(df.loc[:, ['A', 'C']])"
   ]
  },
  {
   "cell_type": "code",
   "execution_count": null,
   "id": "8318fe1c",
   "metadata": {},
   "outputs": [],
   "source": [
    "# Slicing con etiquetas (ambos extremos incluidos)\n",
    "print(\"Rango de fechas y columnas:\")\n",
    "print(df.loc['20240102':'20240104', 'A':'C'])\n",
    "\n",
    "# Seleccionar un valor específico\n",
    "valor = df.loc[fechas[0], 'A']\n",
    "print(f\"\\nValor específico: {valor}\")\n",
    "\n",
    "# Método alternativo más rápido para un valor\n",
    "valor_rapido = df.at[fechas[0], 'A']\n",
    "print(f\"Valor con .at[]: {valor_rapido}\")"
   ]
  },
  {
   "cell_type": "markdown",
   "id": "6ab834a2",
   "metadata": {},
   "source": [
    "## Selección por Posición con .iloc[]"
   ]
  },
  {
   "cell_type": "code",
   "execution_count": null,
   "id": "8d15a8b2",
   "metadata": {},
   "outputs": [],
   "source": [
    "# Seleccionar por posición de fila\n",
    "print(\"Cuarta fila (índice 3):\")\n",
    "print(df.iloc[3])\n",
    "\n",
    "# Seleccionar rango de filas y columnas\n",
    "print(\"\\nFilas 1-3, columnas 0-2:\")\n",
    "print(df.iloc[1:4, 0:3])\n",
    "\n",
    "# Seleccionar filas y columnas específicas por posición\n",
    "print(\"\\nFilas 1,3,5 y columnas 0,2:\")\n",
    "print(df.iloc[[1, 3, 5], [0, 2]])"
   ]
  },
  {
   "cell_type": "code",
   "execution_count": null,
   "id": "2e80b997",
   "metadata": {},
   "outputs": [],
   "source": [
    "# Seleccionar todas las filas, columnas específicas\n",
    "print(\"Todas las filas, columnas 1-3:\")\n",
    "print(df.iloc[:, 1:4])\n",
    "\n",
    "# Seleccionar filas específicas, todas las columnas\n",
    "print(\"\\nFilas 2-4, todas las columnas:\")\n",
    "print(df.iloc[2:5, :])\n",
    "\n",
    "# Valor específico por posición\n",
    "valor_pos = df.iloc[1, 1]\n",
    "print(f\"\\nValor en posición [1,1]: {valor_pos}\")\n",
    "\n",
    "# Método más rápido para un valor\n",
    "valor_pos_rapido = df.iat[1, 1]\n",
    "print(f\"Valor con .iat[]: {valor_pos_rapido}\")"
   ]
  },
  {
   "cell_type": "markdown",
   "id": "28e75cfa",
   "metadata": {},
   "source": [
    "## Filtrado con Condiciones Booleanas"
   ]
  },
  {
   "cell_type": "code",
   "execution_count": null,
   "id": "a025e633",
   "metadata": {},
   "outputs": [],
   "source": [
    "# Filtro simple: valores de A mayores que 0\n",
    "print(\"Filas donde A > 0:\")\n",
    "filtro_a = df['A'] > 0\n",
    "print(\"Máscara booleana:\")\n",
    "print(filtro_a)\n",
    "print(\"\\nResultado del filtro:\")\n",
    "print(df[filtro_a])"
   ]
  },
  {
   "cell_type": "code",
   "execution_count": null,
   "id": "e85b71a7",
   "metadata": {},
   "outputs": [],
   "source": [
    "# Múltiples condiciones con operadores lógicos\n",
    "print(\"Filas donde A > 0 Y B < 1:\")\n",
    "filtro_multiple = (df['A'] > 0) & (df['B'] < 1)\n",
    "print(df[filtro_multiple])\n",
    "\n",
    "print(\"\\nFilas donde A > 1 O C > 50:\")\n",
    "filtro_or = (df['A'] > 1) | (df['C'] > 50)\n",
    "print(df[filtro_or])\n",
    "\n",
    "print(\"\\nFilas donde A NO es mayor que 0:\")\n",
    "filtro_not = ~(df['A'] > 0)\n",
    "print(df[filtro_not])"
   ]
  },
  {
   "cell_type": "code",
   "execution_count": null,
   "id": "e243c5c7",
   "metadata": {},
   "outputs": [],
   "source": [
    "# Filtro con valores específicos usando .isin()\n",
    "print(\"Filas donde D es 'alto' o 'medio':\")\n",
    "filtro_isin = df['D'].isin(['alto', 'medio'])\n",
    "print(df[filtro_isin])\n",
    "\n",
    "# Filtro excluyendo valores\n",
    "print(\"\\nFilas donde D NO es 'bajo':\")\n",
    "filtro_not_isin = ~df['D'].isin(['bajo'])\n",
    "print(df[filtro_not_isin])"
   ]
  },
  {
   "cell_type": "markdown",
   "id": "ac69f1e1",
   "metadata": {},
   "source": [
    "## Filtrado Avanzado"
   ]
  },
  {
   "cell_type": "code",
   "execution_count": null,
   "id": "69b13e8f",
   "metadata": {},
   "outputs": [],
   "source": [
    "# Filtrar y seleccionar columnas específicas\n",
    "print(\"Filas donde C > 30, solo columnas A y D:\")\n",
    "resultado = df.loc[df['C'] > 30, ['A', 'D']]\n",
    "print(resultado)\n",
    "\n",
    "# Filtro con query() - más legible para condiciones complejas\n",
    "print(\"\\nUsando query() - A > 0 and C < 50:\")\n",
    "resultado_query = df.query('A > 0 and C < 50')\n",
    "print(resultado_query)\n",
    "\n",
    "print(\"\\nUsando query() con variables:\")\n",
    "umbral_a = 0.5\n",
    "umbral_c = 40\n",
    "resultado_query_var = df.query('A > @umbral_a or C > @umbral_c')\n",
    "print(resultado_query_var)"
   ]
  },
  {
   "cell_type": "markdown",
   "id": "c9d9bf02",
   "metadata": {},
   "source": [
    "## Filtrado con Valores Nulos"
   ]
  },
  {
   "cell_type": "code",
   "execution_count": null,
   "id": "fd00b9d3",
   "metadata": {},
   "outputs": [],
   "source": [
    "# Crear DataFrame con valores nulos para ejemplos\n",
    "df_con_nulos = df.copy()\n",
    "df_con_nulos.loc[fechas[1], 'A'] = np.nan\n",
    "df_con_nulos.loc[fechas[3], 'B'] = np.nan\n",
    "df_con_nulos.loc[fechas[5], 'C'] = np.nan\n",
    "\n",
    "print(\"DataFrame con valores nulos:\")\n",
    "print(df_con_nulos)\n",
    "\n",
    "print(\"\\nFilas donde A no es nulo:\")\n",
    "print(df_con_nulos[df_con_nulos['A'].notna()])\n",
    "\n",
    "print(\"\\nFilas donde hay algún valor nulo:\")\n",
    "print(df_con_nulos[df_con_nulos.isnull().any(axis=1)])\n",
    "\n",
    "print(\"\\nFilas completamente sin nulos:\")\n",
    "print(df_con_nulos[df_con_nulos.notnull().all(axis=1)])"
   ]
  }
 ],
 "metadata": {
  "language_info": {
   "name": "python"
  }
 },
 "nbformat": 4,
 "nbformat_minor": 5
}
