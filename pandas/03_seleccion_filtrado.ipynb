{
 "cells": [
  {
   "cell_type": "markdown",
   "id": "36a68f6f",
   "metadata": {},
   "source": [
    "# Selección y Filtrado de Datos\n",
    "\n",
    "Este notebook cubre todas las formas de seleccionar y filtrar datos en pandas."
   ]
  },
  {
   "cell_type": "code",
   "execution_count": 14,
   "id": "42e8226f",
   "metadata": {},
   "outputs": [
    {
     "name": "stdout",
     "output_type": "stream",
     "text": [
      "DataFrame de ejemplo:\n",
      "                   A         B   C      D\n",
      "2024-01-01  0.496714 -0.469474  59   alto\n",
      "2024-01-02 -0.138264  0.542560  42   bajo\n",
      "2024-01-03  0.647689 -0.463418  92  medio\n",
      "2024-01-04  1.523030 -0.465730  60   alto\n",
      "2024-01-05 -0.234153  0.241962  80   bajo\n",
      "2024-01-06 -0.234137 -1.913280  15  medio\n",
      "2024-01-07  1.579213 -1.724918  62   alto\n",
      "2024-01-08  0.767435 -0.562288  62   bajo\n"
     ]
    }
   ],
   "source": [
    "import numpy as np\n",
    "import pandas as pd\n",
    "\n",
    "# Crear DataFrame de ejemplo\n",
    "np.random.seed(42)\n",
    "fechas = pd.date_range('20240101', periods=8)\n",
    "df = pd.DataFrame({\n",
    "    'A': np.random.randn(8),\n",
    "    'B': np.random.randn(8),\n",
    "    'C': np.random.randint(1, 100, 8),\n",
    "    'D': ['alto', 'bajo', 'medio', 'alto', 'bajo', 'medio', 'alto', 'bajo']\n",
    "}, index=fechas)\n",
    "\n",
    "print(\"DataFrame de ejemplo:\")\n",
    "print(df)"
   ]
  },
  {
   "cell_type": "markdown",
   "id": "8bb0bc11",
   "metadata": {},
   "source": [
    "## Selección Básica con Corchetes `df[]`"
   ]
  },
  {
   "cell_type": "markdown",
   "id": "26abc03c",
   "metadata": {},
   "source": [
    "**Para COLUMNAS:**\n",
    "- **`df['columna']`** → Una columna (devuelve Serie)\n",
    "- **`df[['col1', 'col2']]`** → Múltiples columnas (devuelve DataFrame)\n",
    "\n",
    "**Para FILAS (solo con slicing):**\n",
    "- **`df[0:3]`** → Posición numérica (0 a 2, no incluye 3)\n",
    "- **`df['inicio':'fin']`** → Rango de índice (ambos incluidos)\n",
    "- **`df[-3:]`** → Últimas 3 filas\n",
    "- **`df[condicion_booleana]`** → Filtrado por condición\n",
    "\n",
    "💡 **Limitación**: Los corchetes `[]` no permiten seleccionar filas Y columnas simultáneamente."
   ]
  },
  {
   "cell_type": "code",
   "execution_count": 15,
   "id": "79d8eea0",
   "metadata": {},
   "outputs": [
    {
     "name": "stdout",
     "output_type": "stream",
     "text": [
      "Seleccionar columna A:\n",
      "2024-01-01    0.496714\n",
      "2024-01-02   -0.138264\n",
      "2024-01-03    0.647689\n",
      "2024-01-04    1.523030\n",
      "2024-01-05   -0.234153\n",
      "2024-01-06   -0.234137\n",
      "2024-01-07    1.579213\n",
      "2024-01-08    0.767435\n",
      "Freq: D, Name: A, dtype: float64\n",
      "Tipo: <class 'pandas.core.series.Series'>\n",
      "\n",
      "Seleccionar columnas A y C:\n",
      "                   A   C\n",
      "2024-01-01  0.496714  59\n",
      "2024-01-02 -0.138264  42\n",
      "2024-01-03  0.647689  92\n",
      "2024-01-04  1.523030  60\n",
      "2024-01-05 -0.234153  80\n",
      "2024-01-06 -0.234137  15\n",
      "2024-01-07  1.579213  62\n",
      "2024-01-08  0.767435  62\n",
      "Tipo: <class 'pandas.core.frame.DataFrame'>\n"
     ]
    }
   ],
   "source": [
    "# Seleccionar una columna (devuelve Serie)\n",
    "print(\"Seleccionar columna A:\")\n",
    "print(df['A'])\n",
    "print(f\"Tipo: {type(df['A'])}\")\n",
    "\n",
    "# Seleccionar múltiples columnas (devuelve DataFrame)\n",
    "print(\"\\nSeleccionar columnas A y C:\")\n",
    "print(df[['A', 'C']])\n",
    "print(f\"Tipo: {type(df[['A', 'C']])}\")"
   ]
  },
  {
   "cell_type": "code",
   "execution_count": 16,
   "id": "332b90c6",
   "metadata": {},
   "outputs": [
    {
     "name": "stdout",
     "output_type": "stream",
     "text": [
      "Primeras 3 filas:\n",
      "                   A         B   C      D\n",
      "2024-01-01  0.496714 -0.469474  59   alto\n",
      "2024-01-02 -0.138264  0.542560  42   bajo\n",
      "2024-01-03  0.647689 -0.463418  92  medio\n",
      "\n",
      "Filas por rango de fechas:\n",
      "                   A         B   C      D\n",
      "2024-01-02 -0.138264  0.542560  42   bajo\n",
      "2024-01-03  0.647689 -0.463418  92  medio\n",
      "2024-01-04  1.523030 -0.465730  60   alto\n",
      "\n",
      "Últimas 3 filas:\n",
      "                   A         B   C      D\n",
      "2024-01-06 -0.234137 -1.913280  15  medio\n",
      "2024-01-07  1.579213 -1.724918  62   alto\n",
      "2024-01-08  0.767435 -0.562288  62   bajo\n"
     ]
    }
   ],
   "source": [
    "# Seleccionar filas por rango de índice\n",
    "print(\"Primeras 3 filas:\")\n",
    "print(df[0:3])\n",
    "\n",
    "print(\"\\nFilas por rango de fechas:\")\n",
    "print(df['20240102':'20240104'])\n",
    "\n",
    "print(\"\\nÚltimas 3 filas:\")\n",
    "print(df[-3:])"
   ]
  },
  {
   "cell_type": "markdown",
   "id": "92c5dba7",
   "metadata": {},
   "source": [
    "## Selección por Etiquetas con `df.loc[]`"
   ]
  },
  {
   "cell_type": "markdown",
   "id": "4e354fc6",
   "metadata": {},
   "source": [
    "**Sintaxis básica**: `df.loc[filas, columnas]`\n",
    "\n",
    "**Selección de FILAS:**\n",
    "- **`df.loc['etiqueta']`** → Una fila específica (devuelve Serie)\n",
    "- **`df.loc['inicio':'fin']`** → Rango de etiquetas (ambos incluidos)\n",
    "- **`df.loc[['etiq1', 'etiq2']]`** → Filas específicas (devuelve DataFrame)\n",
    "- **`df.loc[condicion_booleana]`** → Filtrado por condición\n",
    "\n",
    "**Selección de FILAS Y COLUMNAS:**\n",
    "- **`df.loc[:, 'columna']`** → Todas las filas, una columna\n",
    "- **`df.loc[:, ['col1', 'col2']]`** → Todas las filas, columnas específicas\n",
    "- **`df.loc['fila', 'columna']`** → Valor específico\n",
    "- **`df.loc[condicion, ['col1', 'col2']]`** → Filtrado con columnas específicas\n",
    "\n",
    "**Acceso rápido a valor único:**\n",
    "- **`df.at['fila', 'columna']`** → Más rápido que `.loc[]` para un solo valor"
   ]
  },
  {
   "cell_type": "code",
   "execution_count": 17,
   "id": "fc41e504",
   "metadata": {},
   "outputs": [
    {
     "name": "stdout",
     "output_type": "stream",
     "text": [
      "Fila del 2024-01-01:\n",
      "A    0.496714\n",
      "B   -0.469474\n",
      "C          59\n",
      "D        alto\n",
      "Name: 2024-01-01 00:00:00, dtype: object\n",
      "Tipo: <class 'pandas.core.series.Series'>\n",
      "\n",
      "Filas y columnas específicas:\n",
      "                   A         B\n",
      "2024-01-01  0.496714 -0.469474\n",
      "2024-01-02 -0.138264  0.542560\n",
      "2024-01-03  0.647689 -0.463418\n",
      "\n",
      "Todas las filas, columnas A y C:\n",
      "                   A   C\n",
      "2024-01-01  0.496714  59\n",
      "2024-01-02 -0.138264  42\n",
      "2024-01-03  0.647689  92\n",
      "2024-01-04  1.523030  60\n",
      "2024-01-05 -0.234153  80\n",
      "2024-01-06 -0.234137  15\n",
      "2024-01-07  1.579213  62\n",
      "2024-01-08  0.767435  62\n"
     ]
    }
   ],
   "source": [
    "# Seleccionar una fila específica\n",
    "print(\"Fila del 2024-01-01:\")\n",
    "print(df.loc[fechas[0]])\n",
    "print(f\"Tipo: {type(df.loc[fechas[0]])}\")\n",
    "\n",
    "# Seleccionar filas y columnas específicas\n",
    "print(\"\\nFilas y columnas específicas:\")\n",
    "print(df.loc[fechas[0:3], ['A', 'B']])\n",
    "\n",
    "# Seleccionar todas las filas, columnas específicas\n",
    "print(\"\\nTodas las filas, columnas A y C:\")\n",
    "print(df.loc[:, ['A', 'C']])"
   ]
  },
  {
   "cell_type": "code",
   "execution_count": 20,
   "id": "8318fe1c",
   "metadata": {},
   "outputs": [
    {
     "name": "stdout",
     "output_type": "stream",
     "text": [
      "Rango de fechas y columnas:\n",
      "                   A         B   C\n",
      "2024-01-02 -0.138264  0.542560  42\n",
      "2024-01-03  0.647689 -0.463418  92\n",
      "2024-01-04  1.523030 -0.465730  60\n",
      "\n",
      "Valor específico: 0.4967141530112327\n",
      "Valor con .at[]: 0.4967141530112327\n"
     ]
    }
   ],
   "source": [
    "# Slicing con etiquetas (ambos extremos incluidos)\n",
    "print(\"Rango de fechas y columnas:\")\n",
    "print(df.loc['20240102':'20240104', 'A':'C'])\n",
    "\n",
    "# Seleccionar un valor específico\n",
    "valor = df.loc[fechas[0], 'A']\n",
    "print(f\"\\nValor específico: {valor}\")\n",
    "\n",
    "# Método alternativo más rápido para un valor\n",
    "valor_rapido = df.at[fechas[0], 'A']\n",
    "print(f\"Valor con .at[]: {valor_rapido}\")"
   ]
  },
  {
   "cell_type": "markdown",
   "id": "6ab834a2",
   "metadata": {},
   "source": [
    "## Selección por Posición con `df.iloc[]`"
   ]
  },
  {
   "cell_type": "markdown",
   "id": "4deed90c",
   "metadata": {},
   "source": [
    "**Sintaxis básica**: `df.iloc[filas, columnas]` (siempre por posición numérica)\n",
    "\n",
    "**Selección de FILAS:**\n",
    "- **`df.iloc[0]`** → Primera fila (devuelve Serie)\n",
    "- **`df.iloc[0:3]`** → Rango de posiciones (0 a 2, no incluye 3)\n",
    "- **`df.iloc[[0, 2, 4]]`** → Filas específicas por posición\n",
    "- **`df.iloc[-1]`** → Última fila\n",
    "\n",
    "**Selección de FILAS Y COLUMNAS:**\n",
    "- **`df.iloc[:, 0]`** → Todas las filas, primera columna\n",
    "- **`df.iloc[:, 0:3]`** → Todas las filas, columnas 0 a 2\n",
    "- **`df.iloc[0, 1]`** → Valor en posición específica\n",
    "- **`df.iloc[[1, 3], [0, 2]]`** → Filas y columnas específicas\n",
    "\n",
    "**Acceso rápido a valor único:**\n",
    "- **`df.iat[fila, columna]`** → Más rápido que `.iloc[]` para un solo valor\n",
    "\n",
    "💡 **Ventaja**: Siempre funciona con posiciones numéricas, independiente del tipo de índice."
   ]
  },
  {
   "cell_type": "code",
   "execution_count": 21,
   "id": "8d15a8b2",
   "metadata": {},
   "outputs": [
    {
     "name": "stdout",
     "output_type": "stream",
     "text": [
      "Cuarta fila (índice 3):\n",
      "A    1.52303\n",
      "B   -0.46573\n",
      "C         60\n",
      "D       alto\n",
      "Name: 2024-01-04 00:00:00, dtype: object\n",
      "\n",
      "Filas 1-3, columnas 0-2:\n",
      "                   A         B   C\n",
      "2024-01-02 -0.138264  0.542560  42\n",
      "2024-01-03  0.647689 -0.463418  92\n",
      "2024-01-04  1.523030 -0.465730  60\n",
      "\n",
      "Filas 1,3,5 y columnas 0,2:\n",
      "                   A   C\n",
      "2024-01-02 -0.138264  42\n",
      "2024-01-04  1.523030  60\n",
      "2024-01-06 -0.234137  15\n"
     ]
    }
   ],
   "source": [
    "# Seleccionar por posición de fila\n",
    "print(\"Cuarta fila (índice 3):\")\n",
    "print(df.iloc[3])\n",
    "\n",
    "# Seleccionar rango de filas y columnas\n",
    "print(\"\\nFilas 1-3, columnas 0-2:\")\n",
    "print(df.iloc[1:4, 0:3])\n",
    "\n",
    "# Seleccionar filas y columnas específicas por posición\n",
    "print(\"\\nFilas 1,3,5 y columnas 0,2:\")\n",
    "print(df.iloc[[1, 3, 5], [0, 2]])"
   ]
  },
  {
   "cell_type": "code",
   "execution_count": 27,
   "id": "2e80b997",
   "metadata": {},
   "outputs": [
    {
     "name": "stdout",
     "output_type": "stream",
     "text": [
      "Todas las filas, columnas 1-3:\n",
      "                   B   C      D\n",
      "2024-01-01 -0.469474  59   alto\n",
      "2024-01-02  0.542560  42   bajo\n",
      "2024-01-03 -0.463418  92  medio\n",
      "2024-01-04 -0.465730  60   alto\n",
      "2024-01-05  0.241962  80   bajo\n",
      "2024-01-06 -1.913280  15  medio\n",
      "2024-01-07 -1.724918  62   alto\n",
      "2024-01-08 -0.562288  62   bajo\n",
      "\n",
      "Filas 2-4, todas las columnas:\n",
      "                   A         B   C      D\n",
      "2024-01-03  0.647689 -0.463418  92  medio\n",
      "2024-01-04  1.523030 -0.465730  60   alto\n",
      "2024-01-05 -0.234153  0.241962  80   bajo\n",
      "\n",
      "Valor en posición [1,1]: 0.5425600435859647\n",
      "Valor con .iat[]: 0.5425600435859647\n"
     ]
    }
   ],
   "source": [
    "# Seleccionar todas las filas, columnas específicas\n",
    "print(\"Todas las filas, columnas 1-3:\")\n",
    "print(df.iloc[:, 1:4])\n",
    "\n",
    "# Seleccionar filas específicas, todas las columnas\n",
    "print(\"\\nFilas 2-4, todas las columnas:\")\n",
    "print(df.iloc[2:5, :])\n",
    "\n",
    "# Valor específico por posición\n",
    "valor_pos = df.iloc[1, 1]\n",
    "print(f\"\\nValor en posición [1,1]: {valor_pos}\")\n",
    "\n",
    "# Método más rápido para un valor\n",
    "valor_pos_rapido = df.iat[1, 1]\n",
    "print(f\"Valor con .iat[]: {valor_pos_rapido}\")"
   ]
  },
  {
   "cell_type": "markdown",
   "id": "28e75cfa",
   "metadata": {},
   "source": [
    "## Filtrado con Condiciones Booleanas"
   ]
  },
  {
   "cell_type": "code",
   "execution_count": 28,
   "id": "a025e633",
   "metadata": {},
   "outputs": [
    {
     "name": "stdout",
     "output_type": "stream",
     "text": [
      "Filas donde A > 0:\n",
      "Máscara booleana:\n",
      "2024-01-01     True\n",
      "2024-01-02    False\n",
      "2024-01-03     True\n",
      "2024-01-04     True\n",
      "2024-01-05    False\n",
      "2024-01-06    False\n",
      "2024-01-07     True\n",
      "2024-01-08     True\n",
      "Freq: D, Name: A, dtype: bool\n",
      "\n",
      "Resultado del filtro:\n",
      "                   A         B   C      D\n",
      "2024-01-01  0.496714 -0.469474  59   alto\n",
      "2024-01-03  0.647689 -0.463418  92  medio\n",
      "2024-01-04  1.523030 -0.465730  60   alto\n",
      "2024-01-07  1.579213 -1.724918  62   alto\n",
      "2024-01-08  0.767435 -0.562288  62   bajo\n"
     ]
    }
   ],
   "source": [
    "# Filtro simple: valores de A mayores que 0\n",
    "print(\"Filas donde A > 0:\")\n",
    "filtro_a = df['A'] > 0\n",
    "print(\"Máscara booleana:\")\n",
    "print(filtro_a)\n",
    "print(\"\\nResultado del filtro:\")\n",
    "print(df[filtro_a])"
   ]
  },
  {
   "cell_type": "code",
   "execution_count": 29,
   "id": "e85b71a7",
   "metadata": {},
   "outputs": [
    {
     "name": "stdout",
     "output_type": "stream",
     "text": [
      "Filas donde A > 0 Y B < 1:\n",
      "                   A         B   C      D\n",
      "2024-01-01  0.496714 -0.469474  59   alto\n",
      "2024-01-03  0.647689 -0.463418  92  medio\n",
      "2024-01-04  1.523030 -0.465730  60   alto\n",
      "2024-01-07  1.579213 -1.724918  62   alto\n",
      "2024-01-08  0.767435 -0.562288  62   bajo\n",
      "\n",
      "Filas donde A > 1 O C > 50:\n",
      "                   A         B   C      D\n",
      "2024-01-01  0.496714 -0.469474  59   alto\n",
      "2024-01-03  0.647689 -0.463418  92  medio\n",
      "2024-01-04  1.523030 -0.465730  60   alto\n",
      "2024-01-05 -0.234153  0.241962  80   bajo\n",
      "2024-01-07  1.579213 -1.724918  62   alto\n",
      "2024-01-08  0.767435 -0.562288  62   bajo\n",
      "\n",
      "Filas donde A NO es mayor que 0:\n",
      "                   A         B   C      D\n",
      "2024-01-02 -0.138264  0.542560  42   bajo\n",
      "2024-01-05 -0.234153  0.241962  80   bajo\n",
      "2024-01-06 -0.234137 -1.913280  15  medio\n"
     ]
    }
   ],
   "source": [
    "# Múltiples condiciones con operadores lógicos\n",
    "print(\"Filas donde A > 0 Y B < 1:\")\n",
    "filtro_multiple = (df['A'] > 0) & (df['B'] < 1)\n",
    "print(df[filtro_multiple])\n",
    "\n",
    "print(\"\\nFilas donde A > 1 O C > 50:\")\n",
    "filtro_or = (df['A'] > 1) | (df['C'] > 50)\n",
    "print(df[filtro_or])\n",
    "\n",
    "print(\"\\nFilas donde A NO es mayor que 0:\")\n",
    "filtro_not = ~(df['A'] > 0)\n",
    "print(df[filtro_not])"
   ]
  },
  {
   "cell_type": "code",
   "execution_count": 30,
   "id": "e243c5c7",
   "metadata": {},
   "outputs": [
    {
     "name": "stdout",
     "output_type": "stream",
     "text": [
      "Filas donde D es 'alto' o 'medio':\n",
      "                   A         B   C      D\n",
      "2024-01-01  0.496714 -0.469474  59   alto\n",
      "2024-01-03  0.647689 -0.463418  92  medio\n",
      "2024-01-04  1.523030 -0.465730  60   alto\n",
      "2024-01-06 -0.234137 -1.913280  15  medio\n",
      "2024-01-07  1.579213 -1.724918  62   alto\n",
      "\n",
      "Filas donde D NO es 'bajo':\n",
      "                   A         B   C      D\n",
      "2024-01-01  0.496714 -0.469474  59   alto\n",
      "2024-01-03  0.647689 -0.463418  92  medio\n",
      "2024-01-04  1.523030 -0.465730  60   alto\n",
      "2024-01-06 -0.234137 -1.913280  15  medio\n",
      "2024-01-07  1.579213 -1.724918  62   alto\n"
     ]
    }
   ],
   "source": [
    "# Filtro con valores específicos usando .isin()\n",
    "print(\"Filas donde D es 'alto' o 'medio':\")\n",
    "filtro_isin = df['D'].isin(['alto', 'medio'])\n",
    "print(df[filtro_isin])\n",
    "\n",
    "# Filtro excluyendo valores\n",
    "print(\"\\nFilas donde D NO es 'bajo':\")\n",
    "filtro_not_isin = ~df['D'].isin(['bajo'])\n",
    "print(df[filtro_not_isin])"
   ]
  },
  {
   "cell_type": "markdown",
   "id": "ac69f1e1",
   "metadata": {},
   "source": [
    "## Filtrado Avanzado"
   ]
  },
  {
   "cell_type": "code",
   "execution_count": 33,
   "id": "69b13e8f",
   "metadata": {},
   "outputs": [
    {
     "name": "stdout",
     "output_type": "stream",
     "text": [
      "Filas donde C > 30, solo columnas A y D:\n",
      "                   A      D\n",
      "2024-01-01  0.496714   alto\n",
      "2024-01-02 -0.138264   bajo\n",
      "2024-01-03  0.647689  medio\n",
      "2024-01-04  1.523030   alto\n",
      "2024-01-05 -0.234153   bajo\n",
      "2024-01-07  1.579213   alto\n",
      "2024-01-08  0.767435   bajo\n",
      "\n",
      "Usando query() - A > 0 and C <= 60:\n",
      "                   A         B   C     D\n",
      "2024-01-01  0.496714 -0.469474  59  alto\n",
      "2024-01-04  1.523030 -0.465730  60  alto\n",
      "\n",
      "Usando query() con variables:\n",
      "                   A         B   C      D\n",
      "2024-01-01  0.496714 -0.469474  59   alto\n",
      "2024-01-02 -0.138264  0.542560  42   bajo\n",
      "2024-01-03  0.647689 -0.463418  92  medio\n",
      "2024-01-04  1.523030 -0.465730  60   alto\n",
      "2024-01-05 -0.234153  0.241962  80   bajo\n",
      "2024-01-07  1.579213 -1.724918  62   alto\n",
      "2024-01-08  0.767435 -0.562288  62   bajo\n"
     ]
    }
   ],
   "source": [
    "# Filtrar y seleccionar columnas específicas\n",
    "print(\"Filas donde C > 30, solo columnas A y D:\")\n",
    "resultado = df.loc[df['C'] > 30, ['A', 'D']]\n",
    "print(resultado)\n",
    "\n",
    "# Filtro con query() - más legible para condiciones complejas\n",
    "print(\"\\nUsando query() - A > 0 and C <= 60:\")\n",
    "resultado_query = df.query('A > 0 and C <= 60')\n",
    "print(resultado_query)\n",
    "\n",
    "print(\"\\nUsando query() con variables:\")\n",
    "umbral_a = 0.5\n",
    "umbral_c = 40\n",
    "resultado_query_var = df.query('A > @umbral_a or C > @umbral_c')\n",
    "print(resultado_query_var)"
   ]
  },
  {
   "cell_type": "markdown",
   "id": "c9d9bf02",
   "metadata": {},
   "source": [
    "## Filtrado con Valores Nulos"
   ]
  },
  {
   "cell_type": "code",
   "execution_count": 34,
   "id": "fd00b9d3",
   "metadata": {},
   "outputs": [
    {
     "name": "stdout",
     "output_type": "stream",
     "text": [
      "DataFrame con valores nulos:\n",
      "                   A         B     C      D\n",
      "2024-01-01  0.496714 -0.469474  59.0   alto\n",
      "2024-01-02       NaN  0.542560  42.0   bajo\n",
      "2024-01-03  0.647689 -0.463418  92.0  medio\n",
      "2024-01-04  1.523030       NaN  60.0   alto\n",
      "2024-01-05 -0.234153  0.241962  80.0   bajo\n",
      "2024-01-06 -0.234137 -1.913280   NaN  medio\n",
      "2024-01-07  1.579213 -1.724918  62.0   alto\n",
      "2024-01-08  0.767435 -0.562288  62.0   bajo\n",
      "\n",
      "Filas donde A no es nulo:\n",
      "                   A         B     C      D\n",
      "2024-01-01  0.496714 -0.469474  59.0   alto\n",
      "2024-01-03  0.647689 -0.463418  92.0  medio\n",
      "2024-01-04  1.523030       NaN  60.0   alto\n",
      "2024-01-05 -0.234153  0.241962  80.0   bajo\n",
      "2024-01-06 -0.234137 -1.913280   NaN  medio\n",
      "2024-01-07  1.579213 -1.724918  62.0   alto\n",
      "2024-01-08  0.767435 -0.562288  62.0   bajo\n",
      "\n",
      "Filas donde hay algún valor nulo:\n",
      "                   A        B     C      D\n",
      "2024-01-02       NaN  0.54256  42.0   bajo\n",
      "2024-01-04  1.523030      NaN  60.0   alto\n",
      "2024-01-06 -0.234137 -1.91328   NaN  medio\n",
      "\n",
      "Filas completamente sin nulos:\n",
      "                   A         B     C      D\n",
      "2024-01-01  0.496714 -0.469474  59.0   alto\n",
      "2024-01-03  0.647689 -0.463418  92.0  medio\n",
      "2024-01-05 -0.234153  0.241962  80.0   bajo\n",
      "2024-01-07  1.579213 -1.724918  62.0   alto\n",
      "2024-01-08  0.767435 -0.562288  62.0   bajo\n"
     ]
    }
   ],
   "source": [
    "# Crear DataFrame con valores nulos para ejemplos\n",
    "df_con_nulos = df.copy()\n",
    "df_con_nulos.loc[fechas[1], 'A'] = np.nan\n",
    "df_con_nulos.loc[fechas[3], 'B'] = np.nan\n",
    "df_con_nulos.loc[fechas[5], 'C'] = np.nan\n",
    "\n",
    "print(\"DataFrame con valores nulos:\")\n",
    "print(df_con_nulos)\n",
    "\n",
    "print(\"\\nFilas donde A no es nulo:\")\n",
    "print(df_con_nulos[df_con_nulos['A'].notna()])\n",
    "\n",
    "print(\"\\nFilas donde hay algún valor nulo:\")\n",
    "print(df_con_nulos[df_con_nulos.isnull().any(axis=1)])\n",
    "\n",
    "print(\"\\nFilas completamente sin nulos:\")\n",
    "print(df_con_nulos[df_con_nulos.notnull().all(axis=1)])"
   ]
  }
 ],
 "metadata": {
  "kernelspec": {
   "display_name": ".venv",
   "language": "python",
   "name": "python3"
  },
  "language_info": {
   "codemirror_mode": {
    "name": "ipython",
    "version": 3
   },
   "file_extension": ".py",
   "mimetype": "text/x-python",
   "name": "python",
   "nbconvert_exporter": "python",
   "pygments_lexer": "ipython3",
   "version": "3.12.3"
  }
 },
 "nbformat": 4,
 "nbformat_minor": 5
}
