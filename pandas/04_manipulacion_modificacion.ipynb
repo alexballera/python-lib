{
 "cells": [
  {
   "cell_type": "markdown",
   "id": "59371b03",
   "metadata": {},
   "source": [
    "# Manipulación y Modificación de Datos\n",
    "\n",
    "Este notebook cubre cómo modificar, agregar y manipular datos en pandas."
   ]
  },
  {
   "cell_type": "code",
   "execution_count": 8,
   "id": "102dcaf6",
   "metadata": {},
   "outputs": [
    {
     "name": "stdout",
     "output_type": "stream",
     "text": [
      "DataFrame original:\n",
      "                   A         B   C      D\n",
      "2024-01-01  0.496714  1.579213  76   alto\n",
      "2024-01-02 -0.138264  0.767435  58   bajo\n",
      "2024-01-03  0.647689 -0.469474  22  medio\n",
      "2024-01-04  1.523030  0.542560  89   alto\n",
      "2024-01-05 -0.234153 -0.463418  49   bajo\n",
      "2024-01-06 -0.234137 -0.465730  91  medio\n"
     ]
    }
   ],
   "source": [
    "import numpy as np\n",
    "import pandas as pd\n",
    "\n",
    "# Crear DataFrame de ejemplo\n",
    "np.random.seed(42)\n",
    "fechas = pd.date_range('20240101', periods=6)\n",
    "df = pd.DataFrame({\n",
    "    'A': np.random.randn(6),\n",
    "    'B': np.random.randn(6),\n",
    "    'C': np.random.randint(1, 100, 6),\n",
    "    'D': ['alto', 'bajo', 'medio', 'alto', 'bajo', 'medio']\n",
    "}, index=fechas)\n",
    "\n",
    "print(\"DataFrame original:\")\n",
    "print(df)"
   ]
  },
  {
   "cell_type": "markdown",
   "id": "864f25b6",
   "metadata": {},
   "source": [
    "## Modificación de Valores Existentes"
   ]
  },
  {
   "cell_type": "code",
   "execution_count": 9,
   "id": "5a72059c",
   "metadata": {},
   "outputs": [
    {
     "name": "stdout",
     "output_type": "stream",
     "text": [
      "Después de modificar un valor específico:\n",
      "                     A         B   C     D\n",
      "2024-01-01  999.000000  1.579213  76  alto\n",
      "2024-01-02   -0.138264  0.767435  58  bajo\n",
      "\n",
      "Después de modificar con iloc:\n",
      "                     A           B   C     D\n",
      "2024-01-01  999.000000    1.579213  76  alto\n",
      "2024-01-02   -0.138264 -999.000000  58  bajo\n"
     ]
    }
   ],
   "source": [
    "# Hacer una copia para no modificar el original\n",
    "df_modificado = df.copy()\n",
    "\n",
    "# Modificar un valor específico\n",
    "df_modificado.at[fechas[0], 'A'] = 999\n",
    "print(\"Después de modificar un valor específico:\")\n",
    "print(df_modificado.head(2))\n",
    "\n",
    "# Modificar usando iloc\n",
    "df_modificado.iat[1, 1] = -999\n",
    "print(\"\\nDespués de modificar con iloc:\")\n",
    "print(df_modificado.head(2))"
   ]
  },
  {
   "cell_type": "code",
   "execution_count": 10,
   "id": "78b0932f",
   "metadata": {},
   "outputs": [
    {
     "name": "stdout",
     "output_type": "stream",
     "text": [
      "Después de duplicar valores de columna C:\n",
      "                     A           B    C      D\n",
      "2024-01-01  999.000000    1.579213  152   alto\n",
      "2024-01-02   -0.138264 -999.000000  116   bajo\n",
      "2024-01-03    0.647689   -0.469474   44  medio\n",
      "2024-01-04    1.523030    0.542560  178   alto\n",
      "2024-01-05   -0.234153   -0.463418   98   bajo\n",
      "2024-01-06   -0.234137   -0.465730  182  medio\n",
      "\n",
      "Después de asignar array a columna B:\n",
      "                     A     B    C      D\n",
      "2024-01-01  999.000000  10.0  152   alto\n",
      "2024-01-02   -0.138264  20.0  116   bajo\n",
      "2024-01-03    0.647689  30.0   44  medio\n",
      "2024-01-04    1.523030  40.0  178   alto\n",
      "2024-01-05   -0.234153  50.0   98   bajo\n",
      "2024-01-06   -0.234137  60.0  182  medio\n"
     ]
    }
   ],
   "source": [
    "# Modificar toda una columna\n",
    "df_modificado['C'] = df_modificado['C'] * 2\n",
    "print(\"Después de duplicar valores de columna C:\")\n",
    "print(df_modificado)\n",
    "\n",
    "# Modificar con array de NumPy\n",
    "df_modificado.loc[:, 'B'] = np.array([10, 20, 30, 40, 50, 60])\n",
    "print(\"\\nDespués de asignar array a columna B:\")\n",
    "print(df_modificado)"
   ]
  },
  {
   "cell_type": "markdown",
   "id": "860ed252",
   "metadata": {},
   "source": [
    "## Agregar Nuevas Columnas"
   ]
  },
  {
   "cell_type": "code",
   "execution_count": 11,
   "id": "8838cd84",
   "metadata": {},
   "outputs": [
    {
     "name": "stdout",
     "output_type": "stream",
     "text": [
      "Después de agregar columna E con valor constante:\n",
      "                     A     B    C      D    E\n",
      "2024-01-01  999.000000  10.0  152   alto  100\n",
      "2024-01-02   -0.138264  20.0  116   bajo  100\n",
      "2024-01-03    0.647689  30.0   44  medio  100\n",
      "2024-01-04    1.523030  40.0  178   alto  100\n",
      "2024-01-05   -0.234153  50.0   98   bajo  100\n",
      "2024-01-06   -0.234137  60.0  182  medio  100\n",
      "\n",
      "Después de agregar columna F (A + B):\n",
      "                     A     B    C      D    E            F\n",
      "2024-01-01  999.000000  10.0  152   alto  100  1009.000000\n",
      "2024-01-02   -0.138264  20.0  116   bajo  100    19.861736\n",
      "2024-01-03    0.647689  30.0   44  medio  100    30.647689\n",
      "2024-01-04    1.523030  40.0  178   alto  100    41.523030\n",
      "2024-01-05   -0.234153  50.0   98   bajo  100    49.765847\n",
      "2024-01-06   -0.234137  60.0  182  medio  100    59.765863\n"
     ]
    }
   ],
   "source": [
    "# Agregar columna con valor constante\n",
    "df_modificado['E'] = 100\n",
    "print(\"Después de agregar columna E con valor constante:\")\n",
    "print(df_modificado)\n",
    "\n",
    "# Agregar columna calculada\n",
    "df_modificado['F'] = df_modificado['A'] + df_modificado['B']\n",
    "print(\"\\nDespués de agregar columna F (A + B):\")\n",
    "print(df_modificado)"
   ]
  },
  {
   "cell_type": "code",
   "execution_count": 12,
   "id": "3f8e91c5",
   "metadata": {},
   "outputs": [
    {
     "name": "stdout",
     "output_type": "stream",
     "text": [
      "Después de agregar Serie como columna G:\n",
      "                     A     B    C      D    E            F  G\n",
      "2024-01-01  999.000000  10.0  152   alto  100  1009.000000  1\n",
      "2024-01-02   -0.138264  20.0  116   bajo  100    19.861736  2\n",
      "2024-01-03    0.647689  30.0   44  medio  100    30.647689  3\n",
      "2024-01-04    1.523030  40.0  178   alto  100    41.523030  4\n",
      "2024-01-05   -0.234153  50.0   98   bajo  100    49.765847  5\n",
      "2024-01-06   -0.234137  60.0  182  medio  100    59.765863  6\n",
      "\n",
      "Después de agregar Serie desalineada (nota los NaN):\n",
      "                     A     B    C      D    E            F  G     H\n",
      "2024-01-01  999.000000  10.0  152   alto  100  1009.000000  1   NaN\n",
      "2024-01-02   -0.138264  20.0  116   bajo  100    19.861736  2  10.0\n",
      "2024-01-03    0.647689  30.0   44  medio  100    30.647689  3  20.0\n",
      "2024-01-04    1.523030  40.0  178   alto  100    41.523030  4  30.0\n",
      "2024-01-05   -0.234153  50.0   98   bajo  100    49.765847  5  40.0\n",
      "2024-01-06   -0.234137  60.0  182  medio  100    59.765863  6  50.0\n"
     ]
    }
   ],
   "source": [
    "# Agregar columna con Series (se alinea automáticamente por índice)\n",
    "serie_nueva = pd.Series([1, 2, 3, 4, 5, 6], index=fechas)\n",
    "df_modificado['G'] = serie_nueva\n",
    "print(\"Después de agregar Serie como columna G:\")\n",
    "print(df_modificado)\n",
    "\n",
    "# Agregar columna con fechas desalineadas\n",
    "fechas_nuevas = pd.date_range('20240102', periods=6)\n",
    "serie_desalineada = pd.Series([10, 20, 30, 40, 50, 60], index=fechas_nuevas)\n",
    "df_modificado['H'] = serie_desalineada\n",
    "print(\"\\nDespués de agregar Serie desalineada (nota los NaN):\")\n",
    "print(df_modificado)"
   ]
  },
  {
   "cell_type": "markdown",
   "id": "4c0cfc5d",
   "metadata": {},
   "source": [
    "## Modificación Condicional"
   ]
  },
  {
   "cell_type": "code",
   "execution_count": 13,
   "id": "75a505e3",
   "metadata": {},
   "outputs": [
    {
     "name": "stdout",
     "output_type": "stream",
     "text": [
      "Después de cambiar valores positivos de A:\n",
      "                   A         B   C      D\n",
      "2024-01-01  POSITIVO  1.579213  76   alto\n",
      "2024-01-02 -0.138264  0.767435  58   bajo\n",
      "2024-01-03  POSITIVO -0.469474  22  medio\n",
      "2024-01-04  POSITIVO  0.542560  89   alto\n",
      "2024-01-05 -0.234153 -0.463418  49   bajo\n",
      "2024-01-06 -0.234137 -0.465730  91  medio\n",
      "\n",
      "Usando np.where para crear columna categórica:\n",
      "                   A         B   C      D A_categoria\n",
      "2024-01-01  0.496714  1.579213  76   alto    Positivo\n",
      "2024-01-02 -0.138264  0.767435  58   bajo    Negativo\n",
      "2024-01-03  0.647689 -0.469474  22  medio    Positivo\n",
      "2024-01-04  1.523030  0.542560  89   alto    Positivo\n",
      "2024-01-05 -0.234153 -0.463418  49   bajo    Negativo\n",
      "2024-01-06 -0.234137 -0.465730  91  medio    Negativo\n"
     ]
    },
    {
     "name": "stderr",
     "output_type": "stream",
     "text": [
      "/tmp/ipykernel_520365/1373043749.py:5: FutureWarning: Setting an item of incompatible dtype is deprecated and will raise an error in a future version of pandas. Value 'POSITIVO' has dtype incompatible with float64, please explicitly cast to a compatible dtype first.\n",
      "  df_condicional.loc[df_condicional['A'] > 0, 'A'] = 'POSITIVO'\n"
     ]
    }
   ],
   "source": [
    "# Crear nuevo DataFrame para ejemplos de modificación condicional\n",
    "df_condicional = df.copy()\n",
    "\n",
    "# Modificar valores que cumplen una condición\n",
    "df_condicional.loc[df_condicional['A'] > 0, 'A'] = 'POSITIVO'\n",
    "print(\"Después de cambiar valores positivos de A:\")\n",
    "print(df_condicional)\n",
    "\n",
    "# Restaurar para siguiente ejemplo\n",
    "df_condicional = df.copy()\n",
    "\n",
    "# Usar numpy.where para modificación condicional\n",
    "df_condicional['A_categoria'] = np.where(df_condicional['A'] > 0, 'Positivo', 'Negativo')\n",
    "print(\"\\nUsando np.where para crear columna categórica:\")\n",
    "print(df_condicional)"
   ]
  },
  {
   "cell_type": "code",
   "execution_count": 15,
   "id": "8ad34777",
   "metadata": {},
   "outputs": [
    {
     "name": "stdout",
     "output_type": "stream",
     "text": [
      "Usando np.select para múltiples condiciones:\n",
      "                   A         B   C      D A_categoria C_categoria\n",
      "2024-01-01  0.496714  1.579213  76   alto    Positivo        Alto\n",
      "2024-01-02 -0.138264  0.767435  58   bajo    Negativo       Medio\n",
      "2024-01-03  0.647689 -0.469474  22  medio    Positivo        Bajo\n",
      "2024-01-04  1.523030  0.542560  89   alto    Positivo        Alto\n",
      "2024-01-05 -0.234153 -0.463418  49   bajo    Negativo       Medio\n",
      "2024-01-06 -0.234137 -0.465730  91  medio    Negativo        Alto\n",
      "\n",
      "Usando mask para reemplazar valores negativos:\n",
      "                   A         B   C      D\n",
      "2024-01-01  0.496714  1.579213  76   alto\n",
      "2024-01-02  NEGATIVO  0.767435  58   bajo\n",
      "2024-01-03  0.647689  NEGATIVO  22  medio\n",
      "2024-01-04   1.52303   0.54256  89   alto\n",
      "2024-01-05  NEGATIVO  NEGATIVO  49   bajo\n",
      "2024-01-06  NEGATIVO  NEGATIVO  91  medio\n"
     ]
    }
   ],
   "source": [
    "# Múltiples condiciones con np.select\n",
    "condiciones = [\n",
    "    df_condicional['C'] < 30,\n",
    "    (df_condicional['C'] >= 30) & (df_condicional['C'] < 70),\n",
    "    df_condicional['C'] >= 70\n",
    "]\n",
    "valores = ['Bajo', 'Medio', 'Alto']\n",
    "df_condicional['C_categoria'] = np.select(condiciones, valores, default='Desconocido')\n",
    "\n",
    "print(\"Usando np.select para múltiples condiciones:\")\n",
    "print(df_condicional)\n",
    "\n",
    "# Modificar usando mask\n",
    "df_mask = df.copy()\n",
    "# Aplicar mask solo a columnas numéricas para evitar errores de tipo\n",
    "numeric_cols = df_mask.select_dtypes(include=[np.number]).columns\n",
    "df_mask[numeric_cols] = df_mask[numeric_cols].mask(df_mask[numeric_cols] < 0, 'NEGATIVO')\n",
    "print(\"\\nUsando mask para reemplazar valores negativos:\")\n",
    "print(df_mask)"
   ]
  },
  {
   "cell_type": "markdown",
   "id": "a7a215d2",
   "metadata": {},
   "source": [
    "## Operaciones con Where"
   ]
  },
  {
   "cell_type": "code",
   "execution_count": 19,
   "id": "971843bd",
   "metadata": {},
   "outputs": [
    {
     "name": "stdout",
     "output_type": "stream",
     "text": [
      "Usando where - conserva positivos, reemplaza negativos:\n",
      "                      A            B   C      D\n",
      "2024-01-01     0.496714     1.579213  76   alto\n",
      "2024-01-02  REEMPLAZADO     0.767435  58   bajo\n",
      "2024-01-03     0.647689  REEMPLAZADO  22  medio\n",
      "2024-01-04      1.52303      0.54256  89   alto\n",
      "2024-01-05  REEMPLAZADO  REEMPLAZADO  49   bajo\n",
      "2024-01-06  REEMPLAZADO  REEMPLAZADO  91  medio\n",
      "\n",
      "Convertir valores negativos de A en positivos:\n",
      "                   A         B   C      D\n",
      "2024-01-01  0.496714  1.579213  76   alto\n",
      "2024-01-02  0.138264  0.767435  58   bajo\n",
      "2024-01-03  0.647689 -0.469474  22  medio\n",
      "2024-01-04  1.523030  0.542560  89   alto\n",
      "2024-01-05  0.234153 -0.463418  49   bajo\n",
      "2024-01-06  0.234137 -0.465730  91  medio\n"
     ]
    }
   ],
   "source": [
    "# Crear DataFrame para ejemplos de where\n",
    "df_where = df.copy()\n",
    "\n",
    "# Where conserva valores que cumplen condición, reemplaza otros\n",
    "# Aplicar solo a columnas numéricas para evitar errores de tipo\n",
    "df_where_resultado = df_where.copy()\n",
    "numeric_cols_where = df_where.select_dtypes(include=[np.number]).columns\n",
    "df_where_resultado[numeric_cols_where] = df_where[numeric_cols_where].where(df_where[numeric_cols_where] > 0, 'REEMPLAZADO')\n",
    "print(\"Usando where - conserva positivos, reemplaza negativos:\")\n",
    "print(df_where_resultado)\n",
    "\n",
    "# Where con otra condición\n",
    "df_where2 = df_where.copy()\n",
    "df_where2['A'] = df_where2['A'].where(df_where2['A'] > 0, df_where2['A'] * -1)\n",
    "print(\"\\nConvertir valores negativos de A en positivos:\")\n",
    "print(df_where2)"
   ]
  },
  {
   "cell_type": "markdown",
   "id": "27f1814e",
   "metadata": {},
   "source": [
    "## Eliminación de Datos"
   ]
  },
  {
   "cell_type": "code",
   "execution_count": 20,
   "id": "e003efd3",
   "metadata": {},
   "outputs": [
    {
     "name": "stdout",
     "output_type": "stream",
     "text": [
      "Después de eliminar columnas E y F:\n",
      "                     A     B    C      D  G     H\n",
      "2024-01-01  999.000000  10.0  152   alto  1   NaN\n",
      "2024-01-02   -0.138264  20.0  116   bajo  2  10.0\n",
      "2024-01-03    0.647689  30.0   44  medio  3  20.0\n",
      "2024-01-04    1.523030  40.0  178   alto  4  30.0\n",
      "2024-01-05   -0.234153  50.0   98   bajo  5  40.0\n",
      "2024-01-06   -0.234137  60.0  182  medio  6  50.0\n",
      "\n",
      "Después de eliminar primeras 2 filas:\n",
      "                   A         B   C      D\n",
      "2024-01-03  0.647689 -0.469474  22  medio\n",
      "2024-01-04  1.523030  0.542560  89   alto\n",
      "2024-01-05 -0.234153 -0.463418  49   bajo\n",
      "2024-01-06 -0.234137 -0.465730  91  medio\n",
      "\n",
      "Después de usar del para eliminar columna D:\n",
      "                   A         B   C\n",
      "2024-01-01  0.496714  1.579213  76\n",
      "2024-01-02 -0.138264  0.767435  58\n",
      "2024-01-03  0.647689 -0.469474  22\n",
      "2024-01-04  1.523030  0.542560  89\n",
      "2024-01-05 -0.234153 -0.463418  49\n",
      "2024-01-06 -0.234137 -0.465730  91\n"
     ]
    }
   ],
   "source": [
    "# Eliminar columnas\n",
    "df_sin_columnas = df_modificado.drop(['E', 'F'], axis=1)\n",
    "print(\"Después de eliminar columnas E y F:\")\n",
    "print(df_sin_columnas)\n",
    "\n",
    "# Eliminar filas\n",
    "df_sin_filas = df.drop(fechas[0:2])\n",
    "print(\"\\nDespués de eliminar primeras 2 filas:\")\n",
    "print(df_sin_filas)\n",
    "\n",
    "# Eliminar con del (modifica el DataFrame original)\n",
    "df_temp = df.copy()\n",
    "del df_temp['D']\n",
    "print(\"\\nDespués de usar del para eliminar columna D:\")\n",
    "print(df_temp)"
   ]
  },
  {
   "cell_type": "markdown",
   "id": "5d0070ac",
   "metadata": {},
   "source": [
    "## Reindexación y Reorganización"
   ]
  },
  {
   "cell_type": "code",
   "execution_count": 21,
   "id": "7af63d87",
   "metadata": {},
   "outputs": [
    {
     "name": "stdout",
     "output_type": "stream",
     "text": [
      "Después de reindexar con fechas extendidas:\n",
      "                   A         B     C      D\n",
      "2023-12-30       NaN       NaN   NaN    NaN\n",
      "2023-12-31       NaN       NaN   NaN    NaN\n",
      "2024-01-01  0.496714  1.579213  76.0   alto\n",
      "2024-01-02 -0.138264  0.767435  58.0   bajo\n",
      "2024-01-03  0.647689 -0.469474  22.0  medio\n",
      "2024-01-04  1.523030  0.542560  89.0   alto\n",
      "2024-01-05 -0.234153 -0.463418  49.0   bajo\n",
      "2024-01-06 -0.234137 -0.465730  91.0  medio\n",
      "2024-01-07       NaN       NaN   NaN    NaN\n",
      "2024-01-08       NaN       NaN   NaN    NaN\n",
      "\n",
      "Reindexado con valor de relleno 0:\n",
      "                   A         B   C      D\n",
      "2023-12-30  0.000000  0.000000   0      0\n",
      "2023-12-31  0.000000  0.000000   0      0\n",
      "2024-01-01  0.496714  1.579213  76   alto\n",
      "2024-01-02 -0.138264  0.767435  58   bajo\n",
      "2024-01-03  0.647689 -0.469474  22  medio\n",
      "2024-01-04  1.523030  0.542560  89   alto\n",
      "2024-01-05 -0.234153 -0.463418  49   bajo\n",
      "2024-01-06 -0.234137 -0.465730  91  medio\n",
      "2024-01-07  0.000000  0.000000   0      0\n",
      "2024-01-08  0.000000  0.000000   0      0\n"
     ]
    }
   ],
   "source": [
    "# Reindexar con nuevos índices\n",
    "nuevas_fechas = pd.date_range('20231230', periods=10)\n",
    "df_reindexado = df.reindex(nuevas_fechas)\n",
    "print(\"Después de reindexar con fechas extendidas:\")\n",
    "print(df_reindexado)\n",
    "\n",
    "# Reindexar con valor de relleno\n",
    "df_reindexado_relleno = df.reindex(nuevas_fechas, fill_value=0)\n",
    "print(\"\\nReindexado con valor de relleno 0:\")\n",
    "print(df_reindexado_relleno)"
   ]
  },
  {
   "cell_type": "code",
   "execution_count": 22,
   "id": "f5bdd784",
   "metadata": {},
   "outputs": [
    {
     "name": "stdout",
     "output_type": "stream",
     "text": [
      "Reindexado de columnas:\n",
      "                D   C         B         A  Nueva\n",
      "2024-01-01   alto  76  1.579213  0.496714    NaN\n",
      "2024-01-02   bajo  58  0.767435 -0.138264    NaN\n",
      "2024-01-03  medio  22 -0.469474  0.647689    NaN\n",
      "2024-01-04   alto  89  0.542560  1.523030    NaN\n",
      "2024-01-05   bajo  49 -0.463418 -0.234153    NaN\n",
      "2024-01-06  medio  91 -0.465730 -0.234137    NaN\n",
      "\n",
      "Después de reset_index():\n",
      "       index         A         B   C      D\n",
      "0 2024-01-01  0.496714  1.579213  76   alto\n",
      "1 2024-01-02 -0.138264  0.767435  58   bajo\n",
      "2 2024-01-03  0.647689 -0.469474  22  medio\n",
      "3 2024-01-04  1.523030  0.542560  89   alto\n",
      "4 2024-01-05 -0.234153 -0.463418  49   bajo\n",
      "5 2024-01-06 -0.234137 -0.465730  91  medio\n",
      "\n",
      "Después de set_index('index'):\n",
      "                   A         B   C      D\n",
      "index                                    \n",
      "2024-01-01  0.496714  1.579213  76   alto\n",
      "2024-01-02 -0.138264  0.767435  58   bajo\n",
      "2024-01-03  0.647689 -0.469474  22  medio\n",
      "2024-01-04  1.523030  0.542560  89   alto\n",
      "2024-01-05 -0.234153 -0.463418  49   bajo\n",
      "2024-01-06 -0.234137 -0.465730  91  medio\n"
     ]
    }
   ],
   "source": [
    "# Reindexar columnas\n",
    "nuevas_columnas = ['D', 'C', 'B', 'A', 'Nueva']\n",
    "df_cols_reindexado = df.reindex(columns=nuevas_columnas)\n",
    "print(\"Reindexado de columnas:\")\n",
    "print(df_cols_reindexado)\n",
    "\n",
    "# Reset del índice\n",
    "df_reset = df.reset_index()\n",
    "print(\"\\nDespués de reset_index():\")\n",
    "print(df_reset)\n",
    "\n",
    "# Set index desde una columna\n",
    "df_nuevo_index = df_reset.set_index('index')\n",
    "print(\"\\nDespués de set_index('index'):\")\n",
    "print(df_nuevo_index)"
   ]
  }
 ],
 "metadata": {
  "kernelspec": {
   "display_name": ".venv",
   "language": "python",
   "name": "python3"
  },
  "language_info": {
   "codemirror_mode": {
    "name": "ipython",
    "version": 3
   },
   "file_extension": ".py",
   "mimetype": "text/x-python",
   "name": "python",
   "nbconvert_exporter": "python",
   "pygments_lexer": "ipython3",
   "version": "3.12.3"
  }
 },
 "nbformat": 4,
 "nbformat_minor": 5
}
