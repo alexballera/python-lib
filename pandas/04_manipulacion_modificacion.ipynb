{
 "cells": [
  {
   "cell_type": "markdown",
   "id": "59371b03",
   "metadata": {},
   "source": [
    "# Manipulación y Modificación de Datos\n",
    "\n",
    "Este notebook cubre cómo modificar, agregar y manipular datos en pandas."
   ]
  },
  {
   "cell_type": "code",
   "execution_count": null,
   "id": "102dcaf6",
   "metadata": {},
   "outputs": [],
   "source": [
    "import numpy as np\n",
    "import pandas as pd\n",
    "\n",
    "# Crear DataFrame de ejemplo\n",
    "np.random.seed(42)\n",
    "fechas = pd.date_range('20240101', periods=6)\n",
    "df = pd.DataFrame({\n",
    "    'A': np.random.randn(6),\n",
    "    'B': np.random.randn(6),\n",
    "    'C': np.random.randint(1, 100, 6),\n",
    "    'D': ['alto', 'bajo', 'medio', 'alto', 'bajo', 'medio']\n",
    "}, index=fechas)\n",
    "\n",
    "print(\"DataFrame original:\")\n",
    "print(df)"
   ]
  },
  {
   "cell_type": "markdown",
   "id": "864f25b6",
   "metadata": {},
   "source": [
    "## Modificación de Valores Existentes"
   ]
  },
  {
   "cell_type": "code",
   "execution_count": null,
   "id": "5a72059c",
   "metadata": {},
   "outputs": [],
   "source": [
    "# Hacer una copia para no modificar el original\n",
    "df_modificado = df.copy()\n",
    "\n",
    "# Modificar un valor específico\n",
    "df_modificado.at[fechas[0], 'A'] = 999\n",
    "print(\"Después de modificar un valor específico:\")\n",
    "print(df_modificado.head(2))\n",
    "\n",
    "# Modificar usando iloc\n",
    "df_modificado.iat[1, 1] = -999\n",
    "print(\"\\nDespués de modificar con iloc:\")\n",
    "print(df_modificado.head(2))"
   ]
  },
  {
   "cell_type": "code",
   "execution_count": null,
   "id": "78b0932f",
   "metadata": {},
   "outputs": [],
   "source": [
    "# Modificar toda una columna\n",
    "df_modificado['C'] = df_modificado['C'] * 2\n",
    "print(\"Después de duplicar valores de columna C:\")\n",
    "print(df_modificado)\n",
    "\n",
    "# Modificar con array de NumPy\n",
    "df_modificado.loc[:, 'B'] = np.array([10, 20, 30, 40, 50, 60])\n",
    "print(\"\\nDespués de asignar array a columna B:\")\n",
    "print(df_modificado)"
   ]
  },
  {
   "cell_type": "markdown",
   "id": "860ed252",
   "metadata": {},
   "source": [
    "## Agregar Nuevas Columnas"
   ]
  },
  {
   "cell_type": "code",
   "execution_count": null,
   "id": "8838cd84",
   "metadata": {},
   "outputs": [],
   "source": [
    "# Agregar columna con valor constante\n",
    "df_modificado['E'] = 100\n",
    "print(\"Después de agregar columna E con valor constante:\")\n",
    "print(df_modificado)\n",
    "\n",
    "# Agregar columna calculada\n",
    "df_modificado['F'] = df_modificado['A'] + df_modificado['B']\n",
    "print(\"\\nDespués de agregar columna F (A + B):\")\n",
    "print(df_modificado)"
   ]
  },
  {
   "cell_type": "code",
   "execution_count": null,
   "id": "3f8e91c5",
   "metadata": {},
   "outputs": [],
   "source": [
    "# Agregar columna con Series (se alinea automáticamente por índice)\n",
    "serie_nueva = pd.Series([1, 2, 3, 4, 5, 6], index=fechas)\n",
    "df_modificado['G'] = serie_nueva\n",
    "print(\"Después de agregar Serie como columna G:\")\n",
    "print(df_modificado)\n",
    "\n",
    "# Agregar columna con fechas desalineadas\n",
    "fechas_nuevas = pd.date_range('20240102', periods=6)\n",
    "serie_desalineada = pd.Series([10, 20, 30, 40, 50, 60], index=fechas_nuevas)\n",
    "df_modificado['H'] = serie_desalineada\n",
    "print(\"\\nDespués de agregar Serie desalineada (nota los NaN):\")\n",
    "print(df_modificado)"
   ]
  },
  {
   "cell_type": "markdown",
   "id": "4c0cfc5d",
   "metadata": {},
   "source": [
    "## Modificación Condicional"
   ]
  },
  {
   "cell_type": "code",
   "execution_count": null,
   "id": "75a505e3",
   "metadata": {},
   "outputs": [],
   "source": [
    "# Crear nuevo DataFrame para ejemplos de modificación condicional\n",
    "df_condicional = df.copy()\n",
    "\n",
    "# Modificar valores que cumplen una condición\n",
    "df_condicional.loc[df_condicional['A'] > 0, 'A'] = 'POSITIVO'\n",
    "print(\"Después de cambiar valores positivos de A:\")\n",
    "print(df_condicional)\n",
    "\n",
    "# Restaurar para siguiente ejemplo\n",
    "df_condicional = df.copy()\n",
    "\n",
    "# Usar numpy.where para modificación condicional\n",
    "df_condicional['A_categoria'] = np.where(df_condicional['A'] > 0, 'Positivo', 'Negativo')\n",
    "print(\"\\nUsando np.where para crear columna categórica:\")\n",
    "print(df_condicional)"
   ]
  },
  {
   "cell_type": "code",
   "execution_count": null,
   "id": "8ad34777",
   "metadata": {},
   "outputs": [],
   "source": [
    "# Múltiples condiciones con np.select\n",
    "condiciones = [\n",
    "    df_condicional['C'] < 30,\n",
    "    (df_condicional['C'] >= 30) & (df_condicional['C'] < 70),\n",
    "    df_condicional['C'] >= 70\n",
    "]\n",
    "valores = ['Bajo', 'Medio', 'Alto']\n",
    "df_condicional['C_categoria'] = np.select(condiciones, valores, default='Desconocido')\n",
    "\n",
    "print(\"Usando np.select para múltiples condiciones:\")\n",
    "print(df_condicional)\n",
    "\n",
    "# Modificar usando mask\n",
    "df_mask = df.copy()\n",
    "df_mask = df_mask.mask(df_mask < 0, 'NEGATIVO')\n",
    "print(\"\\nUsando mask para reemplazar valores negativos:\")\n",
    "print(df_mask)"
   ]
  },
  {
   "cell_type": "markdown",
   "id": "a7a215d2",
   "metadata": {},
   "source": [
    "## Operaciones con Where"
   ]
  },
  {
   "cell_type": "code",
   "execution_count": null,
   "id": "971843bd",
   "metadata": {},
   "outputs": [],
   "source": [
    "# Crear DataFrame para ejemplos de where\n",
    "df_where = df.copy()\n",
    "\n",
    "# Where conserva valores que cumplen condición, reemplaza otros\n",
    "df_where_resultado = df_where.where(df_where > 0, 'REEMPLAZADO')\n",
    "print(\"Usando where - conserva positivos, reemplaza negativos:\")\n",
    "print(df_where_resultado)\n",
    "\n",
    "# Where con otra condición\n",
    "df_where2 = df_where.copy()\n",
    "df_where2['A'] = df_where2['A'].where(df_where2['A'] > 0, df_where2['A'] * -1)\n",
    "print(\"\\nConvertir valores negativos de A en positivos:\")\n",
    "print(df_where2)"
   ]
  },
  {
   "cell_type": "markdown",
   "id": "27f1814e",
   "metadata": {},
   "source": [
    "## Eliminación de Datos"
   ]
  },
  {
   "cell_type": "code",
   "execution_count": null,
   "id": "e003efd3",
   "metadata": {},
   "outputs": [],
   "source": [
    "# Eliminar columnas\n",
    "df_sin_columnas = df_modificado.drop(['E', 'F'], axis=1)\n",
    "print(\"Después de eliminar columnas E y F:\")\n",
    "print(df_sin_columnas)\n",
    "\n",
    "# Eliminar filas\n",
    "df_sin_filas = df.drop(fechas[0:2])\n",
    "print(\"\\nDespués de eliminar primeras 2 filas:\")\n",
    "print(df_sin_filas)\n",
    "\n",
    "# Eliminar con del (modifica el DataFrame original)\n",
    "df_temp = df.copy()\n",
    "del df_temp['D']\n",
    "print(\"\\nDespués de usar del para eliminar columna D:\")\n",
    "print(df_temp)"
   ]
  },
  {
   "cell_type": "markdown",
   "id": "5d0070ac",
   "metadata": {},
   "source": [
    "## Reindexación y Reorganización"
   ]
  },
  {
   "cell_type": "code",
   "execution_count": null,
   "id": "7af63d87",
   "metadata": {},
   "outputs": [],
   "source": [
    "# Reindexar con nuevos índices\n",
    "nuevas_fechas = pd.date_range('20231230', periods=10)\n",
    "df_reindexado = df.reindex(nuevas_fechas)\n",
    "print(\"Después de reindexar con fechas extendidas:\")\n",
    "print(df_reindexado)\n",
    "\n",
    "# Reindexar con valor de relleno\n",
    "df_reindexado_relleno = df.reindex(nuevas_fechas, fill_value=0)\n",
    "print(\"\\nReindexado con valor de relleno 0:\")\n",
    "print(df_reindexado_relleno)"
   ]
  },
  {
   "cell_type": "code",
   "execution_count": null,
   "id": "f5bdd784",
   "metadata": {},
   "outputs": [],
   "source": [
    "# Reindexar columnas\n",
    "nuevas_columnas = ['D', 'C', 'B', 'A', 'Nueva']\n",
    "df_cols_reindexado = df.reindex(columns=nuevas_columnas)\n",
    "print(\"Reindexado de columnas:\")\n",
    "print(df_cols_reindexado)\n",
    "\n",
    "# Reset del índice\n",
    "df_reset = df.reset_index()\n",
    "print(\"\\nDespués de reset_index():\")\n",
    "print(df_reset)\n",
    "\n",
    "# Set index desde una columna\n",
    "df_nuevo_index = df_reset.set_index('index')\n",
    "print(\"\\nDespués de set_index('index'):\")\n",
    "print(df_nuevo_index)"
   ]
  }
 ],
 "metadata": {
  "language_info": {
   "name": "python"
  }
 },
 "nbformat": 4,
 "nbformat_minor": 5
}
