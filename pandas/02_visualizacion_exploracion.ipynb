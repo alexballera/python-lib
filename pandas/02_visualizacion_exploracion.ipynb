{
 "cells": [
  {
   "cell_type": "markdown",
   "id": "08b91b0f",
   "metadata": {},
   "source": [
    "# Visualización y Exploración de Datos\n",
    "\n",
    "Este notebook cubre técnicas para visualizar y explorar datos en pandas."
   ]
  },
  {
   "cell_type": "code",
   "execution_count": null,
   "id": "b3d6b348",
   "metadata": {},
   "outputs": [],
   "source": [
    "import numpy as np\n",
    "import pandas as pd\n",
    "\n",
    "# Crear datos de ejemplo\n",
    "np.random.seed(42)\n",
    "fechas = pd.date_range('20240101', periods=10)\n",
    "df = pd.DataFrame({\n",
    "    'A': np.random.randn(10),\n",
    "    'B': np.random.randn(10),\n",
    "    'C': np.random.randint(1, 100, 10),\n",
    "    'D': ['grupo1', 'grupo2', 'grupo1', 'grupo2', 'grupo1', \n",
    "          'grupo2', 'grupo1', 'grupo2', 'grupo1', 'grupo2']\n",
    "}, index=fechas)\n",
    "\n",
    "print(\"DataFrame de ejemplo:\")\n",
    "print(df)"
   ]
  },
  {
   "cell_type": "markdown",
   "id": "2009afc7",
   "metadata": {},
   "source": [
    "## Métodos Básicos de Visualización"
   ]
  },
  {
   "cell_type": "code",
   "execution_count": null,
   "id": "625b88ae",
   "metadata": {},
   "outputs": [],
   "source": [
    "# Primeras y últimas filas\n",
    "print(\"Primeras 3 filas:\")\n",
    "print(df.head(3))\n",
    "\n",
    "print(\"\\nÚltimas 3 filas:\")\n",
    "print(df.tail(3))\n",
    "\n",
    "# Información del DataFrame\n",
    "print(\"\\nInformación del DataFrame:\")\n",
    "print(f\"Forma: {df.shape}\")\n",
    "print(f\"Índice: {df.index}\")\n",
    "print(f\"Columnas: {df.columns.tolist()}\")\n",
    "print(f\"Tipos de datos:\\n{df.dtypes}\")"
   ]
  },
  {
   "cell_type": "code",
   "execution_count": null,
   "id": "4862a562",
   "metadata": {},
   "outputs": [],
   "source": [
    "# Estadísticas descriptivas\n",
    "print(\"Estadísticas descriptivas:\")\n",
    "print(df.describe())\n",
    "\n",
    "print(\"\\nEstadísticas solo para columnas numéricas:\")\n",
    "print(df.describe(include=[np.number]))\n",
    "\n",
    "print(\"\\nEstadísticas para columnas categóricas:\")\n",
    "print(df.describe(include=['object']))"
   ]
  },
  {
   "cell_type": "markdown",
   "id": "d0a58bc1",
   "metadata": {},
   "source": [
    "## Transposición y Ordenamiento"
   ]
  },
  {
   "cell_type": "code",
   "execution_count": null,
   "id": "c760edb8",
   "metadata": {},
   "outputs": [],
   "source": [
    "# Transponer el DataFrame\n",
    "print(\"DataFrame transpuesto:\")\n",
    "print(df.T)\n",
    "\n",
    "# Ordenar por índice\n",
    "print(\"\\nOrdenar por índice (descendente):\")\n",
    "print(df.sort_index(ascending=False).head())\n",
    "\n",
    "# Ordenar por columnas\n",
    "print(\"\\nOrdenar columnas alfabéticamente:\")\n",
    "print(df.sort_index(axis=1))"
   ]
  },
  {
   "cell_type": "code",
   "execution_count": null,
   "id": "e377caa8",
   "metadata": {},
   "outputs": [],
   "source": [
    "# Ordenar por valores\n",
    "print(\"Ordenar por columna B (ascendente):\")\n",
    "print(df.sort_values(by='B'))\n",
    "\n",
    "print(\"\\nOrdenar por múltiples columnas:\")\n",
    "print(df.sort_values(by=['D', 'C'], ascending=[True, False]))"
   ]
  },
  {
   "cell_type": "markdown",
   "id": "f9983a9c",
   "metadata": {},
   "source": [
    "## Información Detallada y Resúmenes"
   ]
  },
  {
   "cell_type": "code",
   "execution_count": null,
   "id": "c61d5bfa",
   "metadata": {},
   "outputs": [],
   "source": [
    "# Información detallada del DataFrame\n",
    "print(\"Información detallada:\")\n",
    "df.info()\n",
    "\n",
    "print(\"\\nMemoria utilizada:\")\n",
    "print(df.memory_usage(deep=True))\n",
    "\n",
    "print(\"\\nNúmero de valores únicos por columna:\")\n",
    "print(df.nunique())\n",
    "\n",
    "print(\"\\nValores únicos en columna D:\")\n",
    "print(df['D'].unique())"
   ]
  },
  {
   "cell_type": "code",
   "execution_count": null,
   "id": "43fd7ed4",
   "metadata": {},
   "outputs": [],
   "source": [
    "# Conteo de valores\n",
    "print(\"Conteo de valores en columna D:\")\n",
    "print(df['D'].value_counts())\n",
    "\n",
    "print(\"\\nConteo de valores nulos:\")\n",
    "print(df.isnull().sum())\n",
    "\n",
    "print(\"\\nConteo de valores no nulos:\")\n",
    "print(df.count())"
   ]
  },
  {
   "cell_type": "markdown",
   "id": "287480d7",
   "metadata": {},
   "source": [
    "## Muestreo y Visualización Rápida"
   ]
  },
  {
   "cell_type": "code",
   "execution_count": null,
   "id": "b1d0eead",
   "metadata": {},
   "outputs": [],
   "source": [
    "# Muestra aleatoria\n",
    "print(\"Muestra aleatoria de 3 filas:\")\n",
    "print(df.sample(3))\n",
    "\n",
    "print(\"\\nMuestra aleatoria del 30% de los datos:\")\n",
    "print(df.sample(frac=0.3))\n",
    "\n",
    "# Percentiles específicos\n",
    "print(\"\\nPercentiles específicos para columna C:\")\n",
    "print(df['C'].quantile([0.25, 0.5, 0.75, 0.9]))"
   ]
  }
 ],
 "metadata": {
  "language_info": {
   "name": "python"
  }
 },
 "nbformat": 4,
 "nbformat_minor": 5
}
