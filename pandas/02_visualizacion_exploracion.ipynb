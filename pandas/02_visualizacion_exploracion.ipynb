{
 "cells": [
  {
   "cell_type": "markdown",
   "id": "08b91b0f",
   "metadata": {},
   "source": [
    "# Visualización y Exploración de Datos\n",
    "\n",
    "Este notebook cubre técnicas para visualizar y explorar datos en pandas."
   ]
  },
  {
   "cell_type": "code",
   "execution_count": 1,
   "id": "b3d6b348",
   "metadata": {},
   "outputs": [
    {
     "name": "stdout",
     "output_type": "stream",
     "text": [
      "DataFrame de ejemplo:\n",
      "                   A         B   C       D\n",
      "2024-01-01  0.496714 -0.463418  62  grupo1\n",
      "2024-01-02 -0.138264 -0.465730  62  grupo2\n",
      "2024-01-03  0.647689  0.241962  47  grupo1\n",
      "2024-01-04  1.523030 -1.913280  62  grupo2\n",
      "2024-01-05 -0.234153 -1.724918  51  grupo1\n",
      "2024-01-06 -0.234137 -0.562288  55  grupo2\n",
      "2024-01-07  1.579213 -1.012831  64  grupo1\n",
      "2024-01-08  0.767435  0.314247   3  grupo2\n",
      "2024-01-09 -0.469474 -0.908024  51  grupo1\n",
      "2024-01-10  0.542560 -1.412304   7  grupo2\n"
     ]
    }
   ],
   "source": [
    "import numpy as np\n",
    "import pandas as pd\n",
    "\n",
    "# Crear datos de ejemplo\n",
    "np.random.seed(42)\n",
    "fechas = pd.date_range('20240101', periods=10)\n",
    "df = pd.DataFrame({\n",
    "    'A': np.random.randn(10),\n",
    "    'B': np.random.randn(10),\n",
    "    'C': np.random.randint(1, 100, 10),\n",
    "    'D': ['grupo1', 'grupo2', 'grupo1', 'grupo2', 'grupo1', \n",
    "          'grupo2', 'grupo1', 'grupo2', 'grupo1', 'grupo2']\n",
    "}, index=fechas)\n",
    "\n",
    "print(\"DataFrame de ejemplo:\")\n",
    "print(df)"
   ]
  },
  {
   "cell_type": "markdown",
   "id": "2009afc7",
   "metadata": {},
   "source": [
    "## Métodos Básicos de Visualización"
   ]
  },
  {
   "cell_type": "code",
   "execution_count": 2,
   "id": "625b88ae",
   "metadata": {},
   "outputs": [
    {
     "name": "stdout",
     "output_type": "stream",
     "text": [
      "Primeras 3 filas:\n",
      "                   A         B   C       D\n",
      "2024-01-01  0.496714 -0.463418  62  grupo1\n",
      "2024-01-02 -0.138264 -0.465730  62  grupo2\n",
      "2024-01-03  0.647689  0.241962  47  grupo1\n",
      "\n",
      "Últimas 3 filas:\n",
      "                   A         B   C       D\n",
      "2024-01-08  0.767435  0.314247   3  grupo2\n",
      "2024-01-09 -0.469474 -0.908024  51  grupo1\n",
      "2024-01-10  0.542560 -1.412304   7  grupo2\n",
      "\n",
      "Información del DataFrame:\n",
      "Forma: (10, 4)\n",
      "Índice: DatetimeIndex(['2024-01-01', '2024-01-02', '2024-01-03', '2024-01-04',\n",
      "               '2024-01-05', '2024-01-06', '2024-01-07', '2024-01-08',\n",
      "               '2024-01-09', '2024-01-10'],\n",
      "              dtype='datetime64[ns]', freq='D')\n",
      "Columnas: ['A', 'B', 'C', 'D']\n",
      "Tipos de datos:\n",
      "A    float64\n",
      "B    float64\n",
      "C      int64\n",
      "D     object\n",
      "dtype: object\n"
     ]
    }
   ],
   "source": [
    "# Primeras y últimas filas\n",
    "print(\"Primeras 3 filas:\")\n",
    "print(df.head(3))\n",
    "\n",
    "print(\"\\nÚltimas 3 filas:\")\n",
    "print(df.tail(3))\n",
    "\n",
    "# Información del DataFrame\n",
    "print(\"\\nInformación del DataFrame:\")\n",
    "print(f\"Forma: {df.shape}\")\n",
    "print(f\"Índice: {df.index}\")\n",
    "print(f\"Columnas: {df.columns.tolist()}\")\n",
    "print(f\"Tipos de datos:\\n{df.dtypes}\")"
   ]
  },
  {
   "cell_type": "code",
   "execution_count": 3,
   "id": "4862a562",
   "metadata": {},
   "outputs": [
    {
     "name": "stdout",
     "output_type": "stream",
     "text": [
      "Estadísticas descriptivas:\n",
      "               A          B          C\n",
      "count  10.000000  10.000000  10.000000\n",
      "mean    0.448061  -0.790658  46.400000\n",
      "std     0.723008   0.755325  22.589083\n",
      "min    -0.469474  -1.913280   3.000000\n",
      "25%    -0.210169  -1.312436  48.000000\n",
      "50%     0.519637  -0.735156  53.000000\n",
      "75%     0.737498  -0.463996  62.000000\n",
      "max     1.579213   0.314247  64.000000\n",
      "\n",
      "Estadísticas solo para columnas numéricas:\n",
      "               A          B          C\n",
      "count  10.000000  10.000000  10.000000\n",
      "mean    0.448061  -0.790658  46.400000\n",
      "std     0.723008   0.755325  22.589083\n",
      "min    -0.469474  -1.913280   3.000000\n",
      "25%    -0.210169  -1.312436  48.000000\n",
      "50%     0.519637  -0.735156  53.000000\n",
      "75%     0.737498  -0.463996  62.000000\n",
      "max     1.579213   0.314247  64.000000\n",
      "\n",
      "Estadísticas para columnas categóricas:\n",
      "             D\n",
      "count       10\n",
      "unique       2\n",
      "top     grupo1\n",
      "freq         5\n"
     ]
    }
   ],
   "source": [
    "# Estadísticas descriptivas\n",
    "print(\"Estadísticas descriptivas:\")\n",
    "print(df.describe())\n",
    "\n",
    "print(\"\\nEstadísticas solo para columnas numéricas:\")\n",
    "print(df.describe(include=[np.number]))\n",
    "\n",
    "print(\"\\nEstadísticas para columnas categóricas:\")\n",
    "print(df.describe(include=['object']))"
   ]
  },
  {
   "cell_type": "markdown",
   "id": "d0a58bc1",
   "metadata": {},
   "source": [
    "## Transposición y Ordenamiento"
   ]
  },
  {
   "cell_type": "code",
   "execution_count": 4,
   "id": "c760edb8",
   "metadata": {},
   "outputs": [
    {
     "name": "stdout",
     "output_type": "stream",
     "text": [
      "DataFrame transpuesto:\n",
      "  2024-01-01 2024-01-02 2024-01-03 2024-01-04 2024-01-05 2024-01-06  \\\n",
      "A   0.496714  -0.138264   0.647689    1.52303  -0.234153  -0.234137   \n",
      "B  -0.463418   -0.46573   0.241962   -1.91328  -1.724918  -0.562288   \n",
      "C         62         62         47         62         51         55   \n",
      "D     grupo1     grupo2     grupo1     grupo2     grupo1     grupo2   \n",
      "\n",
      "  2024-01-07 2024-01-08 2024-01-09 2024-01-10  \n",
      "A   1.579213   0.767435  -0.469474    0.54256  \n",
      "B  -1.012831   0.314247  -0.908024  -1.412304  \n",
      "C         64          3         51          7  \n",
      "D     grupo1     grupo2     grupo1     grupo2  \n",
      "\n",
      "Ordenar por índice (descendente):\n",
      "                   A         B   C       D\n",
      "2024-01-10  0.542560 -1.412304   7  grupo2\n",
      "2024-01-09 -0.469474 -0.908024  51  grupo1\n",
      "2024-01-08  0.767435  0.314247   3  grupo2\n",
      "2024-01-07  1.579213 -1.012831  64  grupo1\n",
      "2024-01-06 -0.234137 -0.562288  55  grupo2\n",
      "\n",
      "Ordenar columnas alfabéticamente:\n",
      "                   A         B   C       D\n",
      "2024-01-01  0.496714 -0.463418  62  grupo1\n",
      "2024-01-02 -0.138264 -0.465730  62  grupo2\n",
      "2024-01-03  0.647689  0.241962  47  grupo1\n",
      "2024-01-04  1.523030 -1.913280  62  grupo2\n",
      "2024-01-05 -0.234153 -1.724918  51  grupo1\n",
      "2024-01-06 -0.234137 -0.562288  55  grupo2\n",
      "2024-01-07  1.579213 -1.012831  64  grupo1\n",
      "2024-01-08  0.767435  0.314247   3  grupo2\n",
      "2024-01-09 -0.469474 -0.908024  51  grupo1\n",
      "2024-01-10  0.542560 -1.412304   7  grupo2\n"
     ]
    }
   ],
   "source": [
    "# Transponer el DataFrame\n",
    "print(\"DataFrame transpuesto:\")\n",
    "print(df.T)\n",
    "\n",
    "# Ordenar por índice\n",
    "print(\"\\nOrdenar por índice (descendente):\")\n",
    "print(df.sort_index(ascending=False).head())\n",
    "\n",
    "# Ordenar por columnas\n",
    "print(\"\\nOrdenar columnas alfabéticamente:\")\n",
    "print(df.sort_index(axis=1))"
   ]
  },
  {
   "cell_type": "code",
   "execution_count": 5,
   "id": "e377caa8",
   "metadata": {},
   "outputs": [
    {
     "name": "stdout",
     "output_type": "stream",
     "text": [
      "Ordenar por columna B (ascendente):\n",
      "                   A         B   C       D\n",
      "2024-01-04  1.523030 -1.913280  62  grupo2\n",
      "2024-01-05 -0.234153 -1.724918  51  grupo1\n",
      "2024-01-10  0.542560 -1.412304   7  grupo2\n",
      "2024-01-07  1.579213 -1.012831  64  grupo1\n",
      "2024-01-09 -0.469474 -0.908024  51  grupo1\n",
      "2024-01-06 -0.234137 -0.562288  55  grupo2\n",
      "2024-01-02 -0.138264 -0.465730  62  grupo2\n",
      "2024-01-01  0.496714 -0.463418  62  grupo1\n",
      "2024-01-03  0.647689  0.241962  47  grupo1\n",
      "2024-01-08  0.767435  0.314247   3  grupo2\n",
      "\n",
      "Ordenar por múltiples columnas:\n",
      "                   A         B   C       D\n",
      "2024-01-07  1.579213 -1.012831  64  grupo1\n",
      "2024-01-01  0.496714 -0.463418  62  grupo1\n",
      "2024-01-05 -0.234153 -1.724918  51  grupo1\n",
      "2024-01-09 -0.469474 -0.908024  51  grupo1\n",
      "2024-01-03  0.647689  0.241962  47  grupo1\n",
      "2024-01-02 -0.138264 -0.465730  62  grupo2\n",
      "2024-01-04  1.523030 -1.913280  62  grupo2\n",
      "2024-01-06 -0.234137 -0.562288  55  grupo2\n",
      "2024-01-10  0.542560 -1.412304   7  grupo2\n",
      "2024-01-08  0.767435  0.314247   3  grupo2\n"
     ]
    }
   ],
   "source": [
    "# Ordenar por valores\n",
    "print(\"Ordenar por columna B (ascendente):\")\n",
    "print(df.sort_values(by='B'))\n",
    "\n",
    "print(\"\\nOrdenar por múltiples columnas:\")\n",
    "print(df.sort_values(by=['D', 'C'], ascending=[True, False]))"
   ]
  },
  {
   "cell_type": "markdown",
   "id": "f9983a9c",
   "metadata": {},
   "source": [
    "## Información Detallada y Resúmenes"
   ]
  },
  {
   "cell_type": "code",
   "execution_count": 6,
   "id": "c61d5bfa",
   "metadata": {},
   "outputs": [
    {
     "name": "stdout",
     "output_type": "stream",
     "text": [
      "Información detallada:\n",
      "<class 'pandas.core.frame.DataFrame'>\n",
      "DatetimeIndex: 10 entries, 2024-01-01 to 2024-01-10\n",
      "Freq: D\n",
      "Data columns (total 4 columns):\n",
      " #   Column  Non-Null Count  Dtype  \n",
      "---  ------  --------------  -----  \n",
      " 0   A       10 non-null     float64\n",
      " 1   B       10 non-null     float64\n",
      " 2   C       10 non-null     int64  \n",
      " 3   D       10 non-null     object \n",
      "dtypes: float64(2), int64(1), object(1)\n",
      "memory usage: 400.0+ bytes\n",
      "\n",
      "Memoria utilizada:\n",
      "Index     80\n",
      "A         80\n",
      "B         80\n",
      "C         80\n",
      "D        550\n",
      "dtype: int64\n",
      "\n",
      "Número de valores únicos por columna:\n",
      "A    10\n",
      "B    10\n",
      "C     7\n",
      "D     2\n",
      "dtype: int64\n",
      "\n",
      "Valores únicos en columna D:\n",
      "['grupo1' 'grupo2']\n"
     ]
    }
   ],
   "source": [
    "# Información detallada del DataFrame\n",
    "print(\"Información detallada:\")\n",
    "df.info()\n",
    "\n",
    "print(\"\\nMemoria utilizada:\")\n",
    "print(df.memory_usage(deep=True))\n",
    "\n",
    "print(\"\\nNúmero de valores únicos por columna:\")\n",
    "print(df.nunique())\n",
    "\n",
    "print(\"\\nValores únicos en columna D:\")\n",
    "print(df['D'].unique())"
   ]
  },
  {
   "cell_type": "code",
   "execution_count": 7,
   "id": "43fd7ed4",
   "metadata": {},
   "outputs": [
    {
     "name": "stdout",
     "output_type": "stream",
     "text": [
      "Conteo de valores en columna D:\n",
      "D\n",
      "grupo1    5\n",
      "grupo2    5\n",
      "Name: count, dtype: int64\n",
      "\n",
      "Conteo de valores nulos:\n",
      "A    0\n",
      "B    0\n",
      "C    0\n",
      "D    0\n",
      "dtype: int64\n",
      "\n",
      "Conteo de valores no nulos:\n",
      "A    10\n",
      "B    10\n",
      "C    10\n",
      "D    10\n",
      "dtype: int64\n"
     ]
    }
   ],
   "source": [
    "# Conteo de valores\n",
    "print(\"Conteo de valores en columna D:\")\n",
    "print(df['D'].value_counts())\n",
    "\n",
    "print(\"\\nConteo de valores nulos:\")\n",
    "print(df.isnull().sum())\n",
    "\n",
    "print(\"\\nConteo de valores no nulos:\")\n",
    "print(df.count())"
   ]
  },
  {
   "cell_type": "markdown",
   "id": "287480d7",
   "metadata": {},
   "source": [
    "## Muestreo y Visualización Rápida"
   ]
  },
  {
   "cell_type": "code",
   "execution_count": 8,
   "id": "b1d0eead",
   "metadata": {},
   "outputs": [
    {
     "name": "stdout",
     "output_type": "stream",
     "text": [
      "Muestra aleatoria de 3 filas:\n",
      "                   A         B   C       D\n",
      "2024-01-10  0.542560 -1.412304   7  grupo2\n",
      "2024-01-03  0.647689  0.241962  47  grupo1\n",
      "2024-01-08  0.767435  0.314247   3  grupo2\n",
      "\n",
      "Muestra aleatoria del 30% de los datos:\n",
      "                   A         B   C       D\n",
      "2024-01-01  0.496714 -0.463418  62  grupo1\n",
      "2024-01-06 -0.234137 -0.562288  55  grupo2\n",
      "2024-01-03  0.647689  0.241962  47  grupo1\n",
      "\n",
      "Percentiles específicos para columna C:\n",
      "0.25    48.0\n",
      "0.50    53.0\n",
      "0.75    62.0\n",
      "0.90    62.2\n",
      "Name: C, dtype: float64\n"
     ]
    }
   ],
   "source": [
    "# Muestra aleatoria\n",
    "print(\"Muestra aleatoria de 3 filas:\")\n",
    "print(df.sample(3))\n",
    "\n",
    "print(\"\\nMuestra aleatoria del 30% de los datos:\")\n",
    "print(df.sample(frac=0.3))\n",
    "\n",
    "# Percentiles específicos\n",
    "print(\"\\nPercentiles específicos para columna C:\")\n",
    "print(df['C'].quantile([0.25, 0.5, 0.75, 0.9]))"
   ]
  }
 ],
 "metadata": {
  "kernelspec": {
   "display_name": ".venv",
   "language": "python",
   "name": "python3"
  },
  "language_info": {
   "codemirror_mode": {
    "name": "ipython",
    "version": 3
   },
   "file_extension": ".py",
   "mimetype": "text/x-python",
   "name": "python",
   "nbconvert_exporter": "python",
   "pygments_lexer": "ipython3",
   "version": "3.12.3"
  }
 },
 "nbformat": 4,
 "nbformat_minor": 5
}
