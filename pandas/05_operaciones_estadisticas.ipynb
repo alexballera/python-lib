{
 "cells": [
  {
   "cell_type": "markdown",
   "id": "fdd0e3b9",
   "metadata": {},
   "source": [
    "# Operaciones y Estadísticas\n",
    "\n",
    "Este notebook cubre operaciones estadísticas, aritméticas y funciones agregadas en pandas."
   ]
  },
  {
   "cell_type": "code",
   "execution_count": 19,
   "id": "36b376bc",
   "metadata": {},
   "outputs": [
    {
     "name": "stdout",
     "output_type": "stream",
     "text": [
      "DataFrame principal:\n",
      "                   A         B   C       D\n",
      "2024-01-01  0.496714 -0.469474  59  grupo1\n",
      "2024-01-02 -0.138264  0.542560  42  grupo2\n",
      "2024-01-03  0.647689 -0.463418  92  grupo1\n",
      "2024-01-04  1.523030 -0.465730  60  grupo2\n",
      "2024-01-05 -0.234153  0.241962  80  grupo1\n",
      "2024-01-06 -0.234137 -1.913280  15  grupo2\n",
      "2024-01-07  1.579213 -1.724918  62  grupo1\n",
      "2024-01-08  0.767435 -0.562288  62  grupo2\n"
     ]
    }
   ],
   "source": [
    "import numpy as np\n",
    "import pandas as pd\n",
    "\n",
    "# Crear DataFrames de ejemplo\n",
    "np.random.seed(42)\n",
    "fechas = pd.date_range('20240101', periods=8)\n",
    "df = pd.DataFrame({\n",
    "    'A': np.random.randn(8),\n",
    "    'B': np.random.randn(8),\n",
    "    'C': np.random.randint(1, 100, 8),\n",
    "    'D': ['grupo1', 'grupo2', 'grupo1', 'grupo2', 'grupo1', 'grupo2', 'grupo1', 'grupo2']\n",
    "}, index=fechas)\n",
    "\n",
    "print(\"DataFrame principal:\")\n",
    "print(df)"
   ]
  },
  {
   "cell_type": "markdown",
   "id": "89ac7a43",
   "metadata": {},
   "source": [
    "## Estadísticas Básicas"
   ]
  },
  {
   "cell_type": "code",
   "execution_count": 20,
   "id": "74b022d0",
   "metadata": {},
   "outputs": [
    {
     "name": "stdout",
     "output_type": "stream",
     "text": [
      "Media por columna:\n",
      "A     0.550941\n",
      "B    -0.601823\n",
      "C    59.000000\n",
      "dtype: float64\n",
      "\n",
      "Media por fila:\n",
      "2024-01-01    19.675747\n",
      "2024-01-02    14.134765\n",
      "2024-01-03    30.728090\n",
      "2024-01-04    20.352433\n",
      "2024-01-05    26.669270\n",
      "2024-01-06     4.284194\n",
      "2024-01-07    20.618098\n",
      "2024-01-08    20.735049\n",
      "Freq: D, dtype: float64\n",
      "\n",
      "Otras estadísticas básicas:\n",
      "Suma: \n",
      "A      4.407525\n",
      "B     -4.814585\n",
      "C    472.000000\n",
      "dtype: float64\n",
      "\n",
      "Desviación estándar: \n",
      "A     0.733796\n",
      "B     0.850177\n",
      "C    23.219450\n",
      "dtype: float64\n",
      "\n",
      "Varianza: \n",
      "A      0.538456\n",
      "B      0.722801\n",
      "C    539.142857\n",
      "dtype: float64\n"
     ]
    }
   ],
   "source": [
    "# Estadísticas por columna\n",
    "print(\"Media por columna:\")\n",
    "print(df.mean(numeric_only=True))\n",
    "\n",
    "print(\"\\nMedia por fila:\")\n",
    "print(df.mean(axis=1, numeric_only=True))\n",
    "\n",
    "print(\"\\nOtras estadísticas básicas:\")\n",
    "print(f\"Suma: \\n{df.sum(numeric_only=True)}\")\n",
    "print(f\"\\nDesviación estándar: \\n{df.std(numeric_only=True)}\")\n",
    "print(f\"\\nVarianza: \\n{df.var(numeric_only=True)}\")"
   ]
  },
  {
   "cell_type": "code",
   "execution_count": 21,
   "id": "f0cad18e",
   "metadata": {},
   "outputs": [
    {
     "name": "stdout",
     "output_type": "stream",
     "text": [
      "Valores mínimos:\n",
      "A   -0.234153\n",
      "B    -1.91328\n",
      "C          15\n",
      "D      grupo1\n",
      "dtype: object\n",
      "\n",
      "Valores máximos:\n",
      "A    1.579213\n",
      "B     0.54256\n",
      "C          92\n",
      "D      grupo2\n",
      "dtype: object\n",
      "\n",
      "Índice del valor mínimo:\n",
      "A   2024-01-05\n",
      "B   2024-01-06\n",
      "C   2024-01-06\n",
      "D   2024-01-01\n",
      "dtype: datetime64[ns]\n",
      "\n",
      "Índice del valor máximo:\n",
      "A   2024-01-07\n",
      "B   2024-01-02\n",
      "C   2024-01-03\n",
      "D   2024-01-02\n",
      "dtype: datetime64[ns]\n",
      "\n",
      "Rango (max - min):\n",
      "A     1.813366\n",
      "B     2.455840\n",
      "C    77.000000\n",
      "dtype: float64\n"
     ]
    }
   ],
   "source": [
    "# Valores extremos\n",
    "print(\"Valores mínimos:\")\n",
    "print(df.min())\n",
    "\n",
    "print(\"\\nValores máximos:\")\n",
    "print(df.max())\n",
    "\n",
    "print(\"\\nÍndice del valor mínimo:\")\n",
    "print(df.idxmin())\n",
    "\n",
    "print(\"\\nÍndice del valor máximo:\")\n",
    "print(df.idxmax())\n",
    "\n",
    "print(\"\\nRango (max - min):\")\n",
    "print(df.max(numeric_only=True) - df.min(numeric_only=True))"
   ]
  },
  {
   "cell_type": "code",
   "execution_count": 22,
   "id": "f8458e35",
   "metadata": {},
   "outputs": [
    {
     "name": "stdout",
     "output_type": "stream",
     "text": [
      "Mediana (percentil 50):\n",
      "A     0.572201\n",
      "B    -0.467602\n",
      "C    61.000000\n",
      "dtype: float64\n",
      "\n",
      "Percentiles específicos:\n",
      "             A         B      C\n",
      "0.25 -0.162232 -0.852945  54.75\n",
      "0.50  0.572201 -0.467602  61.00\n",
      "0.75  0.956334 -0.287073  66.50\n",
      "\n",
      "Percentil 90:\n",
      "A     1.539885\n",
      "B     0.332142\n",
      "C    83.600000\n",
      "Name: 0.9, dtype: float64\n",
      "\n",
      "Rango intercuartílico (Q3 - Q1):\n",
      "A     1.118566\n",
      "B     0.565872\n",
      "C    11.750000\n",
      "dtype: float64\n"
     ]
    }
   ],
   "source": [
    "# Percentiles y cuartiles\n",
    "# Los percentiles dividen los datos en 100 partes iguales, donde el percentil k \n",
    "# indica que k% de los datos son menores o iguales a ese valor\n",
    "print(\"Mediana (percentil 50):\")\n",
    "print(df.median(numeric_only=True))\n",
    "\n",
    "print(\"\\nPercentiles específicos:\")\n",
    "print(df.quantile([0.25, 0.5, 0.75], numeric_only=True))\n",
    "\n",
    "print(\"\\nPercentil 90:\")\n",
    "print(df.quantile(0.9, numeric_only=True))\n",
    "\n",
    "print(\"\\nRango intercuartílico (Q3 - Q1):\")\n",
    "# El IQR mide la dispersión de los datos eliminando los valores extremos\n",
    "q1 = df.quantile(0.25, numeric_only=True)\n",
    "q3 = df.quantile(0.75, numeric_only=True)\n",
    "print(q3 - q1)"
   ]
  },
  {
   "cell_type": "markdown",
   "id": "6ff4e6f9",
   "metadata": {},
   "source": [
    "## Operaciones de Conteo"
   ]
  },
  {
   "cell_type": "code",
   "execution_count": 23,
   "id": "13da734d",
   "metadata": {},
   "outputs": [
    {
     "name": "stdout",
     "output_type": "stream",
     "text": [
      "Conteo de valores no nulos:\n",
      "A    8\n",
      "B    8\n",
      "C    8\n",
      "D    8\n",
      "dtype: int64\n",
      "\n",
      "Conteo de valores únicos:\n",
      "A    8\n",
      "B    8\n",
      "C    7\n",
      "D    2\n",
      "dtype: int64\n",
      "\n",
      "Conteo de valores en columna categórica:\n",
      "D\n",
      "grupo1    4\n",
      "grupo2    4\n",
      "Name: count, dtype: int64\n",
      "\n",
      "Conteo de valores con normalización (porcentajes):\n",
      "D\n",
      "grupo1    0.5\n",
      "grupo2    0.5\n",
      "Name: proportion, dtype: float64\n"
     ]
    }
   ],
   "source": [
    "# Conteos básicos\n",
    "print(\"Conteo de valores no nulos:\")\n",
    "print(df.count())\n",
    "\n",
    "print(\"\\nConteo de valores únicos:\")\n",
    "print(df.nunique())\n",
    "\n",
    "print(\"\\nConteo de valores en columna categórica:\")\n",
    "print(df['D'].value_counts())\n",
    "\n",
    "print(\"\\nConteo de valores con normalización (porcentajes):\")\n",
    "print(df['D'].value_counts(normalize=True))"
   ]
  },
  {
   "cell_type": "code",
   "execution_count": 24,
   "id": "99aee7c1",
   "metadata": {},
   "outputs": [
    {
     "name": "stdout",
     "output_type": "stream",
     "text": [
      "DataFrame con algunos valores nulos:\n",
      "                   A         B   C       D\n",
      "2024-01-01  0.496714 -0.469474  59  grupo1\n",
      "2024-01-02       NaN  0.542560  42  grupo2\n",
      "2024-01-03  0.647689 -0.463418  92  grupo1\n",
      "2024-01-04  1.523030       NaN  60  grupo2\n",
      "2024-01-05 -0.234153  0.241962  80  grupo1\n",
      "2024-01-06 -0.234137 -1.913280  15  grupo2\n",
      "2024-01-07  1.579213 -1.724918  62  grupo1\n",
      "2024-01-08  0.767435 -0.562288  62  grupo2\n",
      "\n",
      "Conteo de valores nulos:\n",
      "A    1\n",
      "B    1\n",
      "C    0\n",
      "D    0\n",
      "dtype: int64\n",
      "\n",
      "Conteo de valores no nulos:\n",
      "A    7\n",
      "B    7\n",
      "C    8\n",
      "D    8\n",
      "dtype: int64\n"
     ]
    }
   ],
   "source": [
    "# Agregar algunos valores nulos para ejemplos\n",
    "df_con_nulos = df.copy()\n",
    "df_con_nulos.loc[fechas[1], 'A'] = np.nan\n",
    "df_con_nulos.loc[fechas[3], 'B'] = np.nan\n",
    "\n",
    "print(\"DataFrame con algunos valores nulos:\")\n",
    "print(df_con_nulos)\n",
    "\n",
    "print(\"\\nConteo de valores nulos:\")\n",
    "print(df_con_nulos.isnull().sum())\n",
    "\n",
    "print(\"\\nConteo de valores no nulos:\")\n",
    "print(df_con_nulos.notnull().sum())"
   ]
  },
  {
   "cell_type": "markdown",
   "id": "27507dfa",
   "metadata": {},
   "source": [
    "## Operaciones Aritméticas"
   ]
  },
  {
   "cell_type": "code",
   "execution_count": 25,
   "id": "c83f5ee0",
   "metadata": {},
   "outputs": [
    {
     "name": "stdout",
     "output_type": "stream",
     "text": [
      "Suma de columnas A y B:\n",
      "2024-01-01    0.027240\n",
      "2024-01-02    0.404296\n",
      "2024-01-03    0.184271\n",
      "2024-01-04    1.057300\n",
      "2024-01-05    0.007809\n",
      "2024-01-06   -2.147417\n",
      "2024-01-07   -0.145705\n",
      "2024-01-08    0.205147\n",
      "Freq: D, dtype: float64\n",
      "\n",
      "Multiplicación de A por C:\n",
      "2024-01-01    29.306135\n",
      "2024-01-02    -5.807101\n",
      "2024-01-03    59.587346\n",
      "2024-01-04    91.381791\n",
      "2024-01-05   -18.732270\n",
      "2024-01-06    -3.512054\n",
      "2024-01-07    97.911195\n",
      "2024-01-08    47.580953\n",
      "Freq: D, dtype: float64\n",
      "\n",
      "Sumar 10 a columna C:\n",
      "2024-01-01     69\n",
      "2024-01-02     52\n",
      "2024-01-03    102\n",
      "2024-01-04     70\n",
      "2024-01-05     90\n",
      "2024-01-06     25\n",
      "2024-01-07     72\n",
      "2024-01-08     72\n",
      "Freq: D, Name: C, dtype: int64\n",
      "\n",
      "Dividir columna A entre 2:\n",
      "2024-01-01    0.248357\n",
      "2024-01-02   -0.069132\n",
      "2024-01-03    0.323844\n",
      "2024-01-04    0.761515\n",
      "2024-01-05   -0.117077\n",
      "2024-01-06   -0.117068\n",
      "2024-01-07    0.789606\n",
      "2024-01-08    0.383717\n",
      "Freq: D, Name: A, dtype: float64\n"
     ]
    }
   ],
   "source": [
    "# Operaciones entre columnas\n",
    "print(\"Suma de columnas A y B:\")\n",
    "suma_ab = df['A'] + df['B']\n",
    "print(suma_ab)\n",
    "\n",
    "print(\"\\nMultiplicación de A por C:\")\n",
    "mult_ac = df['A'] * df['C']\n",
    "print(mult_ac)\n",
    "\n",
    "# Operaciones con escalares\n",
    "print(\"\\nSumar 10 a columna C:\")\n",
    "c_mas_10 = df['C'] + 10\n",
    "print(c_mas_10)\n",
    "\n",
    "print(\"\\nDividir columna A entre 2:\")\n",
    "a_div_2 = df['A'] / 2\n",
    "print(a_div_2)"
   ]
  },
  {
   "cell_type": "code",
   "execution_count": 26,
   "id": "7922bd2a",
   "metadata": {},
   "outputs": [
    {
     "name": "stdout",
     "output_type": "stream",
     "text": [
      "Segundo DataFrame:\n",
      "                   A         B   C\n",
      "2024-01-01 -0.629475  0.291034  40\n",
      "2024-01-02  0.597720 -0.635560   4\n",
      "2024-01-03  2.559488 -1.021552   2\n",
      "2024-01-04  0.394233 -0.161755   6\n",
      "2024-01-05  0.122219 -0.533649  42\n",
      "2024-01-06 -0.515436 -0.005528   4\n",
      "2024-01-07 -0.600254 -0.229450  29\n",
      "2024-01-08  0.947440  0.389349  18\n",
      "\n",
      "Suma de DataFrames:\n",
      "                   A         B    C\n",
      "2024-01-01 -0.132761 -0.178440   99\n",
      "2024-01-02  0.459456 -0.093000   46\n",
      "2024-01-03  3.207177 -1.484970   94\n",
      "2024-01-04  1.917263 -0.627485   66\n",
      "2024-01-05 -0.111934 -0.291687  122\n",
      "2024-01-06 -0.749573 -1.918808   19\n",
      "2024-01-07  0.978959 -1.954368   91\n",
      "2024-01-08  1.714875 -0.172939   80\n",
      "\n",
      "Resta de DataFrames:\n",
      "                   A         B   C\n",
      "2024-01-01  1.126189 -0.760508  19\n",
      "2024-01-02 -0.735985  1.178120  38\n",
      "2024-01-03 -1.911799  0.558135  90\n",
      "2024-01-04  1.128797 -0.303974  54\n",
      "2024-01-05 -0.356373  0.775611  38\n",
      "2024-01-06  0.281299 -1.907752  11\n",
      "2024-01-07  2.179467 -1.495467  33\n",
      "2024-01-08 -0.180005 -0.951636  44\n"
     ]
    }
   ],
   "source": [
    "# Operaciones entre DataFrames\n",
    "df2 = pd.DataFrame({\n",
    "    'A': np.random.randn(8),\n",
    "    'B': np.random.randn(8),\n",
    "    'C': np.random.randint(1, 50, 8)\n",
    "}, index=fechas)\n",
    "\n",
    "print(\"Segundo DataFrame:\")\n",
    "print(df2)\n",
    "\n",
    "print(\"\\nSuma de DataFrames:\")\n",
    "suma_dfs = df[['A', 'B', 'C']] + df2\n",
    "print(suma_dfs)\n",
    "\n",
    "print(\"\\nResta de DataFrames:\")\n",
    "resta_dfs = df[['A', 'B', 'C']] - df2\n",
    "print(resta_dfs)"
   ]
  },
  {
   "cell_type": "markdown",
   "id": "47b78785",
   "metadata": {},
   "source": [
    "## Operaciones con Series Desalineadas"
   ]
  },
  {
   "cell_type": "code",
   "execution_count": 27,
   "id": "45d4751f",
   "metadata": {},
   "outputs": [
    {
     "name": "stdout",
     "output_type": "stream",
     "text": [
      "Serie con índices diferentes:\n",
      "2024-01-03    1\n",
      "2024-01-04    2\n",
      "2024-01-05    3\n",
      "2024-01-06    4\n",
      "2024-01-07    5\n",
      "2024-01-08    6\n",
      "Freq: D, dtype: int64\n",
      "\n",
      "Suma de DataFrame columna A con Serie desalineada:\n",
      "2024-01-01         NaN\n",
      "2024-01-02         NaN\n",
      "2024-01-03    1.647689\n",
      "2024-01-04    3.523030\n",
      "2024-01-05    2.765847\n",
      "2024-01-06    3.765863\n",
      "2024-01-07    6.579213\n",
      "2024-01-08    6.767435\n",
      "Freq: D, dtype: float64\n",
      "\n",
      "Usando .add() con fill_value:\n",
      "2024-01-01    0.496714\n",
      "2024-01-02   -0.138264\n",
      "2024-01-03    1.647689\n",
      "2024-01-04    3.523030\n",
      "2024-01-05    2.765847\n",
      "2024-01-06    3.765863\n",
      "2024-01-07    6.579213\n",
      "2024-01-08    6.767435\n",
      "Freq: D, dtype: float64\n"
     ]
    }
   ],
   "source": [
    "# Crear Serie con índice diferente\n",
    "fechas_diferentes = pd.date_range('20240103', periods=6)\n",
    "serie_desalineada = pd.Series([1, 2, 3, 4, 5, 6], index=fechas_diferentes)\n",
    "\n",
    "print(\"Serie con índices diferentes:\")\n",
    "print(serie_desalineada)\n",
    "\n",
    "print(\"\\nSuma de DataFrame columna A con Serie desalineada:\")\n",
    "resultado_desalineado = df['A'] + serie_desalineada\n",
    "print(resultado_desalineado)\n",
    "\n",
    "# Usar métodos explícitos para controlar el comportamiento\n",
    "print(\"\\nUsando .add() con fill_value:\")\n",
    "resultado_add = df['A'].add(serie_desalineada, fill_value=0)\n",
    "print(resultado_add)"
   ]
  },
  {
   "cell_type": "markdown",
   "id": "6f394046",
   "metadata": {},
   "source": [
    "## Funciones Agregadas Personalizadas"
   ]
  },
  {
   "cell_type": "code",
   "execution_count": null,
   "id": "fd76cba9",
   "metadata": {},
   "outputs": [
    {
     "name": "stdout",
     "output_type": "stream",
     "text": [
      "Aplicar función lambda (multiplicar por 5.6):\n",
      "A      3.085268\n",
      "B     -3.370210\n",
      "C    330.400000\n",
      "dtype: float64\n",
      "\n",
      "Múltiples funciones agregadas:\n",
      "             A         B         C\n",
      "mean  0.550941 -0.601823  59.00000\n",
      "std   0.733796  0.850177  23.21945\n",
      "min  -0.234153 -1.913280  15.00000\n",
      "max   1.579213  0.542560  92.00000\n",
      "\n",
      "Funciones específicas por columna:\n",
      "              A        B      C\n",
      "mean   0.550941      NaN    NaN\n",
      "std    0.733796      NaN    NaN\n",
      "min         NaN -1.91328    NaN\n",
      "max         NaN  0.54256    NaN\n",
      "sum         NaN      NaN  472.0\n",
      "count       NaN      NaN    8.0\n"
     ]
    }
   ],
   "source": [
    "# Función lambda personalizada\n",
    "# .select_dtypes(include=[np.number]) filtra solo columnas numéricas (A, B, C)\n",
    "# .agg() aplica la función lambda a cada columna seleccionada\n",
    "# lambda calcula la media de cada columna y la multiplica por 5.6\n",
    "\n",
    "print(\"Aplicar función lambda (multiplicar por 5.6):\")\n",
    "resultado_lambda = df.select_dtypes(include=[np.number]).agg(lambda x: x.mean() * 5.6)\n",
    "print(resultado_lambda)\n",
    "\n",
    "# Múltiples funciones estándar aplicadas simultáneamente\n",
    "# Pasa una lista de nombres de funciones como strings\n",
    "# Resultado: DataFrame con funciones como filas, columnas originales como columnas\n",
    "\n",
    "print(\"\\nMúltiples funciones agregadas:\")\n",
    "resultado_multi = df.select_dtypes(include=[np.number]).agg(['mean', 'std', 'min', 'max'])\n",
    "print(resultado_multi)\n",
    "\n",
    "# Agregación específica por columna usando diccionario\n",
    "# Cada clave del diccionario es una columna, cada valor es una lista de funciones\n",
    "# Permite aplicar diferentes análisis a diferentes columnas según sus características\n",
    "\n",
    "print(\"\\nFunciones específicas por columna:\")\n",
    "resultado_especifico = df.agg({\n",
    "    'A': ['mean', 'std'],        # Para A: media y desviación estándar\n",
    "    'B': ['min', 'max'],         # Para B: valores mínimo y máximo\n",
    "    'C': ['sum', 'count']        # Para C: suma total y conteo de valores\n",
    "})\n",
    "print(resultado_especifico)"
   ]
  },
  {
   "cell_type": "markdown",
   "id": "9def7f66",
   "metadata": {},
   "source": [
    "## Transform - Operaciones que Mantienen la Forma"
   ]
  },
  {
   "cell_type": "code",
   "execution_count": 32,
   "id": "66693a86",
   "metadata": {},
   "outputs": [
    {
     "name": "stdout",
     "output_type": "stream",
     "text": [
      "Transform - multiplicar por 100:\n",
      "                     A           B     C\n",
      "2024-01-01   49.671415  -46.947439  5900\n",
      "2024-01-02  -13.826430   54.256004  4200\n",
      "2024-01-03   64.768854  -46.341769  9200\n",
      "2024-01-04  152.302986  -46.572975  6000\n",
      "2024-01-05  -23.415337   24.196227  8000\n",
      "2024-01-06  -23.413696 -191.328024  1500\n",
      "2024-01-07  157.921282 -172.491783  6200\n",
      "2024-01-08   76.743473  -56.228753  6200\n",
      "\n",
      "Transform - normalización z-score:\n",
      "                   A         B         C\n",
      "2024-01-01 -0.073899  0.155672  0.000000\n",
      "2024-01-02 -0.939233  1.346053 -0.732145\n",
      "2024-01-03  0.131846  0.162796  1.421222\n",
      "2024-01-04  1.324741  0.160077  0.043067\n",
      "2024-01-05 -1.069908  0.992482  0.904414\n",
      "2024-01-06 -1.069886 -1.542570 -1.894963\n",
      "2024-01-07  1.401305 -1.321013  0.129202\n",
      "2024-01-08  0.295033  0.046503  0.129202\n",
      "\n",
      "Transform con múltiples funciones:\n",
      "                   A         B\n",
      "2024-01-01  0.993428  0.220406\n",
      "2024-01-02 -0.276529  0.294371\n",
      "2024-01-03  1.295377  0.214756\n",
      "2024-01-04  3.046060  0.216904\n",
      "2024-01-05 -0.468307  0.058546\n",
      "2024-01-06 -0.468274  3.660641\n",
      "2024-01-07  3.158426  2.975342\n",
      "2024-01-08  1.534869  0.316167\n"
     ]
    }
   ],
   "source": [
    "# Transform aplica función pero mantiene la forma original\n",
    "print(\"Transform - multiplicar por 100:\")\n",
    "resultado_transform = df.select_dtypes(include=[np.number]).transform(lambda x: x * 100)\n",
    "print(resultado_transform)\n",
    "\n",
    "print(\"\\nTransform - normalización z-score:\")\n",
    "resultado_zscore = df.select_dtypes(include=[np.number]).transform(lambda x: (x - x.mean()) / x.std())\n",
    "print(resultado_zscore)\n",
    "\n",
    "# Transform con múltiples funciones\n",
    "print(\"\\nTransform con múltiples funciones:\")\n",
    "resultado_multi_transform = df[['A', 'B']].transform({\n",
    "    'A': lambda x: x * 2,\n",
    "    'B': lambda x: x ** 2\n",
    "})\n",
    "print(resultado_multi_transform)"
   ]
  },
  {
   "cell_type": "markdown",
   "id": "6153f872",
   "metadata": {},
   "source": [
    "## Operaciones Acumulativas"
   ]
  },
  {
   "cell_type": "markdown",
   "id": "53526929",
   "metadata": {},
   "source": [
    "Las **operaciones acumulativas** son fundamentales para el análisis de tendencias y datos secuenciales. Estas funciones calculan valores que se van acumulando o construyendo sobre los valores anteriores conforme se avanza fila por fila en el dataset.\n",
    "\n",
    "La **suma acumulativa** (`cumsum()`) calcula para cada fila la suma del valor actual más todos los valores anteriores en esa columna. Es especialmente útil para llevar totales corrientes, como el saldo de una cuenta bancaria donde cada transacción se suma al balance anterior, o cifras de ventas que se van acumulando mes a mes.\n",
    "\n",
    "El **producto acumulativo** (`cumprod()`) multiplica progresivamente los valores, siendo valioso para calcular tasas de crecimiento compuesto o rendimientos financieros acumulados. Por ejemplo, si tienes factores de crecimiento mensual (1.05, 1.03, 1.02), el producto acumulativo te mostraría el crecimiento total hasta cada punto.\n",
    "\n",
    "Las funciones de **máximo y mínimo acumulativo** (`cummax()` y `cummin()`) mantienen un registro del valor más alto o más bajo visto hasta cada punto en el tiempo. Esto es útil para análisis de récords históricos, como el precio máximo alcanzado por una acción hasta cada fecha, o la temperatura mínima registrada en una estación meteorológica."
   ]
  },
  {
   "cell_type": "code",
   "execution_count": 33,
   "id": "67bace7c",
   "metadata": {},
   "outputs": [
    {
     "name": "stdout",
     "output_type": "stream",
     "text": [
      "Suma acumulativa:\n",
      "                   A         B    C\n",
      "2024-01-01  0.496714 -0.469474   59\n",
      "2024-01-02  0.358450  0.073086  101\n",
      "2024-01-03  1.006138 -0.390332  193\n",
      "2024-01-04  2.529168 -0.856062  253\n",
      "2024-01-05  2.295015 -0.614100  333\n",
      "2024-01-06  2.060878 -2.527380  348\n",
      "2024-01-07  3.640091 -4.252298  410\n",
      "2024-01-08  4.407525 -4.814585  472\n",
      "\n",
      "Producto acumulativo:\n",
      "                   A         B\n",
      "2024-01-01  0.496714 -0.469474\n",
      "2024-01-02 -0.068678 -0.254718\n",
      "2024-01-03 -0.044482  0.118041\n",
      "2024-01-04 -0.067747 -0.054975\n",
      "2024-01-05  0.015863 -0.013302\n",
      "2024-01-06 -0.003714  0.025450\n",
      "2024-01-07 -0.005865 -0.043900\n",
      "2024-01-08 -0.004501  0.024684\n",
      "\n",
      "Máximo acumulativo:\n",
      "                   A         B   C\n",
      "2024-01-01  0.496714 -0.469474  59\n",
      "2024-01-02  0.496714  0.542560  59\n",
      "2024-01-03  0.647689  0.542560  92\n",
      "2024-01-04  1.523030  0.542560  92\n",
      "2024-01-05  1.523030  0.542560  92\n",
      "2024-01-06  1.523030  0.542560  92\n",
      "2024-01-07  1.579213  0.542560  92\n",
      "2024-01-08  1.579213  0.542560  92\n",
      "\n",
      "Mínimo acumulativo:\n",
      "                   A         B   C\n",
      "2024-01-01  0.496714 -0.469474  59\n",
      "2024-01-02 -0.138264 -0.469474  42\n",
      "2024-01-03 -0.138264 -0.469474  42\n",
      "2024-01-04 -0.138264 -0.469474  42\n",
      "2024-01-05 -0.234153 -0.469474  42\n",
      "2024-01-06 -0.234153 -1.913280  15\n",
      "2024-01-07 -0.234153 -1.913280  15\n",
      "2024-01-08 -0.234153 -1.913280  15\n"
     ]
    }
   ],
   "source": [
    "# Suma acumulativa\n",
    "print(\"Suma acumulativa:\")\n",
    "cumsum_resultado = df[['A', 'B', 'C']].cumsum()\n",
    "print(cumsum_resultado)\n",
    "\n",
    "print(\"\\nProducto acumulativo:\")\n",
    "cumprod_resultado = df[['A', 'B']].cumprod()\n",
    "print(cumprod_resultado)\n",
    "\n",
    "print(\"\\nMáximo acumulativo:\")\n",
    "cummax_resultado = df[['A', 'B', 'C']].cummax()\n",
    "print(cummax_resultado)\n",
    "\n",
    "print(\"\\nMínimo acumulativo:\")\n",
    "cummin_resultado = df[['A', 'B', 'C']].cummin()\n",
    "print(cummin_resultado)"
   ]
  }
 ],
 "metadata": {
  "kernelspec": {
   "display_name": ".venv",
   "language": "python",
   "name": "python3"
  },
  "language_info": {
   "codemirror_mode": {
    "name": "ipython",
    "version": 3
   },
   "file_extension": ".py",
   "mimetype": "text/x-python",
   "name": "python",
   "nbconvert_exporter": "python",
   "pygments_lexer": "ipython3",
   "version": "3.12.3"
  }
 },
 "nbformat": 4,
 "nbformat_minor": 5
}
