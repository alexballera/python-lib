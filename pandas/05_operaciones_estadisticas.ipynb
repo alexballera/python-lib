{
 "cells": [
  {
   "cell_type": "markdown",
   "id": "fdd0e3b9",
   "metadata": {},
   "source": [
    "# Operaciones y Estadísticas\n",
    "\n",
    "Este notebook cubre operaciones estadísticas, aritméticas y funciones agregadas en pandas."
   ]
  },
  {
   "cell_type": "code",
   "execution_count": null,
   "id": "36b376bc",
   "metadata": {},
   "outputs": [],
   "source": [
    "import numpy as np\n",
    "import pandas as pd\n",
    "\n",
    "# Crear DataFrames de ejemplo\n",
    "np.random.seed(42)\n",
    "fechas = pd.date_range('20240101', periods=8)\n",
    "df = pd.DataFrame({\n",
    "    'A': np.random.randn(8),\n",
    "    'B': np.random.randn(8),\n",
    "    'C': np.random.randint(1, 100, 8),\n",
    "    'D': ['grupo1', 'grupo2', 'grupo1', 'grupo2', 'grupo1', 'grupo2', 'grupo1', 'grupo2']\n",
    "}, index=fechas)\n",
    "\n",
    "print(\"DataFrame principal:\")\n",
    "print(df)"
   ]
  },
  {
   "cell_type": "markdown",
   "id": "89ac7a43",
   "metadata": {},
   "source": [
    "## Estadísticas Básicas"
   ]
  },
  {
   "cell_type": "code",
   "execution_count": null,
   "id": "74b022d0",
   "metadata": {},
   "outputs": [],
   "source": [
    "# Estadísticas por columna\n",
    "print(\"Media por columna:\")\n",
    "print(df.mean())\n",
    "\n",
    "print(\"\\nMedia por fila:\")\n",
    "print(df.mean(axis=1))\n",
    "\n",
    "print(\"\\nOtras estadísticas básicas:\")\n",
    "print(f\"Suma: \\n{df.sum()}\")\n",
    "print(f\"\\nDesviación estándar: \\n{df.std()}\")\n",
    "print(f\"\\nVarianza: \\n{df.var()}\")"
   ]
  },
  {
   "cell_type": "code",
   "execution_count": null,
   "id": "f0cad18e",
   "metadata": {},
   "outputs": [],
   "source": [
    "# Valores extremos\n",
    "print(\"Valores mínimos:\")\n",
    "print(df.min())\n",
    "\n",
    "print(\"\\nValores máximos:\")\n",
    "print(df.max())\n",
    "\n",
    "print(\"\\nÍndice del valor mínimo:\")\n",
    "print(df.idxmin())\n",
    "\n",
    "print(\"\\nÍndice del valor máximo:\")\n",
    "print(df.idxmax())\n",
    "\n",
    "print(\"\\nRango (max - min):\")\n",
    "print(df.max() - df.min())"
   ]
  },
  {
   "cell_type": "code",
   "execution_count": null,
   "id": "f8458e35",
   "metadata": {},
   "outputs": [],
   "source": [
    "# Percentiles y cuartiles\n",
    "print(\"Mediana (percentil 50):\")\n",
    "print(df.median())\n",
    "\n",
    "print(\"\\nPercentiles específicos:\")\n",
    "print(df.quantile([0.25, 0.5, 0.75]))\n",
    "\n",
    "print(\"\\nPercentil 90:\")\n",
    "print(df.quantile(0.9))\n",
    "\n",
    "print(\"\\nRango intercuartílico (Q3 - Q1):\")\n",
    "q1 = df.quantile(0.25)\n",
    "q3 = df.quantile(0.75)\n",
    "print(q3 - q1)"
   ]
  },
  {
   "cell_type": "markdown",
   "id": "6ff4e6f9",
   "metadata": {},
   "source": [
    "## Operaciones de Conteo"
   ]
  },
  {
   "cell_type": "code",
   "execution_count": null,
   "id": "13da734d",
   "metadata": {},
   "outputs": [],
   "source": [
    "# Conteos básicos\n",
    "print(\"Conteo de valores no nulos:\")\n",
    "print(df.count())\n",
    "\n",
    "print(\"\\nConteo de valores únicos:\")\n",
    "print(df.nunique())\n",
    "\n",
    "print(\"\\nConteo de valores en columna categórica:\")\n",
    "print(df['D'].value_counts())\n",
    "\n",
    "print(\"\\nConteo de valores con normalización (porcentajes):\")\n",
    "print(df['D'].value_counts(normalize=True))"
   ]
  },
  {
   "cell_type": "code",
   "execution_count": null,
   "id": "99aee7c1",
   "metadata": {},
   "outputs": [],
   "source": [
    "# Agregar algunos valores nulos para ejemplos\n",
    "df_con_nulos = df.copy()\n",
    "df_con_nulos.loc[fechas[1], 'A'] = np.nan\n",
    "df_con_nulos.loc[fechas[3], 'B'] = np.nan\n",
    "\n",
    "print(\"DataFrame con algunos valores nulos:\")\n",
    "print(df_con_nulos)\n",
    "\n",
    "print(\"\\nConteo de valores nulos:\")\n",
    "print(df_con_nulos.isnull().sum())\n",
    "\n",
    "print(\"\\nConteo de valores no nulos:\")\n",
    "print(df_con_nulos.notnull().sum())"
   ]
  },
  {
   "cell_type": "markdown",
   "id": "27507dfa",
   "metadata": {},
   "source": [
    "## Operaciones Aritméticas"
   ]
  },
  {
   "cell_type": "code",
   "execution_count": null,
   "id": "c83f5ee0",
   "metadata": {},
   "outputs": [],
   "source": [
    "# Operaciones entre columnas\n",
    "print(\"Suma de columnas A y B:\")\n",
    "suma_ab = df['A'] + df['B']\n",
    "print(suma_ab)\n",
    "\n",
    "print(\"\\nMultiplicación de A por C:\")\n",
    "mult_ac = df['A'] * df['C']\n",
    "print(mult_ac)\n",
    "\n",
    "# Operaciones con escalares\n",
    "print(\"\\nSumar 10 a columna C:\")\n",
    "c_mas_10 = df['C'] + 10\n",
    "print(c_mas_10)\n",
    "\n",
    "print(\"\\nDividir columna A entre 2:\")\n",
    "a_div_2 = df['A'] / 2\n",
    "print(a_div_2)"
   ]
  },
  {
   "cell_type": "code",
   "execution_count": null,
   "id": "7922bd2a",
   "metadata": {},
   "outputs": [],
   "source": [
    "# Operaciones entre DataFrames\n",
    "df2 = pd.DataFrame({\n",
    "    'A': np.random.randn(8),\n",
    "    'B': np.random.randn(8),\n",
    "    'C': np.random.randint(1, 50, 8)\n",
    "}, index=fechas)\n",
    "\n",
    "print(\"Segundo DataFrame:\")\n",
    "print(df2)\n",
    "\n",
    "print(\"\\nSuma de DataFrames:\")\n",
    "suma_dfs = df[['A', 'B', 'C']] + df2\n",
    "print(suma_dfs)\n",
    "\n",
    "print(\"\\nResta de DataFrames:\")\n",
    "resta_dfs = df[['A', 'B', 'C']] - df2\n",
    "print(resta_dfs)"
   ]
  },
  {
   "cell_type": "markdown",
   "id": "47b78785",
   "metadata": {},
   "source": [
    "## Operaciones con Series Desalineadas"
   ]
  },
  {
   "cell_type": "code",
   "execution_count": null,
   "id": "45d4751f",
   "metadata": {},
   "outputs": [],
   "source": [
    "# Crear Serie con índice diferente\n",
    "fechas_diferentes = pd.date_range('20240103', periods=6)\n",
    "serie_desalineada = pd.Series([1, 2, 3, 4, 5, 6], index=fechas_diferentes)\n",
    "\n",
    "print(\"Serie con índices diferentes:\")\n",
    "print(serie_desalineada)\n",
    "\n",
    "print(\"\\nSuma de DataFrame columna A con Serie desalineada:\")\n",
    "resultado_desalineado = df['A'] + serie_desalineada\n",
    "print(resultado_desalineado)\n",
    "\n",
    "# Usar métodos explícitos para controlar el comportamiento\n",
    "print(\"\\nUsando .add() con fill_value:\")\n",
    "resultado_add = df['A'].add(serie_desalineada, fill_value=0)\n",
    "print(resultado_add)"
   ]
  },
  {
   "cell_type": "markdown",
   "id": "6f394046",
   "metadata": {},
   "source": [
    "## Funciones Agregadas Personalizadas"
   ]
  },
  {
   "cell_type": "code",
   "execution_count": null,
   "id": "fd76cba9",
   "metadata": {},
   "outputs": [],
   "source": [
    "# Función simple\n",
    "print(\"Aplicar función lambda (multiplicar por 5.6):\")\n",
    "resultado_lambda = df.agg(lambda x: x.mean() * 5.6)\n",
    "print(resultado_lambda)\n",
    "\n",
    "# Múltiples funciones agregadas\n",
    "print(\"\\nMúltiples funciones agregadas:\")\n",
    "resultado_multi = df.agg(['mean', 'std', 'min', 'max'])\n",
    "print(resultado_multi)\n",
    "\n",
    "# Funciones diferentes por columna\n",
    "print(\"\\nFunciones específicas por columna:\")\n",
    "resultado_especifico = df.agg({\n",
    "    'A': ['mean', 'std'],\n",
    "    'B': ['min', 'max'],\n",
    "    'C': ['sum', 'count']\n",
    "})\n",
    "print(resultado_especifico)"
   ]
  },
  {
   "cell_type": "markdown",
   "id": "9def7f66",
   "metadata": {},
   "source": [
    "## Transform - Operaciones que Mantienen la Forma"
   ]
  },
  {
   "cell_type": "code",
   "execution_count": null,
   "id": "66693a86",
   "metadata": {},
   "outputs": [],
   "source": [
    "# Transform aplica función pero mantiene la forma original\n",
    "print(\"Transform - multiplicar por 100:\")\n",
    "resultado_transform = df.transform(lambda x: x * 100)\n",
    "print(resultado_transform)\n",
    "\n",
    "print(\"\\nTransform - normalización z-score:\")\n",
    "resultado_zscore = df.transform(lambda x: (x - x.mean()) / x.std())\n",
    "print(resultado_zscore)\n",
    "\n",
    "# Transform con múltiples funciones\n",
    "print(\"\\nTransform con múltiples funciones:\")\n",
    "resultado_multi_transform = df[['A', 'B']].transform({\n",
    "    'A': lambda x: x * 2,\n",
    "    'B': lambda x: x ** 2\n",
    "})\n",
    "print(resultado_multi_transform)"
   ]
  },
  {
   "cell_type": "markdown",
   "id": "6153f872",
   "metadata": {},
   "source": [
    "## Operaciones Acumulativas"
   ]
  },
  {
   "cell_type": "code",
   "execution_count": null,
   "id": "67bace7c",
   "metadata": {},
   "outputs": [],
   "source": [
    "# Suma acumulativa\n",
    "print(\"Suma acumulativa:\")\n",
    "cumsum_resultado = df[['A', 'B', 'C']].cumsum()\n",
    "print(cumsum_resultado)\n",
    "\n",
    "print(\"\\nProducto acumulativo:\")\n",
    "cumprod_resultado = df[['A', 'B']].cumprod()\n",
    "print(cumprod_resultado)\n",
    "\n",
    "print(\"\\nMáximo acumulativo:\")\n",
    "cummax_resultado = df[['A', 'B', 'C']].cummax()\n",
    "print(cummax_resultado)\n",
    "\n",
    "print(\"\\nMínimo acumulativo:\")\n",
    "cummin_resultado = df[['A', 'B', 'C']].cummin()\n",
    "print(cummin_resultado)"
   ]
  }
 ],
 "metadata": {
  "language_info": {
   "name": "python"
  }
 },
 "nbformat": 4,
 "nbformat_minor": 5
}
