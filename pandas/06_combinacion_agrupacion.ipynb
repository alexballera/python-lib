{
 "cells": [
  {
   "cell_type": "markdown",
   "id": "5b0ecb75",
   "metadata": {},
   "source": [
    "# Combinación y Agrupación de Datos\n",
    "\n",
    "Este notebook cubre concat, merge, join y operaciones groupby en pandas."
   ]
  },
  {
   "cell_type": "code",
   "execution_count": 1,
   "id": "2e33aa21",
   "metadata": {},
   "outputs": [
    {
     "name": "stdout",
     "output_type": "stream",
     "text": [
      "DataFrame 1:\n",
      "    A   B key\n",
      "0  A0  B0  K0\n",
      "1  A1  B1  K1\n",
      "2  A2  B2  K2\n",
      "3  A3  B3  K3\n",
      "\n",
      "DataFrame 2:\n",
      "    C   D key\n",
      "0  C0  D0  K0\n",
      "1  C1  D1  K1\n",
      "2  C2  D2  K2\n",
      "3  C3  D3  K3\n"
     ]
    }
   ],
   "source": [
    "import numpy as np\n",
    "import pandas as pd\n",
    "\n",
    "# Crear DataFrames de ejemplo para combinaciones\n",
    "df1 = pd.DataFrame({\n",
    "    'A': ['A0', 'A1', 'A2', 'A3'],\n",
    "    'B': ['B0', 'B1', 'B2', 'B3'],\n",
    "    'key': ['K0', 'K1', 'K2', 'K3']\n",
    "})\n",
    "\n",
    "df2 = pd.DataFrame({\n",
    "    'C': ['C0', 'C1', 'C2', 'C3'],\n",
    "    'D': ['D0', 'D1', 'D2', 'D3'],\n",
    "    'key': ['K0', 'K1', 'K2', 'K3']\n",
    "})\n",
    "\n",
    "print(\"DataFrame 1:\")\n",
    "print(df1)\n",
    "print(\"\\nDataFrame 2:\")\n",
    "print(df2)"
   ]
  },
  {
   "cell_type": "markdown",
   "id": "d36a88b6",
   "metadata": {},
   "source": [
    "## Concatenación con concat()"
   ]
  },
  {
   "cell_type": "code",
   "execution_count": 2,
   "id": "9abc8e3f",
   "metadata": {},
   "outputs": [
    {
     "name": "stdout",
     "output_type": "stream",
     "text": [
      "Concatenación vertical:\n",
      "     A    B key    C    D\n",
      "0   A0   B0  K0  NaN  NaN\n",
      "1   A1   B1  K1  NaN  NaN\n",
      "2   A2   B2  K2  NaN  NaN\n",
      "3   A3   B3  K3  NaN  NaN\n",
      "0  NaN  NaN  K0   C0   D0\n",
      "1  NaN  NaN  K1   C1   D1\n",
      "2  NaN  NaN  K2   C2   D2\n",
      "3  NaN  NaN  K3   C3   D3\n",
      "\n",
      "Concatenación vertical con keys:\n",
      "             A    B key    C    D\n",
      "primera 0   A0   B0  K0  NaN  NaN\n",
      "        1   A1   B1  K1  NaN  NaN\n",
      "        2   A2   B2  K2  NaN  NaN\n",
      "        3   A3   B3  K3  NaN  NaN\n",
      "segunda 0  NaN  NaN  K0   C0   D0\n",
      "        1  NaN  NaN  K1   C1   D1\n",
      "        2  NaN  NaN  K2   C2   D2\n",
      "        3  NaN  NaN  K3   C3   D3\n",
      "\n",
      "Concatenación vertical ignorando índices:\n",
      "     A    B key    C    D\n",
      "0   A0   B0  K0  NaN  NaN\n",
      "1   A1   B1  K1  NaN  NaN\n",
      "2   A2   B2  K2  NaN  NaN\n",
      "3   A3   B3  K3  NaN  NaN\n",
      "4  NaN  NaN  K0   C0   D0\n",
      "5  NaN  NaN  K1   C1   D1\n",
      "6  NaN  NaN  K2   C2   D2\n",
      "7  NaN  NaN  K3   C3   D3\n"
     ]
    }
   ],
   "source": [
    "# Concatenación vertical (apilar filas)\n",
    "print(\"Concatenación vertical:\")\n",
    "concat_vertical = pd.concat([df1, df2])\n",
    "print(concat_vertical)\n",
    "\n",
    "print(\"\\nConcatenación vertical con keys:\")\n",
    "concat_con_keys = pd.concat([df1, df2], keys=['primera', 'segunda'])\n",
    "print(concat_con_keys)\n",
    "\n",
    "print(\"\\nConcatenación vertical ignorando índices:\")\n",
    "concat_ignore_index = pd.concat([df1, df2], ignore_index=True)\n",
    "print(concat_ignore_index)"
   ]
  },
  {
   "cell_type": "code",
   "execution_count": 3,
   "id": "9f56d7b8",
   "metadata": {},
   "outputs": [
    {
     "name": "stdout",
     "output_type": "stream",
     "text": [
      "Concatenación horizontal:\n",
      "    A   B key   C   D key\n",
      "0  A0  B0  K0  C0  D0  K0\n",
      "1  A1  B1  K1  C1  D1  K1\n",
      "2  A2  B2  K2  C2  D2  K2\n",
      "3  A3  B3  K3  C3  D3  K3\n",
      "\n",
      "Concatenación horizontal con sufijos:\n",
      "  izq         der        \n",
      "    A   B key   C   D key\n",
      "0  A0  B0  K0  C0  D0  K0\n",
      "1  A1  B1  K1  C1  D1  K1\n",
      "2  A2  B2  K2  C2  D2  K2\n",
      "3  A3  B3  K3  C3  D3  K3\n"
     ]
    }
   ],
   "source": [
    "# Concatenación horizontal (agregar columnas)\n",
    "print(\"Concatenación horizontal:\")\n",
    "concat_horizontal = pd.concat([df1, df2], axis=1)\n",
    "print(concat_horizontal)\n",
    "\n",
    "# Manejar columnas duplicadas\n",
    "print(\"\\nConcatenación horizontal con sufijos:\")\n",
    "concat_sufijos = pd.concat([df1, df2], axis=1, keys=['izq', 'der'])\n",
    "print(concat_sufijos)"
   ]
  },
  {
   "cell_type": "code",
   "execution_count": 4,
   "id": "2d6978d6",
   "metadata": {},
   "outputs": [
    {
     "name": "stdout",
     "output_type": "stream",
     "text": [
      "DataFrame 3 (diferente estructura):\n",
      "    A   E\n",
      "0  A4  E4\n",
      "1  A5  E5\n",
      "\n",
      "Concatenación con estructuras diferentes:\n",
      "    A    B  key    E\n",
      "0  A0   B0   K0  NaN\n",
      "1  A1   B1   K1  NaN\n",
      "2  A2   B2   K2  NaN\n",
      "3  A3   B3   K3  NaN\n",
      "0  A4  NaN  NaN   E4\n",
      "1  A5  NaN  NaN   E5\n",
      "\n",
      "Concatenación solo con columnas comunes (join='inner'):\n",
      "    A\n",
      "0  A0\n",
      "1  A1\n",
      "2  A2\n",
      "3  A3\n",
      "0  A4\n",
      "1  A5\n"
     ]
    }
   ],
   "source": [
    "# Concatenación con DataFrames de diferentes tamaños\n",
    "df3 = pd.DataFrame({\n",
    "    'A': ['A4', 'A5'],\n",
    "    'E': ['E4', 'E5']\n",
    "})\n",
    "\n",
    "print(\"DataFrame 3 (diferente estructura):\")\n",
    "print(df3)\n",
    "\n",
    "print(\"\\nConcatenación con estructuras diferentes:\")\n",
    "concat_diferentes = pd.concat([df1, df3], sort=False)\n",
    "print(concat_diferentes)\n",
    "\n",
    "print(\"\\nConcatenación solo con columnas comunes (join='inner'):\")\n",
    "concat_inner = pd.concat([df1, df3], join='inner')\n",
    "print(concat_inner)"
   ]
  },
  {
   "cell_type": "markdown",
   "id": "da9ed897",
   "metadata": {},
   "source": [
    "## Merge - Uniones tipo SQL"
   ]
  },
  {
   "cell_type": "code",
   "execution_count": 5,
   "id": "57edbdba",
   "metadata": {},
   "outputs": [
    {
     "name": "stdout",
     "output_type": "stream",
     "text": [
      "Inner Join:\n",
      "    A   B key   C   D\n",
      "0  A0  B0  K0  C0  D0\n",
      "1  A1  B1  K1  C1  D1\n",
      "2  A2  B2  K2  C2  D2\n",
      "3  A3  B3  K3  C3  D3\n",
      "\n",
      "DataFrame izquierdo:\n",
      "  key   A\n",
      "0  K0  A0\n",
      "1  K1  A1\n",
      "2  K2  A2\n",
      "\n",
      "DataFrame derecho:\n",
      "  key   B\n",
      "0  K0  B0\n",
      "1  K1  B1\n",
      "2  K3  B3\n"
     ]
    }
   ],
   "source": [
    "# Inner Join (intersección)\n",
    "print(\"Inner Join:\")\n",
    "inner_join = pd.merge(df1, df2, on='key')\n",
    "print(inner_join)\n",
    "\n",
    "# Crear DataFrames con keys diferentes para otros tipos de join\n",
    "left_df = pd.DataFrame({\n",
    "    'key': ['K0', 'K1', 'K2'],\n",
    "    'A': ['A0', 'A1', 'A2']\n",
    "})\n",
    "\n",
    "right_df = pd.DataFrame({\n",
    "    'key': ['K0', 'K1', 'K3'],\n",
    "    'B': ['B0', 'B1', 'B3']\n",
    "})\n",
    "\n",
    "print(\"\\nDataFrame izquierdo:\")\n",
    "print(left_df)\n",
    "print(\"\\nDataFrame derecho:\")\n",
    "print(right_df)"
   ]
  },
  {
   "cell_type": "code",
   "execution_count": 6,
   "id": "487885ee",
   "metadata": {},
   "outputs": [
    {
     "name": "stdout",
     "output_type": "stream",
     "text": [
      "Inner Join:\n",
      "  key   A   B\n",
      "0  K0  A0  B0\n",
      "1  K1  A1  B1\n",
      "\n",
      "Left Join:\n",
      "  key   A    B\n",
      "0  K0  A0   B0\n",
      "1  K1  A1   B1\n",
      "2  K2  A2  NaN\n",
      "\n",
      "Right Join:\n",
      "  key    A   B\n",
      "0  K0   A0  B0\n",
      "1  K1   A1  B1\n",
      "2  K3  NaN  B3\n",
      "\n",
      "Outer Join (unión completa):\n",
      "  key    A    B\n",
      "0  K0   A0   B0\n",
      "1  K1   A1   B1\n",
      "2  K2   A2  NaN\n",
      "3  K3  NaN   B3\n"
     ]
    }
   ],
   "source": [
    "# Diferentes tipos de join\n",
    "print(\"Inner Join:\")\n",
    "print(pd.merge(left_df, right_df, on='key', how='inner'))\n",
    "\n",
    "print(\"\\nLeft Join:\")\n",
    "print(pd.merge(left_df, right_df, on='key', how='left'))\n",
    "\n",
    "print(\"\\nRight Join:\")\n",
    "print(pd.merge(left_df, right_df, on='key', how='right'))\n",
    "\n",
    "print(\"\\nOuter Join (unión completa):\")\n",
    "print(pd.merge(left_df, right_df, on='key', how='outer'))"
   ]
  },
  {
   "cell_type": "code",
   "execution_count": 7,
   "id": "af84a044",
   "metadata": {},
   "outputs": [
    {
     "name": "stdout",
     "output_type": "stream",
     "text": [
      "Merge con nombres de columnas diferentes:\n",
      "  left_key   A right_key   B\n",
      "0       K0  A0        K0  B0\n",
      "1       K1  A1        K1  B1\n",
      "\n",
      "Merge por índice:\n",
      "     A   B\n",
      "K0  A0  B0\n",
      "K1  A1  B1\n"
     ]
    }
   ],
   "source": [
    "# Merge con diferentes nombres de columnas\n",
    "left_df2 = pd.DataFrame({\n",
    "    'left_key': ['K0', 'K1', 'K2'],\n",
    "    'A': ['A0', 'A1', 'A2']\n",
    "})\n",
    "\n",
    "right_df2 = pd.DataFrame({\n",
    "    'right_key': ['K0', 'K1', 'K3'],\n",
    "    'B': ['B0', 'B1', 'B3']\n",
    "})\n",
    "\n",
    "print(\"Merge con nombres de columnas diferentes:\")\n",
    "merge_diff_names = pd.merge(left_df2, right_df2, \n",
    "                           left_on='left_key', right_on='right_key')\n",
    "print(merge_diff_names)\n",
    "\n",
    "# Merge por índice\n",
    "print(\"\\nMerge por índice:\")\n",
    "merge_index = pd.merge(left_df2.set_index('left_key'), \n",
    "                      right_df2.set_index('right_key'), \n",
    "                      left_index=True, right_index=True)\n",
    "print(merge_index)"
   ]
  },
  {
   "cell_type": "markdown",
   "id": "ded8aa59",
   "metadata": {},
   "source": [
    "## GroupBy - Agrupación de Datos"
   ]
  },
  {
   "cell_type": "code",
   "execution_count": 8,
   "id": "825f1ea7",
   "metadata": {},
   "outputs": [
    {
     "name": "stdout",
     "output_type": "stream",
     "text": [
      "DataFrame para groupby:\n",
      "  Grupo Categoria  Valor1    Valor2\n",
      "0     A         X      52  1.579213\n",
      "1     B         X      93  0.767435\n",
      "2     A         Y      15 -0.469474\n",
      "3     B         Y      72  0.542560\n",
      "4     A         X      61 -0.463418\n",
      "5     B         X      21 -0.465730\n",
      "6     A         Y      83  0.241962\n",
      "7     B         Y      87 -1.913280\n"
     ]
    }
   ],
   "source": [
    "# Crear DataFrame para ejemplos de groupby\n",
    "np.random.seed(42)\n",
    "df_group = pd.DataFrame({\n",
    "    'Grupo': ['A', 'B', 'A', 'B', 'A', 'B', 'A', 'B'],\n",
    "    'Categoria': ['X', 'X', 'Y', 'Y', 'X', 'X', 'Y', 'Y'],\n",
    "    'Valor1': np.random.randint(1, 100, 8),\n",
    "    'Valor2': np.random.randn(8)\n",
    "})\n",
    "\n",
    "print(\"DataFrame para groupby:\")\n",
    "print(df_group)"
   ]
  },
  {
   "cell_type": "code",
   "execution_count": 10,
   "id": "42a3de70",
   "metadata": {},
   "outputs": [
    {
     "name": "stdout",
     "output_type": "stream",
     "text": [
      "Agrupación por 'Grupo':\n",
      "      Categoria  Valor1    Valor2\n",
      "Grupo                            \n",
      "A          XYXY     211  0.888283\n",
      "B          XYXY     273 -1.069015\n",
      "\n",
      "Media por grupo:\n",
      "       Valor1    Valor2\n",
      "Grupo                  \n",
      "A       52.75  0.222071\n",
      "B       68.25 -0.267254\n",
      "\n",
      "Conteo por grupo:\n",
      "       Categoria  Valor1  Valor2\n",
      "Grupo                           \n",
      "A              4       4       4\n",
      "B              4       4       4\n",
      "\n",
      "Estadísticas descriptivas por grupo:\n",
      "      Valor1                                                  Valor2  \\\n",
      "       count   mean        std   min    25%   50%   75%   max  count   \n",
      "Grupo                                                                  \n",
      "A        4.0  52.75  28.335784  15.0  42.75  56.5  66.5  83.0    4.0   \n",
      "B        4.0  68.25  32.714676  21.0  59.25  79.5  88.5  93.0    4.0   \n",
      "\n",
      "                                                                             \n",
      "           mean       std       min       25%       50%       75%       max  \n",
      "Grupo                                                                        \n",
      "A      0.222071  0.964427 -0.469474 -0.464932 -0.110728  0.576275  1.579213  \n",
      "B     -0.267254  1.221362 -1.913280 -0.827617  0.038415  0.598779  0.767435  \n"
     ]
    }
   ],
   "source": [
    "# Agrupación simple\n",
    "print(\"Agrupación por 'Grupo':\")\n",
    "grupo_simple = df_group.groupby('Grupo')\n",
    "print(grupo_simple.sum())\n",
    "\n",
    "print(\"\\nMedia por grupo:\")\n",
    "print(grupo_simple.mean(numeric_only=True))\n",
    "\n",
    "print(\"\\nConteo por grupo:\")\n",
    "print(grupo_simple.count())\n",
    "\n",
    "print(\"\\nEstadísticas descriptivas por grupo:\")\n",
    "print(grupo_simple.describe())"
   ]
  },
  {
   "cell_type": "code",
   "execution_count": 11,
   "id": "b9a8d0da",
   "metadata": {},
   "outputs": [
    {
     "name": "stdout",
     "output_type": "stream",
     "text": [
      "Agrupación por 'Grupo' y 'Categoria':\n",
      "                 Valor1    Valor2\n",
      "Grupo Categoria                  \n",
      "A     X             113  1.115795\n",
      "      Y              98 -0.227512\n",
      "B     X             114  0.301705\n",
      "      Y             159 -1.370720\n",
      "\n",
      "Media por grupos múltiples:\n",
      "                 Valor1    Valor2\n",
      "Grupo Categoria                  \n",
      "A     X            56.5  0.557898\n",
      "      Y            49.0 -0.113756\n",
      "B     X            57.0  0.150852\n",
      "      Y            79.5 -0.685360\n",
      "\n",
      "Tamaño de cada grupo:\n",
      "Grupo  Categoria\n",
      "A      X            2\n",
      "       Y            2\n",
      "B      X            2\n",
      "       Y            2\n",
      "dtype: int64\n"
     ]
    }
   ],
   "source": [
    "# Agrupación por múltiples columnas\n",
    "print(\"Agrupación por 'Grupo' y 'Categoria':\")\n",
    "grupo_multiple = df_group.groupby(['Grupo', 'Categoria'])\n",
    "print(grupo_multiple.sum())\n",
    "\n",
    "print(\"\\nMedia por grupos múltiples:\")\n",
    "print(grupo_multiple.mean())\n",
    "\n",
    "print(\"\\nTamaño de cada grupo:\")\n",
    "print(grupo_multiple.size())"
   ]
  },
  {
   "cell_type": "code",
   "execution_count": 13,
   "id": "14bdcb20",
   "metadata": {},
   "outputs": [
    {
     "name": "stdout",
     "output_type": "stream",
     "text": [
      "Funciones específicas por columna:\n",
      "      Valor1                 Valor2                    \n",
      "         sum   mean count       min       max       std\n",
      "Grupo                                                  \n",
      "A        211  52.75     4 -0.469474  1.579213  0.964427\n",
      "B        273  68.25     4 -1.913280  0.767435  1.221362\n",
      "\n",
      "Funciones múltiples (solo columnas numéricas):\n",
      "      Valor1                 Valor2                \n",
      "         sum   mean count       sum      mean count\n",
      "Grupo                                              \n",
      "A        211  52.75     4  0.888283  0.222071     4\n",
      "B        273  68.25     4 -1.069015 -0.267254     4\n"
     ]
    }
   ],
   "source": [
    "# Aplicar diferentes funciones a diferentes columnas\n",
    "print(\"Funciones específicas por columna:\")\n",
    "agg_especifico = df_group.groupby('Grupo').agg({\n",
    "    'Valor1': ['sum', 'mean', 'count'],\n",
    "    'Valor2': ['min', 'max', 'std']\n",
    "})\n",
    "print(agg_especifico)\n",
    "\n",
    "print(\"\\nFunciones múltiples (solo columnas numéricas):\")\n",
    "agg_multiple = df_group.groupby('Grupo')[['Valor1', 'Valor2']].agg(['sum', 'mean', 'count'])\n",
    "print(agg_multiple)"
   ]
  },
  {
   "cell_type": "code",
   "execution_count": 14,
   "id": "a91f0e91",
   "metadata": {},
   "outputs": [
    {
     "name": "stdout",
     "output_type": "stream",
     "text": [
      "Transform - normalización por grupo:\n",
      "  Grupo Categoria  Valor1    Valor2  Valor1_normalizado\n",
      "0     A         X      52  1.579213           -0.026468\n",
      "1     B         X      93  0.767435            0.756541\n",
      "2     A         Y      15 -0.469474           -1.332238\n",
      "3     B         Y      72  0.542560            0.114627\n",
      "4     A         X      61 -0.463418            0.291151\n",
      "5     B         X      21 -0.465730           -1.444306\n",
      "6     A         Y      83  0.241962            1.067555\n",
      "7     B         Y      87 -1.913280            0.573137\n",
      "\n",
      "Transform - ranking dentro del grupo:\n",
      "  Grupo  Valor1  Ranking\n",
      "0     A      52      2.0\n",
      "1     B      93      4.0\n",
      "2     A      15      1.0\n",
      "3     B      72      2.0\n",
      "4     A      61      3.0\n",
      "5     B      21      1.0\n",
      "6     A      83      4.0\n",
      "7     B      87      3.0\n"
     ]
    }
   ],
   "source": [
    "# Transform - mantiene el tamaño original\n",
    "print(\"Transform - normalización por grupo:\")\n",
    "df_transform = df_group.copy()\n",
    "df_transform['Valor1_normalizado'] = df_group.groupby('Grupo')['Valor1'].transform(\n",
    "    lambda x: (x - x.mean()) / x.std()\n",
    ")\n",
    "print(df_transform)\n",
    "\n",
    "print(\"\\nTransform - ranking dentro del grupo:\")\n",
    "df_transform['Ranking'] = df_group.groupby('Grupo')['Valor1'].rank(method='dense')\n",
    "print(df_transform[['Grupo', 'Valor1', 'Ranking']])"
   ]
  },
  {
   "cell_type": "code",
   "execution_count": null,
   "id": "31624062",
   "metadata": {},
   "outputs": [
    {
     "name": "stdout",
     "output_type": "stream",
     "text": [
      "Filter - grupos con más de 3 elementos:\n",
      "  Grupo Categoria  Valor1    Valor2\n",
      "0     A         X      52  1.579213\n",
      "1     B         X      93  0.767435\n",
      "2     A         Y      15 -0.469474\n",
      "3     B         Y      72  0.542560\n",
      "4     A         X      61 -0.463418\n",
      "5     B         X      21 -0.465730\n",
      "6     A         Y      83  0.241962\n",
      "7     B         Y      87 -1.913280\n",
      "\n",
      "Filter - grupos donde la media de Valor1 > 50:\n",
      "Empty DataFrame\n",
      "Columns: [Grupo, Categoria, Valor1, Valor2]\n",
      "Index: []\n",
      "\n",
      "Apply - función personalizada:\n",
      "       count  valor1_sum  valor2_mean\n",
      "Grupo                                \n",
      "A        4.0       211.0     0.222071\n",
      "B        4.0       273.0    -0.267254\n"
     ]
    },
    {
     "name": "stderr",
     "output_type": "stream",
     "text": [
      "/tmp/ipykernel_580152/2970373422.py:19: FutureWarning: DataFrameGroupBy.apply operated on the grouping columns. This behavior is deprecated, and in a future version of pandas the grouping columns will be excluded from the operation. Either pass `include_groups=False` to exclude the groupings or explicitly select the grouping columns after groupby to silence this warning.\n",
      "  resultado_apply = df_group.groupby('Grupo').apply(resumen_grupo)\n"
     ]
    }
   ],
   "source": [
    "# Filter - filtrar grupos completos\n",
    "print(\"Filter - grupos con más de 3 elementos:\")\n",
    "grupos_grandes = df_group.groupby('Grupo').filter(lambda x: len(x) > 3)\n",
    "print(grupos_grandes)\n",
    "\n",
    "print(\"\\nFilter - grupos donde la media de Valor1 > 50:\")\n",
    "grupos_alto_valor = df_group.groupby('Grupo').filter(lambda x: x['Valor1'].mean() > 50)\n",
    "print(grupos_alto_valor)\n",
    "\n",
    "# Apply - aplicar función personalizada\n",
    "print(\"\\nApply - función personalizada:\")\n",
    "def resumen_grupo(grupo):\n",
    "    return pd.Series({\n",
    "        'count': len(grupo),\n",
    "        'valor1_sum': grupo['Valor1'].sum(),\n",
    "        'valor2_mean': grupo['Valor2'].mean()\n",
    "    })\n",
    "\n",
    "resultado_apply = df_group.groupby('Grupo').apply(resumen_grupo)\n",
    "print(resultado_apply)"
   ]
  }
 ],
 "metadata": {
  "kernelspec": {
   "display_name": ".venv",
   "language": "python",
   "name": "python3"
  },
  "language_info": {
   "codemirror_mode": {
    "name": "ipython",
    "version": 3
   },
   "file_extension": ".py",
   "mimetype": "text/x-python",
   "name": "python",
   "nbconvert_exporter": "python",
   "pygments_lexer": "ipython3",
   "version": "3.12.3"
  }
 },
 "nbformat": 4,
 "nbformat_minor": 5
}
