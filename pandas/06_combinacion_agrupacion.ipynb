{
 "cells": [
  {
   "cell_type": "markdown",
   "id": "5b0ecb75",
   "metadata": {},
   "source": [
    "# Combinación y Agrupación de Datos\n",
    "\n",
    "Este notebook cubre concat, merge, join y operaciones groupby en pandas."
   ]
  },
  {
   "cell_type": "code",
   "execution_count": null,
   "id": "2e33aa21",
   "metadata": {},
   "outputs": [],
   "source": [
    "import numpy as np\n",
    "import pandas as pd\n",
    "\n",
    "# Crear DataFrames de ejemplo para combinaciones\n",
    "df1 = pd.DataFrame({\n",
    "    'A': ['A0', 'A1', 'A2', 'A3'],\n",
    "    'B': ['B0', 'B1', 'B2', 'B3'],\n",
    "    'key': ['K0', 'K1', 'K2', 'K3']\n",
    "})\n",
    "\n",
    "df2 = pd.DataFrame({\n",
    "    'C': ['C0', 'C1', 'C2', 'C3'],\n",
    "    'D': ['D0', 'D1', 'D2', 'D3'],\n",
    "    'key': ['K0', 'K1', 'K2', 'K3']\n",
    "})\n",
    "\n",
    "print(\"DataFrame 1:\")\n",
    "print(df1)\n",
    "print(\"\\nDataFrame 2:\")\n",
    "print(df2)"
   ]
  },
  {
   "cell_type": "markdown",
   "id": "d36a88b6",
   "metadata": {},
   "source": [
    "## Concatenación con concat()"
   ]
  },
  {
   "cell_type": "code",
   "execution_count": null,
   "id": "9abc8e3f",
   "metadata": {},
   "outputs": [],
   "source": [
    "# Concatenación vertical (apilar filas)\n",
    "print(\"Concatenación vertical:\")\n",
    "concat_vertical = pd.concat([df1, df2])\n",
    "print(concat_vertical)\n",
    "\n",
    "print(\"\\nConcatenación vertical con keys:\")\n",
    "concat_con_keys = pd.concat([df1, df2], keys=['primera', 'segunda'])\n",
    "print(concat_con_keys)\n",
    "\n",
    "print(\"\\nConcatenación vertical ignorando índices:\")\n",
    "concat_ignore_index = pd.concat([df1, df2], ignore_index=True)\n",
    "print(concat_ignore_index)"
   ]
  },
  {
   "cell_type": "code",
   "execution_count": null,
   "id": "9f56d7b8",
   "metadata": {},
   "outputs": [],
   "source": [
    "# Concatenación horizontal (agregar columnas)\n",
    "print(\"Concatenación horizontal:\")\n",
    "concat_horizontal = pd.concat([df1, df2], axis=1)\n",
    "print(concat_horizontal)\n",
    "\n",
    "# Manejar columnas duplicadas\n",
    "print(\"\\nConcatenación horizontal con sufijos:\")\n",
    "concat_sufijos = pd.concat([df1, df2], axis=1, keys=['izq', 'der'])\n",
    "print(concat_sufijos)"
   ]
  },
  {
   "cell_type": "code",
   "execution_count": null,
   "id": "2d6978d6",
   "metadata": {},
   "outputs": [],
   "source": [
    "# Concatenación con DataFrames de diferentes tamaños\n",
    "df3 = pd.DataFrame({\n",
    "    'A': ['A4', 'A5'],\n",
    "    'E': ['E4', 'E5']\n",
    "})\n",
    "\n",
    "print(\"DataFrame 3 (diferente estructura):\")\n",
    "print(df3)\n",
    "\n",
    "print(\"\\nConcatenación con estructuras diferentes:\")\n",
    "concat_diferentes = pd.concat([df1, df3], sort=False)\n",
    "print(concat_diferentes)\n",
    "\n",
    "print(\"\\nConcatenación solo con columnas comunes (join='inner'):\")\n",
    "concat_inner = pd.concat([df1, df3], join='inner')\n",
    "print(concat_inner)"
   ]
  },
  {
   "cell_type": "markdown",
   "id": "da9ed897",
   "metadata": {},
   "source": [
    "## Merge - Uniones tipo SQL"
   ]
  },
  {
   "cell_type": "code",
   "execution_count": null,
   "id": "57edbdba",
   "metadata": {},
   "outputs": [],
   "source": [
    "# Inner Join (intersección)\n",
    "print(\"Inner Join:\")\n",
    "inner_join = pd.merge(df1, df2, on='key')\n",
    "print(inner_join)\n",
    "\n",
    "# Crear DataFrames con keys diferentes para otros tipos de join\n",
    "left_df = pd.DataFrame({\n",
    "    'key': ['K0', 'K1', 'K2'],\n",
    "    'A': ['A0', 'A1', 'A2']\n",
    "})\n",
    "\n",
    "right_df = pd.DataFrame({\n",
    "    'key': ['K0', 'K1', 'K3'],\n",
    "    'B': ['B0', 'B1', 'B3']\n",
    "})\n",
    "\n",
    "print(\"\\nDataFrame izquierdo:\")\n",
    "print(left_df)\n",
    "print(\"\\nDataFrame derecho:\")\n",
    "print(right_df)"
   ]
  },
  {
   "cell_type": "code",
   "execution_count": null,
   "id": "487885ee",
   "metadata": {},
   "outputs": [],
   "source": [
    "# Diferentes tipos de join\n",
    "print(\"Inner Join:\")\n",
    "print(pd.merge(left_df, right_df, on='key', how='inner'))\n",
    "\n",
    "print(\"\\nLeft Join:\")\n",
    "print(pd.merge(left_df, right_df, on='key', how='left'))\n",
    "\n",
    "print(\"\\nRight Join:\")\n",
    "print(pd.merge(left_df, right_df, on='key', how='right'))\n",
    "\n",
    "print(\"\\nOuter Join (unión completa):\")\n",
    "print(pd.merge(left_df, right_df, on='key', how='outer'))"
   ]
  },
  {
   "cell_type": "code",
   "execution_count": null,
   "id": "af84a044",
   "metadata": {},
   "outputs": [],
   "source": [
    "# Merge con diferentes nombres de columnas\n",
    "left_df2 = pd.DataFrame({\n",
    "    'left_key': ['K0', 'K1', 'K2'],\n",
    "    'A': ['A0', 'A1', 'A2']\n",
    "})\n",
    "\n",
    "right_df2 = pd.DataFrame({\n",
    "    'right_key': ['K0', 'K1', 'K3'],\n",
    "    'B': ['B0', 'B1', 'B3']\n",
    "})\n",
    "\n",
    "print(\"Merge con nombres de columnas diferentes:\")\n",
    "merge_diff_names = pd.merge(left_df2, right_df2, \n",
    "                           left_on='left_key', right_on='right_key')\n",
    "print(merge_diff_names)\n",
    "\n",
    "# Merge por índice\n",
    "print(\"\\nMerge por índice:\")\n",
    "merge_index = pd.merge(left_df2.set_index('left_key'), \n",
    "                      right_df2.set_index('right_key'), \n",
    "                      left_index=True, right_index=True)\n",
    "print(merge_index)"
   ]
  },
  {
   "cell_type": "markdown",
   "id": "ded8aa59",
   "metadata": {},
   "source": [
    "## GroupBy - Agrupación de Datos"
   ]
  },
  {
   "cell_type": "code",
   "execution_count": null,
   "id": "825f1ea7",
   "metadata": {},
   "outputs": [],
   "source": [
    "# Crear DataFrame para ejemplos de groupby\n",
    "np.random.seed(42)\n",
    "df_group = pd.DataFrame({\n",
    "    'Grupo': ['A', 'B', 'A', 'B', 'A', 'B', 'A', 'B'],\n",
    "    'Categoria': ['X', 'X', 'Y', 'Y', 'X', 'X', 'Y', 'Y'],\n",
    "    'Valor1': np.random.randint(1, 100, 8),\n",
    "    'Valor2': np.random.randn(8)\n",
    "})\n",
    "\n",
    "print(\"DataFrame para groupby:\")\n",
    "print(df_group)"
   ]
  },
  {
   "cell_type": "code",
   "execution_count": null,
   "id": "42a3de70",
   "metadata": {},
   "outputs": [],
   "source": [
    "# Agrupación simple\n",
    "print(\"Agrupación por 'Grupo':\")\n",
    "grupo_simple = df_group.groupby('Grupo')\n",
    "print(grupo_simple.sum())\n",
    "\n",
    "print(\"\\nMedia por grupo:\")\n",
    "print(grupo_simple.mean())\n",
    "\n",
    "print(\"\\nConteo por grupo:\")\n",
    "print(grupo_simple.count())\n",
    "\n",
    "print(\"\\nEstadísticas descriptivas por grupo:\")\n",
    "print(grupo_simple.describe())"
   ]
  },
  {
   "cell_type": "code",
   "execution_count": null,
   "id": "b9a8d0da",
   "metadata": {},
   "outputs": [],
   "source": [
    "# Agrupación por múltiples columnas\n",
    "print(\"Agrupación por 'Grupo' y 'Categoria':\")\n",
    "grupo_multiple = df_group.groupby(['Grupo', 'Categoria'])\n",
    "print(grupo_multiple.sum())\n",
    "\n",
    "print(\"\\nMedia por grupos múltiples:\")\n",
    "print(grupo_multiple.mean())\n",
    "\n",
    "print(\"\\nTamaño de cada grupo:\")\n",
    "print(grupo_multiple.size())"
   ]
  },
  {
   "cell_type": "code",
   "execution_count": null,
   "id": "14bdcb20",
   "metadata": {},
   "outputs": [],
   "source": [
    "# Aplicar diferentes funciones a diferentes columnas\n",
    "print(\"Funciones específicas por columna:\")\n",
    "agg_especifico = df_group.groupby('Grupo').agg({\n",
    "    'Valor1': ['sum', 'mean', 'count'],\n",
    "    'Valor2': ['min', 'max', 'std']\n",
    "})\n",
    "print(agg_especifico)\n",
    "\n",
    "print(\"\\nFunciones múltiples:\")\n",
    "agg_multiple = df_group.groupby('Grupo').agg(['sum', 'mean', 'count'])\n",
    "print(agg_multiple)"
   ]
  },
  {
   "cell_type": "code",
   "execution_count": null,
   "id": "a91f0e91",
   "metadata": {},
   "outputs": [],
   "source": [
    "# Transform - mantiene el tamaño original\n",
    "print(\"Transform - normalización por grupo:\")\n",
    "df_transform = df_group.copy()\n",
    "df_transform['Valor1_normalizado'] = df_group.groupby('Grupo')['Valor1'].transform(\n",
    "    lambda x: (x - x.mean()) / x.std()\n",
    ")\n",
    "print(df_transform)\n",
    "\n",
    "print(\"\\nTransform - ranking dentro del grupo:\")\n",
    "df_transform['Ranking'] = df_group.groupby('Grupo')['Valor1'].rank(method='dense')\n",
    "print(df_transform[['Grupo', 'Valor1', 'Ranking']])"
   ]
  },
  {
   "cell_type": "code",
   "execution_count": null,
   "id": "31624062",
   "metadata": {},
   "outputs": [],
   "source": [
    "# Filter - filtrar grupos completos\n",
    "print(\"Filter - grupos con más de 3 elementos:\")\n",
    "grupos_grandes = df_group.groupby('Grupo').filter(lambda x: len(x) > 3)\n",
    "print(grupos_grandes)\n",
    "\n",
    "print(\"\\nFilter - grupos donde la media de Valor1 > 50:\")\n",
    "grupos_alto_valor = df_group.groupby('Grupo').filter(lambda x: x['Valor1'].mean() > 50)\n",
    "print(grupos_alto_valor)\n",
    "\n",
    "# Apply - aplicar función personalizada\n",
    "print(\"\\nApply - función personalizada:\")\n",
    "def resumen_grupo(grupo):\n",
    "    return pd.Series({\n",
    "        'count': len(grupo),\n",
    "        'valor1_sum': grupo['Valor1'].sum(),\n",
    "        'valor2_mean': grupo['Valor2'].mean()\n",
    "    })\n",
    "\n",
    "resultado_apply = df_group.groupby('Grupo').apply(resumen_grupo)\n",
    "print(resultado_apply)"
   ]
  }
 ],
 "metadata": {
  "language_info": {
   "name": "python"
  }
 },
 "nbformat": 4,
 "nbformat_minor": 5
}
