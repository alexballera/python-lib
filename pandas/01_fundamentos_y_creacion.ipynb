{
 "cells": [
  {
   "cell_type": "markdown",
   "id": "16b6d2fc",
   "metadata": {},
   "source": [
    "# Fundamentos y Creación de Datos en Pandas\n",
    "\n",
    "Este notebook cubre los conceptos fundamentales de pandas y las diferentes formas de crear datos."
   ]
  },
  {
   "cell_type": "markdown",
   "id": "4d4ee4a5",
   "metadata": {},
   "source": [
    "## ¿Qué es Pandas?\n",
    "\n",
    "Pandas es una biblioteca de Python para análisis y manipulación de datos que proporciona dos estructuras de datos principales:\n",
    "\n",
    "- **Series**: Array unidimensional etiquetado que puede contener cualquier tipo de dato\n",
    "- **DataFrame**: Estructura bidimensional (como una tabla) con filas y columnas etiquetadas\n",
    "\n",
    "**Importación convencional:**"
   ]
  },
  {
   "cell_type": "code",
   "execution_count": 1,
   "id": "bd21cea5",
   "metadata": {},
   "outputs": [
    {
     "name": "stdout",
     "output_type": "stream",
     "text": [
      "Pandas versión: 2.3.2\n",
      "NumPy versión: 2.3.2\n"
     ]
    }
   ],
   "source": [
    "import numpy as np\n",
    "import pandas as pd\n",
    "\n",
    "print(f\"Pandas versión: {pd.__version__}\")\n",
    "print(f\"NumPy versión: {np.__version__}\")"
   ]
  },
  {
   "cell_type": "markdown",
   "id": "d5391bb6",
   "metadata": {},
   "source": [
    "## Creación de Series\n",
    "\n",
    "Una Series es como un array de NumPy pero con etiquetas (índices)."
   ]
  },
  {
   "cell_type": "code",
   "execution_count": 2,
   "id": "7252c280",
   "metadata": {},
   "outputs": [
    {
     "name": "stdout",
     "output_type": "stream",
     "text": [
      "Serie simple:\n",
      "0    1.0\n",
      "1    3.0\n",
      "2    5.0\n",
      "3    NaN\n",
      "4    6.0\n",
      "5    8.0\n",
      "dtype: float64\n",
      "Tipo de dato: float64\n",
      "Índice: RangeIndex(start=0, stop=6, step=1)\n"
     ]
    }
   ],
   "source": [
    "# Crear Series desde una lista\n",
    "serie_simple = pd.Series([1, 3, 5, np.nan, 6, 8])\n",
    "print(\"Serie simple:\")\n",
    "print(serie_simple)\n",
    "print(f\"Tipo de dato: {serie_simple.dtype}\")\n",
    "print(f\"Índice: {serie_simple.index}\")"
   ]
  },
  {
   "cell_type": "code",
   "execution_count": 3,
   "id": "bc251e27",
   "metadata": {},
   "outputs": [
    {
     "name": "stdout",
     "output_type": "stream",
     "text": [
      "Serie con índice personalizado:\n",
      "a    10\n",
      "b    20\n",
      "c    30\n",
      "d    40\n",
      "Name: Mi Serie, dtype: int64\n",
      "Nombre de la serie: Mi Serie\n"
     ]
    }
   ],
   "source": [
    "# Serie con índice personalizado\n",
    "serie_personalizada = pd.Series([10, 20, 30, 40], \n",
    "                               index=['a', 'b', 'c', 'd'], \n",
    "                               name='Mi Serie')\n",
    "print(\"Serie con índice personalizado:\")\n",
    "print(serie_personalizada)\n",
    "print(f\"Nombre de la serie: {serie_personalizada.name}\")"
   ]
  },
  {
   "cell_type": "markdown",
   "id": "d6c57bd4",
   "metadata": {},
   "source": [
    "## Creación de DataFrames\n",
    "\n",
    "Un DataFrame es como una tabla de Excel o una base de datos: tiene filas y columnas."
   ]
  },
  {
   "cell_type": "code",
   "execution_count": 4,
   "id": "5fcb6167",
   "metadata": {},
   "outputs": [
    {
     "name": "stdout",
     "output_type": "stream",
     "text": [
      "DataFrame desde diccionario:\n",
      "   Nombre  Edad     Ciudad  Salario\n",
      "0     Ana    25     Madrid    30000\n",
      "1    Luis    32  Barcelona    45000\n",
      "2   María    28   Valencia    38000\n",
      "3  Carlos    35    Sevilla    52000\n",
      "\n",
      "Forma del DataFrame: (4, 4)\n",
      "Columnas: ['Nombre', 'Edad', 'Ciudad', 'Salario']\n"
     ]
    }
   ],
   "source": [
    "# DataFrame desde un diccionario\n",
    "datos = {\n",
    "    'Nombre': ['Ana', 'Luis', 'María', 'Carlos'],\n",
    "    'Edad': [25, 32, 28, 35],\n",
    "    'Ciudad': ['Madrid', 'Barcelona', 'Valencia', 'Sevilla'],\n",
    "    'Salario': [30000, 45000, 38000, 52000]\n",
    "}\n",
    "\n",
    "df_personas = pd.DataFrame(datos)\n",
    "print(\"DataFrame desde diccionario:\")\n",
    "print(df_personas)\n",
    "print(f\"\\nForma del DataFrame: {df_personas.shape}\")\n",
    "print(f\"Columnas: {list(df_personas.columns)}\")"
   ]
  },
  {
   "cell_type": "code",
   "execution_count": 5,
   "id": "2f93d632",
   "metadata": {},
   "outputs": [
    {
     "name": "stdout",
     "output_type": "stream",
     "text": [
      "DataFrame con índice de fechas:\n",
      "                   A         B         C         D\n",
      "2024-01-01  2.170644  0.406928  0.415231 -0.225735\n",
      "2024-01-02 -1.530436  0.757825 -1.117148 -0.019799\n",
      "2024-01-03 -1.225197  0.063326 -0.662150  0.541646\n",
      "2024-01-04 -0.827377  0.889814  0.729966 -0.144825\n",
      "2024-01-05 -0.789789  0.568650 -0.149520  0.366265\n",
      "2024-01-06 -1.010662  1.462869 -0.208145  0.142979\n",
      "\n",
      "Tipos de datos:\n",
      "A    float64\n",
      "B    float64\n",
      "C    float64\n",
      "D    float64\n",
      "dtype: object\n"
     ]
    }
   ],
   "source": [
    "# DataFrame con array de NumPy e índice de fechas\n",
    "fechas = pd.date_range('20240101', periods=6)\n",
    "df_numerico = pd.DataFrame(np.random.randn(6, 4), \n",
    "                          index=fechas, \n",
    "                          columns=['A', 'B', 'C', 'D'])\n",
    "print(\"DataFrame con índice de fechas:\")\n",
    "print(df_numerico)\n",
    "print(f\"\\nTipos de datos:\")\n",
    "print(df_numerico.dtypes)"
   ]
  },
  {
   "cell_type": "code",
   "execution_count": 6,
   "id": "3ec49420",
   "metadata": {},
   "outputs": [
    {
     "name": "stdout",
     "output_type": "stream",
     "text": [
      "DataFrame con tipos mixtos:\n",
      "       Entero  Flotante Texto  Booleano      Fecha Categoría\n",
      "fila1       1       1.1     a      True 2024-01-01      bajo\n",
      "fila2       2       2.2     b     False 2024-01-02     medio\n",
      "fila3       3       3.3     c      True 2024-01-03      alto\n",
      "fila4       4       4.4     d     False 2024-01-04     medio\n",
      "\n",
      "Tipos de datos:\n",
      "Entero                int64\n",
      "Flotante            float64\n",
      "Texto                object\n",
      "Booleano               bool\n",
      "Fecha        datetime64[ns]\n",
      "Categoría          category\n",
      "dtype: object\n"
     ]
    }
   ],
   "source": [
    "# DataFrame con tipos de datos mixtos\n",
    "df_mixto = pd.DataFrame({\n",
    "    'Entero': [1, 2, 3, 4],\n",
    "    'Flotante': [1.1, 2.2, 3.3, 4.4],\n",
    "    'Texto': ['a', 'b', 'c', 'd'],\n",
    "    'Booleano': [True, False, True, False],\n",
    "    'Fecha': pd.date_range('20240101', periods=4),\n",
    "    'Categoría': pd.Categorical(['bajo', 'medio', 'alto', 'medio'])\n",
    "}, index=['fila1', 'fila2', 'fila3', 'fila4'])\n",
    "\n",
    "print(\"DataFrame con tipos mixtos:\")\n",
    "print(df_mixto)\n",
    "print(f\"\\nTipos de datos:\")\n",
    "print(df_mixto.dtypes)"
   ]
  },
  {
   "cell_type": "markdown",
   "id": "7d182a84",
   "metadata": {},
   "source": [
    "## Información Básica del DataFrame"
   ]
  },
  {
   "cell_type": "code",
   "execution_count": 7,
   "id": "f620b525",
   "metadata": {},
   "outputs": [
    {
     "name": "stdout",
     "output_type": "stream",
     "text": [
      "Información del DataFrame:\n",
      "<class 'pandas.core.frame.DataFrame'>\n",
      "RangeIndex: 4 entries, 0 to 3\n",
      "Data columns (total 4 columns):\n",
      " #   Column   Non-Null Count  Dtype \n",
      "---  ------   --------------  ----- \n",
      " 0   Nombre   4 non-null      object\n",
      " 1   Edad     4 non-null      int64 \n",
      " 2   Ciudad   4 non-null      object\n",
      " 3   Salario  4 non-null      int64 \n",
      "dtypes: int64(2), object(2)\n",
      "memory usage: 260.0+ bytes\n",
      "None\n",
      "\n",
      "Primeras filas:\n",
      "  Nombre  Edad     Ciudad  Salario\n",
      "0    Ana    25     Madrid    30000\n",
      "1   Luis    32  Barcelona    45000\n",
      "\n",
      "Últimas filas:\n",
      "   Nombre  Edad    Ciudad  Salario\n",
      "2   María    28  Valencia    38000\n",
      "3  Carlos    35   Sevilla    52000\n",
      "\n",
      "Estadísticas descriptivas:\n",
      "            Edad      Salario\n",
      "count   4.000000      4.00000\n",
      "mean   30.000000  41250.00000\n",
      "std     4.396969   9429.56344\n",
      "min    25.000000  30000.00000\n",
      "25%    27.250000  36000.00000\n",
      "50%    30.000000  41500.00000\n",
      "75%    32.750000  46750.00000\n",
      "max    35.000000  52000.00000\n"
     ]
    }
   ],
   "source": [
    "# Información general del DataFrame\n",
    "print(\"Información del DataFrame:\")\n",
    "print(df_personas.info())\n",
    "\n",
    "print(\"\\nPrimeras filas:\")\n",
    "print(df_personas.head(2))\n",
    "\n",
    "print(\"\\nÚltimas filas:\")\n",
    "print(df_personas.tail(2))\n",
    "\n",
    "print(\"\\nEstadísticas descriptivas:\")\n",
    "print(df_personas.describe())"
   ]
  },
  {
   "cell_type": "markdown",
   "id": "ea266f67",
   "metadata": {},
   "source": [
    "## Conversión a NumPy\n",
    "\n",
    "Pandas está construido sobre NumPy, por lo que puedes convertir fácilmente entre ambos."
   ]
  },
  {
   "cell_type": "code",
   "execution_count": 8,
   "id": "0bf2d13f",
   "metadata": {},
   "outputs": [
    {
     "name": "stdout",
     "output_type": "stream",
     "text": [
      "Array de NumPy desde DataFrame:\n",
      "[[ 2.17064374  0.40692751  0.41523113 -0.22573541]\n",
      " [-1.53043575  0.75782506 -1.1171479  -0.01979893]\n",
      " [-1.2251973   0.0633263  -0.66214979  0.54164639]\n",
      " [-0.82737705  0.88981414  0.72996571 -0.14482503]\n",
      " [-0.78978902  0.56864997 -0.14952016  0.36626457]\n",
      " [-1.0106617   1.46286933 -0.20814543  0.14297852]]\n",
      "Tipo: <class 'numpy.ndarray'>\n",
      "Forma: (6, 4)\n",
      "\n",
      "Tipo de array mixto: object\n"
     ]
    }
   ],
   "source": [
    "# Convertir DataFrame a array de NumPy\n",
    "array_numerico = df_numerico.to_numpy()\n",
    "print(\"Array de NumPy desde DataFrame:\")\n",
    "print(array_numerico)\n",
    "print(f\"Tipo: {type(array_numerico)}\")\n",
    "print(f\"Forma: {array_numerico.shape}\")\n",
    "\n",
    "# Nota: al convertir tipos mixtos, se convierte todo a 'object'\n",
    "array_mixto = df_mixto.to_numpy()\n",
    "print(f\"\\nTipo de array mixto: {array_mixto.dtype}\")"
   ]
  }
 ],
 "metadata": {
  "kernelspec": {
   "display_name": ".venv",
   "language": "python",
   "name": "python3"
  },
  "language_info": {
   "codemirror_mode": {
    "name": "ipython",
    "version": 3
   },
   "file_extension": ".py",
   "mimetype": "text/x-python",
   "name": "python",
   "nbconvert_exporter": "python",
   "pygments_lexer": "ipython3",
   "version": "3.12.3"
  }
 },
 "nbformat": 4,
 "nbformat_minor": 5
}
